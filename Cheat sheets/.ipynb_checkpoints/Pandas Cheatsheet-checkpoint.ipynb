{
 "cells": [
  {
   "cell_type": "markdown",
   "metadata": {},
   "source": [
    "# Pandas Cheatsheet"
   ]
  },
  {
   "cell_type": "markdown",
   "metadata": {},
   "source": [
    "- Importing: \n",
    "    - `pd.read_csv(filepath,sep=',',delimeter=None,header='infer'...)` read a csv file into a DataFrame.\n",
    "    - `pd.read_excel`\n",
    "    - `pd.read_json`"
   ]
  },
  {
   "cell_type": "markdown",
   "metadata": {},
   "source": [
    "## General functions \n",
    "- Data manipulations\n",
    "    - `pd.melt(frame,id_vars,value_vars,...)` unpivots a DataFrame from wide to long format. This function is useful to manipulate a DataFrame into a formay where one or more columns are identifier variables, whle all other columns, considered measured variables, are \"unpivoted\" to the row axis.\n",
    "    - `pd.crosstab(index,columns,values,...)` computes a simple cross tabulation of two (or more) factors. By deafult computes a frequency table of the factors unless an array of values and an aggregation function are passed. \n",
    "    - `pd.cut` bins values into discrete intervals.\n",
    "    - `pd.qcut` is a quantile-based discretization function. It discretisizes variables into equal-sized buckets based on rank or on sample quantiles. \n",
    "    - `pd.merge` merges a DataFrame or named Series objects with a database-style join. The join is done on columns or indexes.\n",
    "    - `pd.merge_ordered` performs merge with optional filling/interpolation. Designed for ordered data like time series data. \n",
    "    - `pd.merge_asof` performs an asof merge. This is similar to a left-join except that we match on the nearest key rather than equal keys. Both DataFrames must be sorted by the key. \n",
    "    - `pd.concat` concatenates pandas objects along a particular axis with optional set logic along the other axes. Can also add a layer of hierarchical indexing on the concatenation axis.\n",
    "    - `pd.get_dummies` converts categorical variables into dummy/indicator variables. \n",
    "    - `pd.factorize` encodes an object as an enumerated type or categorical vairable. This method is useful for obtaining a numeric representation of an array when all that matters is identifying distinct values. \n",
    "    - `pd.unique` returnes uniques in order of appearance. \n",
    "    - `pd.wide_to_long` transforms a wide panel to long format. Less flexible, but more user-friendly than melt. \n",
    "    - **`pd.to_numeric`** convert arguments to a numeric type. The default return dtype is *float64* or *int64* depending on the data supplied.\n",
    "- Missing data\n",
    "    - **`pd.isna`** detects missing values (i.e., NaN in numeric arrays, None or NaN in object arrays, NaT in datetimelike). Returns a bool or array-like bool.\n",
    "    - `pd.isnull` is an alias for `pd.isna`. Same thing!\n",
    "    - `pd.notna` detects non-missing values and returns a bool or array-like bool. \n",
    "    - `pd.notnull` is an alias for `pd.notna`. \n",
    "    \n",
    "- Datetime manipulations\n",
    "    - **`pd.to_datetime`** converts arguments to datetime. \n",
    "    - `pd.to_timedelta` converts arguments to timedelta. Timedeltas are absolute differences in times, expressed in difference units (e.g., days, hours, mins, seconds).\n",
    "    - `pd.date_range` returns a fixed frequency DatetimeIndex. \n",
    "    - `pd.bdate_range` returns a fixed frequency DatetimeIndex, with business day as the default frequency.\n",
    "    - `pd.period_range` returns a fixed frequency PeriodIndex.\n",
    "    - `pd.timedelta_range` returns a fixed frequency TimedeltaIndex, with dat as the default frequency.\n",
    "    - `pd.infer_freq` infers the most likely frequency given the input index.\n",
    "    - `pd.interval_range` returns a fixed frequency IntervalIndex.\n",
    "    \n",
    "- Evaluation\n",
    "    - `pd.eval` evaluates a Python expression as a string using various backends. Supported operations: +,-,/,//,**,%, |, &, ~. \n",
    "    \n",
    "- Hashing\n",
    "    - `pd.util.hash_array` when given a 1d array, returns an array of deterministic integers.\n",
    "    - `pd.util.hash_pandas_object` returns a data hash of the Index/Series/DataFrame.\n",
    "    "
   ]
  },
  {
   "cell_type": "markdown",
   "metadata": {},
   "source": [
    "At the very basic level, Pandas objects can be thought of as an enhanced version of NumPy arrays in which the rows and columns are identified with labels rather than simple integer indices. \n",
    "\n",
    "Three fundamental Pandas stuctures are `Series`, `DataFrame`, and `Index`.\n",
    "\n",
    "## Series\n",
    "- A `Series` is a one-dimensional array of indexed data. The essential difference between the `Series` object and a one-dimensional NumPy array is the presence of the index: while the NumPy array has an *implicitly* defined integer index, the Pandas `Series` has an *explicitly* defined index associated with the values. \n",
    "    - The explicit index definition gives the `Series` object additional capabilities. \n",
    "        -  The index doesn't need to be an integer, it can consist of values of any desired type (e.g., string, datetime, etc.)\n",
    "        - The index can be non-contiguous or non-sequential. \n",
    "        \n",
    "### Constructing series objects\n",
    "- General format: `pd.Series(data,index=index)`. Note that index is an optional argument. \n",
    "    - `data` can be a dictionary, in which `index` defaults to the sorted dictionary keys.\n",
    "    \n",
    " Series attributes/functions (some of them):\n",
    " - `pd.Series.index`\n",
    " - `pd.Series.array`\n",
    " - `pd.Series.values`\n",
    " - `pd.Series.dtype`\n",
    " - `pd.Series.shape`\n",
    " "
   ]
  },
  {
   "cell_type": "code",
   "execution_count": null,
   "metadata": {},
   "outputs": [],
   "source": [
    "import numpy as np\n",
    "import pandas as pd"
   ]
  },
  {
   "cell_type": "code",
   "execution_count": null,
   "metadata": {},
   "outputs": [],
   "source": [
    "data = pd.Series([0.25,0.5,0.75,1.0])\n",
    "print(data)"
   ]
  },
  {
   "cell_type": "code",
   "execution_count": null,
   "metadata": {},
   "outputs": [],
   "source": [
    "data.values"
   ]
  },
  {
   "cell_type": "code",
   "execution_count": null,
   "metadata": {},
   "outputs": [],
   "source": [
    "data.index"
   ]
  },
  {
   "cell_type": "code",
   "execution_count": 31,
   "metadata": {},
   "outputs": [
    {
     "data": {
      "text/html": [
       "<div>\n",
       "<style scoped>\n",
       "    .dataframe tbody tr th:only-of-type {\n",
       "        vertical-align: middle;\n",
       "    }\n",
       "\n",
       "    .dataframe tbody tr th {\n",
       "        vertical-align: top;\n",
       "    }\n",
       "\n",
       "    .dataframe thead th {\n",
       "        text-align: right;\n",
       "    }\n",
       "</style>\n",
       "<table border=\"1\" class=\"dataframe\">\n",
       "  <thead>\n",
       "    <tr style=\"text-align: right;\">\n",
       "      <th></th>\n",
       "      <th>B</th>\n",
       "    </tr>\n",
       "  </thead>\n",
       "  <tbody>\n",
       "    <tr>\n",
       "      <th>0</th>\n",
       "      <td>0.0</td>\n",
       "    </tr>\n",
       "    <tr>\n",
       "      <th>1</th>\n",
       "      <td>1.0</td>\n",
       "    </tr>\n",
       "    <tr>\n",
       "      <th>2</th>\n",
       "      <td>2.0</td>\n",
       "    </tr>\n",
       "    <tr>\n",
       "      <th>3</th>\n",
       "      <td>NaN</td>\n",
       "    </tr>\n",
       "    <tr>\n",
       "      <th>4</th>\n",
       "      <td>4.0</td>\n",
       "    </tr>\n",
       "  </tbody>\n",
       "</table>\n",
       "</div>"
      ],
      "text/plain": [
       "     B\n",
       "0  0.0\n",
       "1  1.0\n",
       "2  2.0\n",
       "3  NaN\n",
       "4  4.0"
      ]
     },
     "execution_count": 31,
     "metadata": {},
     "output_type": "execute_result"
    }
   ],
   "source": [
    "df = pd.DataFrame({'B': [0, 1, 2, np.nan, 4]})\n",
    "df"
   ]
  },
  {
   "cell_type": "code",
   "execution_count": 32,
   "metadata": {},
   "outputs": [
    {
     "data": {
      "text/html": [
       "<div>\n",
       "<style scoped>\n",
       "    .dataframe tbody tr th:only-of-type {\n",
       "        vertical-align: middle;\n",
       "    }\n",
       "\n",
       "    .dataframe tbody tr th {\n",
       "        vertical-align: top;\n",
       "    }\n",
       "\n",
       "    .dataframe thead th {\n",
       "        text-align: right;\n",
       "    }\n",
       "</style>\n",
       "<table border=\"1\" class=\"dataframe\">\n",
       "  <thead>\n",
       "    <tr style=\"text-align: right;\">\n",
       "      <th></th>\n",
       "      <th>B</th>\n",
       "    </tr>\n",
       "  </thead>\n",
       "  <tbody>\n",
       "    <tr>\n",
       "      <th>0</th>\n",
       "      <td>NaN</td>\n",
       "    </tr>\n",
       "    <tr>\n",
       "      <th>1</th>\n",
       "      <td>0.5</td>\n",
       "    </tr>\n",
       "    <tr>\n",
       "      <th>2</th>\n",
       "      <td>1.5</td>\n",
       "    </tr>\n",
       "    <tr>\n",
       "      <th>3</th>\n",
       "      <td>NaN</td>\n",
       "    </tr>\n",
       "    <tr>\n",
       "      <th>4</th>\n",
       "      <td>NaN</td>\n",
       "    </tr>\n",
       "  </tbody>\n",
       "</table>\n",
       "</div>"
      ],
      "text/plain": [
       "     B\n",
       "0  NaN\n",
       "1  0.5\n",
       "2  1.5\n",
       "3  NaN\n",
       "4  NaN"
      ]
     },
     "execution_count": 32,
     "metadata": {},
     "output_type": "execute_result"
    }
   ],
   "source": [
    "df.rolling(2, win_type='triang').sum()"
   ]
  },
  {
   "cell_type": "code",
   "execution_count": 33,
   "metadata": {},
   "outputs": [
    {
     "data": {
      "text/html": [
       "<div>\n",
       "<style scoped>\n",
       "    .dataframe tbody tr th:only-of-type {\n",
       "        vertical-align: middle;\n",
       "    }\n",
       "\n",
       "    .dataframe tbody tr th {\n",
       "        vertical-align: top;\n",
       "    }\n",
       "\n",
       "    .dataframe thead th {\n",
       "        text-align: right;\n",
       "    }\n",
       "</style>\n",
       "<table border=\"1\" class=\"dataframe\">\n",
       "  <thead>\n",
       "    <tr style=\"text-align: right;\">\n",
       "      <th></th>\n",
       "      <th>B</th>\n",
       "    </tr>\n",
       "  </thead>\n",
       "  <tbody>\n",
       "    <tr>\n",
       "      <th>0</th>\n",
       "      <td>NaN</td>\n",
       "    </tr>\n",
       "    <tr>\n",
       "      <th>1</th>\n",
       "      <td>1.0</td>\n",
       "    </tr>\n",
       "    <tr>\n",
       "      <th>2</th>\n",
       "      <td>3.0</td>\n",
       "    </tr>\n",
       "    <tr>\n",
       "      <th>3</th>\n",
       "      <td>3.0</td>\n",
       "    </tr>\n",
       "    <tr>\n",
       "      <th>4</th>\n",
       "      <td>7.0</td>\n",
       "    </tr>\n",
       "  </tbody>\n",
       "</table>\n",
       "</div>"
      ],
      "text/plain": [
       "     B\n",
       "0  NaN\n",
       "1  1.0\n",
       "2  3.0\n",
       "3  3.0\n",
       "4  7.0"
      ]
     },
     "execution_count": 33,
     "metadata": {},
     "output_type": "execute_result"
    }
   ],
   "source": [
    "df.expanding(2).sum()"
   ]
  },
  {
   "cell_type": "code",
   "execution_count": null,
   "metadata": {},
   "outputs": [],
   "source": [
    "pd.Series([2,4,5])"
   ]
  },
  {
   "cell_type": "code",
   "execution_count": null,
   "metadata": {},
   "outputs": [],
   "source": [
    "pd.Series({2:'a',1:'b',3:'c'})"
   ]
  },
  {
   "cell_type": "markdown",
   "metadata": {},
   "source": [
    "Dictionary to Pandas Series. By default, a `Series` will be created where the index is drawn from the sorted keys. "
   ]
  },
  {
   "cell_type": "markdown",
   "metadata": {},
   "source": [
    "## DataFrame\n",
    "A `DataFrame` is an analog of a two-dimensional array with both flexible row indices and flexible column names. \n",
    "\n",
    "`pd.DataFrame(data,index,columns,dtype,copy)`\n",
    "\n",
    "DataFrame attributes/functions (some of them):\n",
    "\n",
    "- Attributes and underlying data:\n",
    "    - `pd.DataFrame.index` returns the index (row labels) of the DataFrame as well as the dtype of the index. \n",
    "    - `pd.DataFrame.columns` returns the names of the columns.\n",
    "    - `pd.DataFrame.dtypes` returns a series with the dtypes of each column in the DataFrame. The result's index is the original DataFrame's columns. \n",
    "    - `pd.DataFrame.info(verbose=True)` prints information about a DataFrame including the index dtype and columns, non-null values and memory usage. \n",
    "    - `pd.DataFrame.shape` returns a tuple representing the dimensionality of the DataFrame.\n",
    "    - `pd.DataFrame.values` returns a NumPy representation of the DataFrame, only the values in the DataFrame will be returned, the axes labels will be removed.\n",
    "    - `pd.DataFrame.axes` returns a list representing the axs of the DataFrame.\n",
    "    - `pd.DataFrame.ndim` returns an int representing the number of axes/array dimensions. \n",
    "    - `pd.DataFrame.size` returns an int representing the number of elements in this object.\n",
    "    - `pd.DataFrame.memory_usage` returns the memory usage of each column in bytes. \n",
    "    - `pd.DataFrame.empty` returns True if the DataFrame is entirely empty\n",
    "    - `pd.DataFrame.attrs` returns a dictionary storing global metadata for this DataFrame.\n",
    "    \n",
    "- Type conversion \n",
    "    - `pd.DataFrame.astype()` cast a pandas object to a specified dtype.\n",
    "    - `pd.DataFrame.convert_dtypes()` convert columns to best possible dtypes using dtypes supporting pd.NA.\n",
    "    - `pd.DataFrame.infer_objects` attempts to infer better dtypes for object columns. \n",
    "\n",
    "- Info:\n",
    "    - `pd.DataFrame.keys()` returns 'info axis' (columns)\n",
    "\n",
    "- Selection:\n",
    "    - `pd.DataFrame.head`\n",
    "    - `pd.DataFrame.tail`\n",
    "    - `pd.DataFrame.loc[]` accesses a group of rows and columns by label(s) or a boolean array. Note using `[[label(s)/boolean array(s]]` returns a DataFrame. \n",
    "    - `pd.DataFrame.iloc` accesses a group of rows and columns by integer position \n",
    "    - `pd.DataFrame.select_dtypes(include=None,exclude=None)` returns a subset of the DataFrame's columns based on the column dtypes specified to include or exclude. \n",
    "    - `pd.DataFrame.at[row,col]` accesses a single value for a row/column label pair.\n",
    "    - `pd.DataFrame.iat[row_i,col_i]` accesses a single value for a row/column pair by integer position.\n",
    "    - `pd.DataFrame.lookup` when given an equal-length arrays of rows and column labels, returns an array of the values corresponding to each (row,col) pair.\n",
    "    - `pd.DataFrame.pop`\n",
    "    - `pd.DataFrame.at_time`\n",
    "    - `pd.DataFrame.between_time`\n",
    "    - `pd.DataFrame.filter`\n",
    "    - `pd.DataFrame.first`\n",
    "    - `pd.DataFrame.last`\n",
    "    - `pd.DataFrame.sample`\n",
    "    - `pd.DataFrame.groupby`\n",
    "    - `pd.DataFrame.xs`\n",
    "    - `pd.DataFrame.take`\n",
    "    - `pd.DataFrame.get`\n",
    "    - `pd.DataFrame.query`\n",
    "\n",
    "- Changing: \n",
    "    - `pd.DataFrame.insert(loc,column,value)` inserts column into DataFrame at specified location. \n",
    "    - `pd.DataFrame.where`\n",
    "    `pd.DataFrame.mask`\n",
    "    - `pd.DataFrame.update`\n",
    "\n",
    "- Iteration:\n",
    "    - `pd.DataFrame.__iter__()` iterate over the columns. \n",
    "    - `pd.DataFrame.iteritems()` iterate over the columns, returning a tuple with the column name and content as a Series. \n",
    "    - `pd.DataFrame.items()` iterate over the columns, returning a tuple with the column name and the content as a series. \n",
    "    - `pd.DataFrame.iterrows()` iterate over the DataFrame rows as (index,Series) pairs. \n",
    "    - `pd.DataFrame.itertuples()` iterate over DataFrame rows as named tuples. \n",
    "      \n",
    "- Data manipulation\n",
    "    - `pd.DataFrame.drop`\n",
    "    - `pd.DataFrame.drop_duplicates`\n",
    "    - `pd.DataFrame.replace`\n",
    "    - `pd.DataFrame.clip`\n",
    "    - `pd.DataFrame.explode`\n",
    "\n",
    "- Sorting\n",
    "    - `pd.DataFrame.reorder_levels`\n",
    "    - `pd.DataFrame.sort_values`\n",
    "    - `pd.DataFrame.sort_index`\n",
    "    - `pd.DataFrame.nlargest`\n",
    "    - `pd.DataFrame.nsmallest`\n",
    "    \n",
    "- Reshaping\n",
    "    - `pd.DataFrame.melt`\n",
    "    - `pd.DataFrame.pivot`\n",
    "    - `pd.DataFrame.pivot_table`\n",
    "    - `pd.DataFrame.T`\n",
    "    - `pd.DataFrame.transpose`\n",
    "    - `pd.DataFrame.stack`\n",
    "    - `pd.DataFrame.unstack`\n",
    "    - `pd.DataFrame.truncate`\n",
    "    - `pd.DataFrame.squeeze`\n",
    "    - `pd.DataFrame.swapaxes`\n",
    "    - `pd.DataFrame.append`\n",
    "    - `pd.DataFrame.to_xarray`\n",
    "    - `pd.DataFrame.assign`\n",
    "    - `pd.DataFrame.droplevel`\n",
    "\n",
    "- Joining/merging\n",
    "    - `pd.DataFrame.join`\n",
    "    - `pd.DataFrame.merge`\n",
    "    - `pd.DataFrame.align`\n",
    "    - `pd.DataFrame.combine`\n",
    "    - `pd.DataFrame.combine_first`\n",
    "\n",
    "- Math: \n",
    "    - `pd.DataFrame.add`\n",
    "    - `pd.DataFrame.sub`\n",
    "    - `pd.DataFrame.div`\n",
    "    - `pd.DataFrame.mul`\n",
    "    - `pd.DataFrame.truediv`\n",
    "    - `pd.DataFrame.floordiv`\n",
    "    - `pd.DataFrame.mod`\n",
    "    - `pd.DataFrame.pow`\n",
    "    - `pd.DataFrame.dot`\n",
    "    - `pd.DataFrame.radd`\n",
    "    - `pd.DataFrame.rsub`\n",
    "    - `pd.DataFrame.rmul`\n",
    "    - `pd.DataFrame.rdiv`\n",
    "    - `pd.DataFrame.rtruediv`\n",
    "    - `pd.DataFrame.rfloordiv`\n",
    "    - `pd.DataFrame.rmod`\n",
    "    - `pd.DataFrame.rpow`\n",
    "    \n",
    "- Function application\n",
    "    - `pd.DataFrame.apply()`\n",
    "    - `pd.DataFrame.applymap`\n",
    "    - `pd.DataFrame.pipe`\n",
    "    - `pd.DataFrame.agg`\n",
    "    - `pd.DataFrame.aggregate`\n",
    "    - `pd.DataFrame.eval`????\n",
    "    - `pd.DataFrame.transform`\n",
    "    - `pd.DataFrame.rolling`\n",
    "    - `pd.DataFrame.expanding`\n",
    "\n",
    "- Null values\n",
    "    - `pd.DataFrame.isna`\n",
    "    - `pd.DataFrame.isnull`\n",
    "    - `pd.DataFrame.notna`\n",
    "    - `pd.DataFrame.notnull`\n",
    "    - `pd.DataFrame.fillna`\n",
    "    - `pd.DataFrame.dropna`\n",
    "    - `pd.DataFrame.backfill`\n",
    "    - `pd.DataFrame.bfill`\n",
    "    - `pd.DataFrame.ffill`\n",
    "    - `pd.DataFrame.interpolate`\n",
    "    - `pd.DataFrame.pad`\n",
    "\n",
    "- Computations/descriptive stats\n",
    "    - **`pd.DataFrame.describe`**\n",
    "    - `pd.DataFrame.abs`\n",
    "    - `pd.DataFrame.corr`\n",
    "    - `pd.DataFrame.corrwith`\n",
    "    - `pd.DataFrame.cov`\n",
    "    - `pd.DataFrame.quantile`\n",
    "    - `pd.DataFrame.cummax`\n",
    "    - `pd.DataFrame.cummin`\n",
    "    - `pd.DataFrame.cumprod`\n",
    "    - `pd.DataFrame.cumsum`\n",
    "    - `pd.DataFrame.diff`\n",
    "    - `pd.DataFrame.kurt`\n",
    "    - `pd.DataFrame.kurtosis`\n",
    "    - `pd.DataFrame.mad`\n",
    "    - `pd.DataFrame.max`\n",
    "    - `pd.DataFrame.median`\n",
    "    - `pd.DataFrame.min`\n",
    "    - `pd.DataFrame.mode`\n",
    "    - `pd.DataFrame.count`\n",
    "    - `pd.DataFrame.rank`\n",
    "    - `pd.DataFrame.round`\n",
    "    - `pd.DataFrame.sem`\n",
    "    - `pd.DataFrame.skew`\n",
    "    - `pd.DataFrame.sum`\n",
    "    - `pd.DataFrame.std`\n",
    "    - `pd.DataFrame.var`\n",
    "    - `pd.DataFrame.nunique`\n",
    "    - `pd.DataFrame.value_counts`\n",
    "    - `pd.DataFrame.pct_change`\n",
    "    - `pd.DataFrame.prod`\n",
    "    - `pd.DataFrame.product`\n",
    "    \n",
    "- Time Series-related\n",
    "    - `pd.DataFrame.asfreq`\n",
    "    - `pd.DataFrame.asof`\n",
    "    - `pd.DataFrame.shift`\n",
    "    - `pd.DataFrame.to_period`\n",
    "    - `pd.DataFrame.to_timestamp`\n",
    "    - `pd.DataFrame.resample`\n",
    "\n",
    "- Reindex\n",
    "    - `pd.DataFrame.reindex`\n",
    "    - `pd.DataFrame.reindex_like`\n",
    "    - `pd.DataFrame.set_index`\n",
    "    - `pd.DataFrame.idxmin`\n",
    "    - `pd.DataFrame.idxmax`  \n",
    "\n",
    "- Label manipulation\n",
    "    - `pd.DataFrame.add_prefix`\n",
    "    - `pd.DataFrame.add_suffix`\n",
    "    - `pd.DataFrame.rename`\n",
    "    - `pd.DataFrame.rename_axis`\n",
    "    - `pd.DataFrame.reset_index`\n",
    "    - `pd.DataFrame.set_axis`\n",
    "\n",
    "- Boolean\n",
    "    - `pd.DataFrame.all`\n",
    "    - `pd.DataFrame.any`\n",
    "    - `pd.DataFrame.duplicated`\n",
    "    - `pd.DataFrame.isin`\n",
    "\n",
    "- Copies\n",
    "    - `pd.DataFrame.copy(deep=True)` makes a copy of this object's indices and data. When deep=True modifications to the data or indices of the copy will not be reflected in the original object. When deep=False, any changes of the original will be reflected in the shallow copy (and vice versa). \n",
    "\n",
    "- Comparison\n",
    "    - `pd.DataFrame.equals` test whether two objects contain the same elements. \n",
    "    - `pd.DataFrame.compare` compare to another DataFrame and show the differences. \n",
    "    \n",
    "- Style:\n",
    "    - `pd.DataFrame.style` returns a Styler object which contains methods for building a styled HTML representation of the DataFrame. This can be used to do things like highlight null values, apply a color map, apply background gradients, etc. See [documentation](https://pandas.pydata.org/pandas-docs/stable/user_guide/style.html)."
   ]
  },
  {
   "cell_type": "code",
   "execution_count": 36,
   "metadata": {},
   "outputs": [
    {
     "data": {
      "text/html": [
       "<div>\n",
       "<style scoped>\n",
       "    .dataframe tbody tr th:only-of-type {\n",
       "        vertical-align: middle;\n",
       "    }\n",
       "\n",
       "    .dataframe tbody tr th {\n",
       "        vertical-align: top;\n",
       "    }\n",
       "\n",
       "    .dataframe thead th {\n",
       "        text-align: right;\n",
       "    }\n",
       "</style>\n",
       "<table border=\"1\" class=\"dataframe\">\n",
       "  <thead>\n",
       "    <tr style=\"text-align: right;\">\n",
       "      <th></th>\n",
       "      <th>col_0</th>\n",
       "      <th>col_1</th>\n",
       "    </tr>\n",
       "  </thead>\n",
       "  <tbody>\n",
       "    <tr>\n",
       "      <th>0</th>\n",
       "      <td>9</td>\n",
       "      <td>-2</td>\n",
       "    </tr>\n",
       "    <tr>\n",
       "      <th>1</th>\n",
       "      <td>-3</td>\n",
       "      <td>-7</td>\n",
       "    </tr>\n",
       "    <tr>\n",
       "      <th>2</th>\n",
       "      <td>0</td>\n",
       "      <td>6</td>\n",
       "    </tr>\n",
       "    <tr>\n",
       "      <th>3</th>\n",
       "      <td>-1</td>\n",
       "      <td>8</td>\n",
       "    </tr>\n",
       "    <tr>\n",
       "      <th>4</th>\n",
       "      <td>5</td>\n",
       "      <td>-5</td>\n",
       "    </tr>\n",
       "  </tbody>\n",
       "</table>\n",
       "</div>"
      ],
      "text/plain": [
       "   col_0  col_1\n",
       "0      9     -2\n",
       "1     -3     -7\n",
       "2      0      6\n",
       "3     -1      8\n",
       "4      5     -5"
      ]
     },
     "execution_count": 36,
     "metadata": {},
     "output_type": "execute_result"
    }
   ],
   "source": [
    "data = {'col_0': [9, -3, 0, -1, 5], 'col_1': [-2, -7, 6, 8, -5]}\n",
    "df= pd.DataFrame(data)\n",
    "df"
   ]
  },
  {
   "cell_type": "code",
   "execution_count": 37,
   "metadata": {},
   "outputs": [
    {
     "data": {
      "text/html": [
       "<div>\n",
       "<style scoped>\n",
       "    .dataframe tbody tr th:only-of-type {\n",
       "        vertical-align: middle;\n",
       "    }\n",
       "\n",
       "    .dataframe tbody tr th {\n",
       "        vertical-align: top;\n",
       "    }\n",
       "\n",
       "    .dataframe thead th {\n",
       "        text-align: right;\n",
       "    }\n",
       "</style>\n",
       "<table border=\"1\" class=\"dataframe\">\n",
       "  <thead>\n",
       "    <tr style=\"text-align: right;\">\n",
       "      <th></th>\n",
       "      <th>col_0</th>\n",
       "      <th>col_1</th>\n",
       "    </tr>\n",
       "  </thead>\n",
       "  <tbody>\n",
       "    <tr>\n",
       "      <th>0</th>\n",
       "      <td>6</td>\n",
       "      <td>-2</td>\n",
       "    </tr>\n",
       "    <tr>\n",
       "      <th>1</th>\n",
       "      <td>-3</td>\n",
       "      <td>-4</td>\n",
       "    </tr>\n",
       "    <tr>\n",
       "      <th>2</th>\n",
       "      <td>0</td>\n",
       "      <td>6</td>\n",
       "    </tr>\n",
       "    <tr>\n",
       "      <th>3</th>\n",
       "      <td>-1</td>\n",
       "      <td>6</td>\n",
       "    </tr>\n",
       "    <tr>\n",
       "      <th>4</th>\n",
       "      <td>5</td>\n",
       "      <td>-4</td>\n",
       "    </tr>\n",
       "  </tbody>\n",
       "</table>\n",
       "</div>"
      ],
      "text/plain": [
       "   col_0  col_1\n",
       "0      6     -2\n",
       "1     -3     -4\n",
       "2      0      6\n",
       "3     -1      6\n",
       "4      5     -4"
      ]
     },
     "execution_count": 37,
     "metadata": {},
     "output_type": "execute_result"
    }
   ],
   "source": [
    "df.clip(-4,6)"
   ]
  },
  {
   "cell_type": "code",
   "execution_count": 40,
   "metadata": {},
   "outputs": [
    {
     "data": {
      "text/html": [
       "<div>\n",
       "<style scoped>\n",
       "    .dataframe tbody tr th:only-of-type {\n",
       "        vertical-align: middle;\n",
       "    }\n",
       "\n",
       "    .dataframe tbody tr th {\n",
       "        vertical-align: top;\n",
       "    }\n",
       "\n",
       "    .dataframe thead th {\n",
       "        text-align: right;\n",
       "    }\n",
       "</style>\n",
       "<table border=\"1\" class=\"dataframe\">\n",
       "  <thead>\n",
       "    <tr style=\"text-align: right;\">\n",
       "      <th></th>\n",
       "      <th>A</th>\n",
       "      <th>B</th>\n",
       "    </tr>\n",
       "  </thead>\n",
       "  <tbody>\n",
       "    <tr>\n",
       "      <th>0</th>\n",
       "      <td>[1, 2, 3]</td>\n",
       "      <td>1</td>\n",
       "    </tr>\n",
       "    <tr>\n",
       "      <th>1</th>\n",
       "      <td>foo</td>\n",
       "      <td>1</td>\n",
       "    </tr>\n",
       "    <tr>\n",
       "      <th>2</th>\n",
       "      <td>[]</td>\n",
       "      <td>1</td>\n",
       "    </tr>\n",
       "    <tr>\n",
       "      <th>3</th>\n",
       "      <td>[3, 4]</td>\n",
       "      <td>1</td>\n",
       "    </tr>\n",
       "  </tbody>\n",
       "</table>\n",
       "</div>"
      ],
      "text/plain": [
       "           A  B\n",
       "0  [1, 2, 3]  1\n",
       "1        foo  1\n",
       "2         []  1\n",
       "3     [3, 4]  1"
      ]
     },
     "execution_count": 40,
     "metadata": {},
     "output_type": "execute_result"
    }
   ],
   "source": [
    "df = pd.DataFrame({'A': [[1, 2, 3], 'foo', [], [3, 4]], 'B': 1})\n",
    "df"
   ]
  },
  {
   "cell_type": "code",
   "execution_count": 46,
   "metadata": {},
   "outputs": [
    {
     "data": {
      "text/plain": [
       "'0.23.4'"
      ]
     },
     "execution_count": 46,
     "metadata": {},
     "output_type": "execute_result"
    }
   ],
   "source": [
    "pd.__version__"
   ]
  },
  {
   "cell_type": "code",
   "execution_count": 49,
   "metadata": {},
   "outputs": [
    {
     "name": "stdout",
     "output_type": "stream",
     "text": [
      "Requirement already up-to-date: ipython in /Applications/anaconda3/lib/python3.7/site-packages (7.18.1)\n",
      "Requirement already satisfied, skipping upgrade: backcall in /Applications/anaconda3/lib/python3.7/site-packages (from ipython) (0.2.0)\n",
      "Requirement already satisfied, skipping upgrade: jedi>=0.10 in /Applications/anaconda3/lib/python3.7/site-packages (from ipython) (0.17.1)\n",
      "Requirement already satisfied, skipping upgrade: decorator in /Applications/anaconda3/lib/python3.7/site-packages (from ipython) (4.4.2)\n",
      "Requirement already satisfied, skipping upgrade: traitlets>=4.2 in /Applications/anaconda3/lib/python3.7/site-packages (from ipython) (5.0.5)\n",
      "Requirement already satisfied, skipping upgrade: prompt-toolkit!=3.0.0,!=3.0.1,<3.1.0,>=2.0.0 in /Applications/anaconda3/lib/python3.7/site-packages (from ipython) (3.0.8)\n",
      "Requirement already satisfied, skipping upgrade: pexpect>4.3; sys_platform != \"win32\" in /Applications/anaconda3/lib/python3.7/site-packages (from ipython) (4.8.0)\n",
      "Requirement already satisfied, skipping upgrade: setuptools>=18.5 in /Applications/anaconda3/lib/python3.7/site-packages (from ipython) (50.3.0.post20201006)\n",
      "Requirement already satisfied, skipping upgrade: appnope; sys_platform == \"darwin\" in /Applications/anaconda3/lib/python3.7/site-packages (from ipython) (0.1.0)\n",
      "Requirement already satisfied, skipping upgrade: pickleshare in /Applications/anaconda3/lib/python3.7/site-packages (from ipython) (0.7.5)\n",
      "Requirement already satisfied, skipping upgrade: pygments in /Applications/anaconda3/lib/python3.7/site-packages (from ipython) (2.7.1)\n",
      "Requirement already satisfied, skipping upgrade: parso<0.8.0,>=0.7.0 in /Applications/anaconda3/lib/python3.7/site-packages (from jedi>=0.10->ipython) (0.7.0)\n",
      "Requirement already satisfied, skipping upgrade: ipython-genutils in /Applications/anaconda3/lib/python3.7/site-packages (from traitlets>=4.2->ipython) (0.2.0)\n",
      "Requirement already satisfied, skipping upgrade: wcwidth in /Applications/anaconda3/lib/python3.7/site-packages (from prompt-toolkit!=3.0.0,!=3.0.1,<3.1.0,>=2.0.0->ipython) (0.2.5)\n",
      "Requirement already satisfied, skipping upgrade: ptyprocess>=0.5 in /Applications/anaconda3/lib/python3.7/site-packages (from pexpect>4.3; sys_platform != \"win32\"->ipython) (0.6.0)\n",
      "Note: you may need to restart the kernel to use updated packages.\n"
     ]
    }
   ],
   "source": [
    "pip install --upgrade ipython\n"
   ]
  },
  {
   "cell_type": "code",
   "execution_count": 47,
   "metadata": {},
   "outputs": [
    {
     "name": "stdout",
     "output_type": "stream",
     "text": [
      "Requirement already up-to-date: pandas in /Applications/anaconda3/lib/python3.7/site-packages (1.1.3)\r\n",
      "Requirement already satisfied, skipping upgrade: numpy>=1.15.4 in /Applications/anaconda3/lib/python3.7/site-packages (from pandas) (1.18.5)\r\n",
      "Requirement already satisfied, skipping upgrade: pytz>=2017.2 in /Applications/anaconda3/lib/python3.7/site-packages (from pandas) (2020.1)\r\n",
      "Requirement already satisfied, skipping upgrade: python-dateutil>=2.7.3 in /Applications/anaconda3/lib/python3.7/site-packages (from pandas) (2.8.1)\r\n",
      "Requirement already satisfied, skipping upgrade: six>=1.5 in /Applications/anaconda3/lib/python3.7/site-packages (from python-dateutil>=2.7.3->pandas) (1.15.0)\r\n"
     ]
    }
   ],
   "source": [
    "!pip install --upgrade pandas"
   ]
  },
  {
   "cell_type": "code",
   "execution_count": 56,
   "metadata": {},
   "outputs": [
    {
     "name": "stdout",
     "output_type": "stream",
     "text": [
      "Object `pd.df.explode()` not found.\n"
     ]
    }
   ],
   "source": [
    "?pd.df.explode()"
   ]
  },
  {
   "cell_type": "code",
   "execution_count": null,
   "metadata": {},
   "outputs": [],
   "source": [
    "df = pd.DataFrame([[0, 2, 3], [0, 4, 1], [10, 20, 30]],\n",
    "                  index=[4, 5, 6], columns=['A', 'B', 'C'])"
   ]
  },
  {
   "cell_type": "code",
   "execution_count": null,
   "metadata": {},
   "outputs": [],
   "source": [
    "for i in df.iteritems():\n",
    "    print(i)"
   ]
  },
  {
   "cell_type": "code",
   "execution_count": null,
   "metadata": {},
   "outputs": [],
   "source": [
    "df = pd.DataFrame([[0, 2, 3], [0, 4, 1], [10, 20, 30]],\n",
    "                  index=['a', 5, 6], columns=['A', 'B', 'C'])"
   ]
  },
  {
   "cell_type": "code",
   "execution_count": null,
   "metadata": {},
   "outputs": [],
   "source": [
    "df.index"
   ]
  },
  {
   "cell_type": "code",
   "execution_count": null,
   "metadata": {},
   "outputs": [],
   "source": [
    "df.info(memory_usage='deep',verbose=True,null_counts=True)"
   ]
  },
  {
   "cell_type": "code",
   "execution_count": 23,
   "metadata": {},
   "outputs": [
    {
     "data": {
      "text/html": [
       "<div>\n",
       "<style scoped>\n",
       "    .dataframe tbody tr th:only-of-type {\n",
       "        vertical-align: middle;\n",
       "    }\n",
       "\n",
       "    .dataframe tbody tr th {\n",
       "        vertical-align: top;\n",
       "    }\n",
       "\n",
       "    .dataframe thead th {\n",
       "        text-align: right;\n",
       "    }\n",
       "</style>\n",
       "<table border=\"1\" class=\"dataframe\">\n",
       "  <thead>\n",
       "    <tr style=\"text-align: right;\">\n",
       "      <th></th>\n",
       "      <th>num_legs</th>\n",
       "      <th>num_wings</th>\n",
       "    </tr>\n",
       "  </thead>\n",
       "  <tbody>\n",
       "    <tr>\n",
       "      <th>falcon</th>\n",
       "      <td>2</td>\n",
       "      <td>2</td>\n",
       "    </tr>\n",
       "    <tr>\n",
       "      <th>dog</th>\n",
       "      <td>4</td>\n",
       "      <td>0</td>\n",
       "    </tr>\n",
       "  </tbody>\n",
       "</table>\n",
       "</div>"
      ],
      "text/plain": [
       "        num_legs  num_wings\n",
       "falcon         2          2\n",
       "dog            4          0"
      ]
     },
     "execution_count": 23,
     "metadata": {},
     "output_type": "execute_result"
    }
   ],
   "source": [
    "df = pd.DataFrame({'num_legs': [2, 4], 'num_wings': [2, 0]},\n",
    "                  index=['falcon', 'dog'])\n",
    "df"
   ]
  },
  {
   "cell_type": "code",
   "execution_count": 29,
   "metadata": {},
   "outputs": [
    {
     "data": {
      "text/html": [
       "<div>\n",
       "<style scoped>\n",
       "    .dataframe tbody tr th:only-of-type {\n",
       "        vertical-align: middle;\n",
       "    }\n",
       "\n",
       "    .dataframe tbody tr th {\n",
       "        vertical-align: top;\n",
       "    }\n",
       "\n",
       "    .dataframe thead th {\n",
       "        text-align: right;\n",
       "    }\n",
       "</style>\n",
       "<table border=\"1\" class=\"dataframe\">\n",
       "  <thead>\n",
       "    <tr style=\"text-align: right;\">\n",
       "      <th></th>\n",
       "      <th></th>\n",
       "      <th>num_legs</th>\n",
       "      <th>num_wings</th>\n",
       "    </tr>\n",
       "    <tr>\n",
       "      <th>animal</th>\n",
       "      <th>locomotion</th>\n",
       "      <th></th>\n",
       "      <th></th>\n",
       "    </tr>\n",
       "  </thead>\n",
       "  <tbody>\n",
       "    <tr>\n",
       "      <th>cat</th>\n",
       "      <th>walks</th>\n",
       "      <td>4</td>\n",
       "      <td>0</td>\n",
       "    </tr>\n",
       "    <tr>\n",
       "      <th>dog</th>\n",
       "      <th>walks</th>\n",
       "      <td>4</td>\n",
       "      <td>0</td>\n",
       "    </tr>\n",
       "    <tr>\n",
       "      <th>bat</th>\n",
       "      <th>flies</th>\n",
       "      <td>2</td>\n",
       "      <td>2</td>\n",
       "    </tr>\n",
       "  </tbody>\n",
       "</table>\n",
       "</div>"
      ],
      "text/plain": [
       "                   num_legs  num_wings\n",
       "animal locomotion                     \n",
       "cat    walks              4          0\n",
       "dog    walks              4          0\n",
       "bat    flies              2          2"
      ]
     },
     "execution_count": 29,
     "metadata": {},
     "output_type": "execute_result"
    }
   ],
   "source": [
    "d = {'num_legs': [4, 4, 2, 2],\n",
    "     'num_wings': [0, 0, 2, 2],\n",
    "     'class': ['mammal', 'mammal', 'mammal', 'bird'],\n",
    "     'animal': ['cat', 'dog', 'bat', 'penguin'],\n",
    "     'locomotion': ['walks', 'walks', 'flies', 'walks']}\n",
    "\n",
    "df = pd.DataFrame(data=d)\n",
    "df = df.set_index(['class', 'animal', 'locomotion'])\n",
    "\n",
    "df.xs('mammal')"
   ]
  },
  {
   "cell_type": "code",
   "execution_count": 24,
   "metadata": {},
   "outputs": [
    {
     "data": {
      "text/html": [
       "<div>\n",
       "<style scoped>\n",
       "    .dataframe tbody tr th:only-of-type {\n",
       "        vertical-align: middle;\n",
       "    }\n",
       "\n",
       "    .dataframe tbody tr th {\n",
       "        vertical-align: top;\n",
       "    }\n",
       "\n",
       "    .dataframe thead th {\n",
       "        text-align: right;\n",
       "    }\n",
       "</style>\n",
       "<table border=\"1\" class=\"dataframe\">\n",
       "  <thead>\n",
       "    <tr style=\"text-align: right;\">\n",
       "      <th></th>\n",
       "      <th>num_legs</th>\n",
       "      <th>num_wings</th>\n",
       "    </tr>\n",
       "  </thead>\n",
       "  <tbody>\n",
       "    <tr>\n",
       "      <th>falcon</th>\n",
       "      <td>True</td>\n",
       "      <td>True</td>\n",
       "    </tr>\n",
       "    <tr>\n",
       "      <th>dog</th>\n",
       "      <td>False</td>\n",
       "      <td>True</td>\n",
       "    </tr>\n",
       "  </tbody>\n",
       "</table>\n",
       "</div>"
      ],
      "text/plain": [
       "        num_legs  num_wings\n",
       "falcon      True       True\n",
       "dog        False       True"
      ]
     },
     "execution_count": 24,
     "metadata": {},
     "output_type": "execute_result"
    }
   ],
   "source": [
    "df.isin([0, 2])"
   ]
  },
  {
   "cell_type": "code",
   "execution_count": null,
   "metadata": {},
   "outputs": [],
   "source": [
    "df.convert_dtypes()"
   ]
  },
  {
   "cell_type": "code",
   "execution_count": null,
   "metadata": {},
   "outputs": [],
   "source": [
    "df = pd.DataFrame(\n",
    "    {\n",
    "        \"a\": pd.Series([1, 2, 3], dtype=np.dtype(\"int32\")),\n",
    "        \"b\": pd.Series([\"x\", \"y\", \"z\"], dtype=np.dtype(\"O\")),\n",
    "        \"c\": pd.Series([True, False, np.nan], dtype=np.dtype(\"O\")),\n",
    "        \"d\": pd.Series([\"h\", \"i\", np.nan], dtype=np.dtype(\"O\")),\n",
    "        \"e\": pd.Series([10, np.nan, 20], dtype=np.dtype(\"float\")),\n",
    "        \"f\": pd.Series([np.nan, 100.5, 200], dtype=np.dtype(\"float\")),\n",
    "    }\n",
    ")"
   ]
  },
  {
   "cell_type": "code",
   "execution_count": 20,
   "metadata": {},
   "outputs": [
    {
     "data": {
      "text/plain": [
       "[Int64Index([0, 1, 2], dtype='int64'), Index(['A', 'B', 'C'], dtype='object')]"
      ]
     },
     "execution_count": 20,
     "metadata": {},
     "output_type": "execute_result"
    }
   ],
   "source": [
    "df.axes"
   ]
  },
  {
   "cell_type": "code",
   "execution_count": null,
   "metadata": {},
   "outputs": [],
   "source": [
    "for i in df.__iter__():\n",
    "    print(i)"
   ]
  },
  {
   "cell_type": "code",
   "execution_count": null,
   "metadata": {},
   "outputs": [],
   "source": [
    "df.dtypes"
   ]
  },
  {
   "cell_type": "code",
   "execution_count": null,
   "metadata": {},
   "outputs": [],
   "source": [
    "df.infer_objects()"
   ]
  },
  {
   "cell_type": "code",
   "execution_count": null,
   "metadata": {},
   "outputs": [],
   "source": [
    " df.convert_dtypes()"
   ]
  },
  {
   "cell_type": "code",
   "execution_count": null,
   "metadata": {},
   "outputs": [],
   "source": [
    "df= pd.DataFrame({\"A\": [\"a\", 1, 2, 3]})"
   ]
  },
  {
   "cell_type": "code",
   "execution_count": null,
   "metadata": {},
   "outputs": [],
   "source": [
    "df"
   ]
  },
  {
   "cell_type": "code",
   "execution_count": null,
   "metadata": {},
   "outputs": [],
   "source": [
    "for i in df.iterrows():\n",
    "    for j in i:\n",
    "        for k in j:\n",
    "            print(k)"
   ]
  },
  {
   "cell_type": "code",
   "execution_count": null,
   "metadata": {},
   "outputs": [],
   "source": [
    "df = pd.DataFrame([[1, 1.5]], columns=['int', 'float'])\n",
    "row = next(df.iterrows())[1]\n",
    "row"
   ]
  },
  {
   "cell_type": "code",
   "execution_count": null,
   "metadata": {},
   "outputs": [],
   "source": [
    "df.at[1,'A']"
   ]
  },
  {
   "cell_type": "code",
   "execution_count": null,
   "metadata": {},
   "outputs": [],
   "source": [
    "df.iat[1,0]"
   ]
  },
  {
   "cell_type": "code",
   "execution_count": null,
   "metadata": {},
   "outputs": [],
   "source": [
    "df = pd.DataFrame([[1, 2], [4, 5], [7, 8]],\n",
    "     index=['cobra', 'viper', 'sidewinder'],\n",
    "     columns=['max_speed', 'shield'])"
   ]
  },
  {
   "cell_type": "code",
   "execution_count": null,
   "metadata": {},
   "outputs": [],
   "source": [
    "df"
   ]
  },
  {
   "cell_type": "code",
   "execution_count": null,
   "metadata": {},
   "outputs": [],
   "source": [
    "df.loc[['viper']]"
   ]
  },
  {
   "cell_type": "code",
   "execution_count": null,
   "metadata": {},
   "outputs": [],
   "source": [
    "for i in df.__iter__():\n",
    "    print(i)"
   ]
  },
  {
   "cell_type": "code",
   "execution_count": null,
   "metadata": {},
   "outputs": [],
   "source": [
    "for i in df.iteritems():\n",
    "    print(i)"
   ]
  },
  {
   "cell_type": "code",
   "execution_count": null,
   "metadata": {},
   "outputs": [],
   "source": [
    "for i in df.iterrows():\n",
    "    print(i)"
   ]
  },
  {
   "cell_type": "code",
   "execution_count": null,
   "metadata": {},
   "outputs": [],
   "source": [
    "df.xs"
   ]
  },
  {
   "cell_type": "code",
   "execution_count": null,
   "metadata": {},
   "outputs": [],
   "source": [
    "df.lookup('cobra','max_speed')"
   ]
  },
  {
   "cell_type": "code",
   "execution_count": null,
   "metadata": {},
   "outputs": [],
   "source": [
    "df = pd.DataFrame([['1990', 'a', 5, 4, 7, 2], ['1991', 'c', 10, 1, 2, 0], ['1992', 'd', 2, 1, 4, 12], ['1993', 'a', 5, 8, 11, 6]], columns=('Date', 'best', 'a', 'b', 'c', 'd'))\n",
    "df"
   ]
  },
  {
   "cell_type": "code",
   "execution_count": null,
   "metadata": {},
   "outputs": [],
   "source": [
    "df.lookup(df.index,df['best'])"
   ]
  },
  {
   "cell_type": "markdown",
   "metadata": {},
   "source": [
    "- Exporting: \n",
    "    - `pd.DataFrame.to_csv` write object to a csv file. \n",
    "    - pd.DataFrame.to_sql\n",
    "    - pd.DataFrame.to_dict\n",
    "    - `pd.DataFrame.to_excel` write object to an Excel sheet. \n",
    "    - `pd.DataFrame.to_json` convert the object to a JSON string. \n",
    "    - pd.DataFrame.to_html\n",
    "    - pd.DataFrame.to_string\n",
    "    - pd.DataFrame.to_markdown"
   ]
  },
  {
   "cell_type": "code",
   "execution_count": null,
   "metadata": {},
   "outputs": [],
   "source": []
  }
 ],
 "metadata": {
  "kernelspec": {
   "display_name": "Python 3",
   "language": "python",
   "name": "python3"
  },
  "language_info": {
   "codemirror_mode": {
    "name": "ipython",
    "version": 3
   },
   "file_extension": ".py",
   "mimetype": "text/x-python",
   "name": "python",
   "nbconvert_exporter": "python",
   "pygments_lexer": "ipython3",
   "version": "3.7.1"
  }
 },
 "nbformat": 4,
 "nbformat_minor": 4
}
