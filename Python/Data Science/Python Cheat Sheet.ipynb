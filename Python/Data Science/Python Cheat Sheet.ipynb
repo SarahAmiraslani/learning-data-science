{
 "cells": [
  {
   "cell_type": "markdown",
   "metadata": {},
   "source": [
    "**Magic Commands**\n",
    "IPython's special commands (which are not built into Python itself) are known as \"magic\" commands. These are designed to facilitate common tasks and enable you to easily control the behavior of the IPython system. All magic commands are prefixed by the symbol `%`. \n",
    "\n",
    "|**Command**|**Description**|\n",
    "|-----------|---------------|\n",
    "|`%quickref` |Display the IPython Quick Reference Card|\n",
    "|`%magic`| Display detailed documentation for all of the available magic commands|\n",
    "|`%debug`| Enter the interactive debugger at the bottom of the last exception traceback|\n",
    "|`%hist`| Print command input (and optionally output) history|\n",
    "|`%pdb` |Automatically enter debugger after any exception|\n",
    "|`%paste`| Execute preformatted Python code from clipboard|\n",
    "|`%cpaste`| Open a special prompt for manually pasting Python code to be executed|\n",
    "|`%reset`| Delete all variables/names defined in interactive namespace|\n",
    "|`%page`| OBJECT Pretty-print the object and display it through a pager|\n",
    "|`%run`| script.py Run a Python script inside IPython|\n",
    "|`%prun statement`| Execute statement with cProfile and report the profiler output|\n",
    "|`%time statement`| Report the execution time of a single statement|\n",
    "|`%timeit statement`| Run a statement multiple times to compute an ensemble average execution time; useful for timing code with very short execution time|\n",
    "|`%who`, `%who_ls`, `%whos`| Display variables defined in interactive namespace, with varying levels of information/verbosity|\n",
    "|`%xdel variable`| Delete a variable and attempt to clear any references to the object in the IPython internals|\n",
    "|`%matplotlib inline`| displays plots inline|\n",
    "\n",
    "**Python Language Basics**\n",
    "- Everything is an object\n",
    "    - Every number, string, data structure, function, class, module, and so on exists in the Python interpreter in its own \"box\" which is refered to as a Python object. Each object has an associated *type* and internal data\n",
    "- Function and object method calls\n",
    "    - You can call functions using parenthesis and passing zero or more arguments, optionally assigning the returned value to a variable. \n",
    "        - `result = f(x,y,z)`\n",
    "    - Almost every object in Python has attached functions, known as *methods*, that have access to the object's internal contents. \n",
    "        - `obj.some_method(x, y, z)`\n",
    "        \n",
    "- Binary operators\n",
    "|**Operation**|**Description**|\n",
    "|-------------|---------------|\n",
    "|`a + b`|Add a and b|\n",
    "|`a - b` |Subtract b from a|\n",
    "|`a * b` |Multiply a by b|\n",
    "|`a / b` |Divide a by b|\n",
    "|`a // b`| Floor-divide a by b, dropping any fractional remainder|\n",
    "|`a ** b` |Raise a to the b power|\n",
    "|`a & b` |True if both a and b are True; for integers, take the bitwise AND|\n",
    "|`a \\| b` |True if either a or b is True; for integers, take the bitwise OR\n",
    "|`a ^ b` |For booleans, True if a or b is True, but not both; for integers, take the bitwise EXCLUSIVE-OR|\n",
    "|`a == b` |True if a equals b|\n",
    "|`a != b`| True if a is not equal to b|\n",
    "|`a <= b, a < b`|True if a is less than (less than or equal) to b|\n",
    "|`a > b, a >= b`|True if a is greater than (greater than or equal) to b|\n",
    "|`a is b` |True if a and b reference the same Python object|\n",
    "|`a is not b` |True if a and b reference different Python objects|\n",
    "\n",
    "**Dates and times**\n",
    "The built-in Python `datetime` module provides `datetime`,`date`,and `time` types. Once you have a datetime object you can use different attributes and methods:\n",
    "- `.day` - returns the day\n",
    "- `.date()` - returns the date in format year-month-day\n",
    "- `.time()` - returns the time in format hour:min:sec\n",
    "- `.strftime('%m/%d/%Y %H:%M')` - formats a datetime as a string. \n",
    "\n",
    "Strings can be converted (parsed) into datetime objects with the `strptime` function: e.g., (`datetime.strptime('20091031', '%Y%m%d')`)\n",
    "\n",
    "- Datetime format specification \n",
    "|**Types**|**Description**|\n",
    "|--------|----------------|\n",
    "|`%Y` |Four-digit year|\n",
    "|`%y` |Two-digit year|\n",
    "|`%m` |Two-digit month [01, 12]|\n",
    "|`%d`|Two-digit day [01, 31]|\n",
    "|`%H` |Hour (24-hour clock) [00, 23]|\n",
    "|`%I` |Hour (12-hour clock) [01, 12]|\n",
    "|`%M` |Two-digit minute [00, 59]|\n",
    "|`%S` |Second [00, 61] (seconds 60, 61 account for leap seconds)|\n",
    "|`%w` |Weekday as integer [0 (Sunday), 6]|\n",
    "|`%U` |Week number of the year [00, 53]; Sunday is considered the first day of the week, and days before the first Sunday of the year are “week 0”|\n",
    "|`%W` |Week number of the year [00, 53]; Monday is considered the first day of the week, and days before the first Monday of the year are “week 0”|\n",
    "|`%z` |UTC time zone offset as +HHMM or -HHMM; empty if time zone naive|\n",
    "|`%F` |Shortcut for %Y-%m-%d (e.g., 2012-4-18)|\n",
    "|`%D` |Shortcut for %m/%d/%y (e.g., 04/18/12)|\n",
    "\n",
    "The difference of two `datetime` objects produces a `datetime.timedelta` type. Adding a `timedelta` to a `datetime` produces a new shifted `datetime`. "
   ]
  },
  {
   "cell_type": "code",
   "execution_count": 1,
   "metadata": {},
   "outputs": [
    {
     "name": "stdout",
     "output_type": "stream",
     "text": [
      "29\n",
      "2011-10-29\n",
      "20:30:21\n"
     ]
    }
   ],
   "source": [
    "from datetime import datetime\n",
    "dt = datetime(2011, 10, 29, 20, 30, 21)\n",
    "print(dt.day)\n",
    "print(dt.date())\n",
    "print(dt.time())"
   ]
  },
  {
   "cell_type": "markdown",
   "metadata": {},
   "source": [
    "**Data Structures and Sequences**\n",
    "- A **Tuple** is a fixed-length, immutable sequence of Python objects.\n",
    "    - unpacking tuples: if you try to assign a tuple-like expression of variables, Python will attempt to *unpack* the value on the righthand side of the equal sign.\n",
    "    ```python\n",
    "tup = (4,5,6)\n",
    "a,b,c = tup\n",
    "```\n",
    "        - Here `a=4`, `b=5`, and `c=6`\n",
    "    - A common use of variable unpacking is iterating over sequences of tuples or lists\n",
    "    - The use of the special syntax `*rest` can be used in situations where you want to \"pluck\" a few elements from the beginning of a tuple. Note that the `rest` bit is sometimes something you want to discard; there is nothing special about the `rest` name. As a matter of convention, many Python programmers willuse the underscore `_` for unwanted variables.\n",
    "```python\n",
    "a,b,*_ = values\n",
    "```\n",
    "    \n",
    "- A **dictionary** is a flexibly sized collection of *key-value* pairs. While the values of a dict can be any Python onject, the keys generally have to be immutable objects like scalar types (int, float, string) or tuples (all the objects in the tuple need to be immutable too)\n",
    "    - What is the difference between `.append()` and `.extend()`?\n",
    "\n",
    "- A **set** is an unordered collection of unique elements. You can think of them like dicts, but with keys only (no values). A set can be created in two ways: via the `set()` function or via a *set literal* with curly braces. Sets support mathematical *set operations* like union, intersection, difference, and symmetric difference.  \n",
    "```python\n",
    "# set function\n",
    "set([2,3,3,4,5,6])\n",
    "# set literal\n",
    "{2,3,3,4,5,6}\n",
    "```\n",
    "    - `set_1.union(set_2)` returns the set of distinct elements occuring in either set. Can also be computed using `set_1 | set_2`. \n",
    "    - `set_1.intersection(set_2)` returns the elements occuring in both sets. Can also be computed using `set_1 & set_2`.\n",
    "    - Other Python set operations\n",
    "    |**Function**|**Alternative syntax**| **Description**|\n",
    "    |------------|----------------------|----------------|\n",
    "    |`a.add(x)`| N/A | Add element x to the set a|\n",
    "    |`a.clear()`| N/A | Reset the set a to an empty state, discarding all of its elements|\n",
    "    |`a.remove(x)`| N/A | Remove element x from the set a|\n",
    "    |`a.pop()`| N/A | Remove an arbitrary element from the set a, raising KeyError if the set is empty|\n",
    "    |`a.union(b)`| `a \\| b` | All of the unique elements in a and b|\n",
    "    |`a.update(b)`| `a \\|= b` |Set the contents of a to be the union of the elements in a and b|\n",
    "    |`a.intersection(b)`| `a & b` |All of the elements in both a and b|\n",
    "    |`a.intersection_update(b)`| `a &= b` |Set the contents of a to be the intersection of the elements in a and b|\n",
    "    |`a.difference(b)`| `a - b` |The elements in a that are not in b|\n",
    "    |`a.difference_update(b)`| `a -= b` |Set a to the elements in a that are not in b|\n",
    "    |`a.symmetric_difference(b)`| `a ^ b` |All of the elements in either a or b but not both|\n",
    "    |`a.symmetric_difference_update(b)`| `a ^= b` |Set a to contain the elements in either a or b but not both|\n",
    "    |`a.issubset(b)`| N/A |True if the elements of a are all contained in b|\n",
    "    |`a.issuperset(b)`| N/A|True if the elements of b are all contained in a|\n",
    "    |`a.isdisjoint(b)`| N/A |True if a and b have no elements in common|"
   ]
  },
  {
   "cell_type": "code",
   "execution_count": 2,
   "metadata": {},
   "outputs": [
    {
     "name": "stdout",
     "output_type": "stream",
     "text": [
      "a=1,b=2,c=3\n",
      "a=4,b=5,c=6\n",
      "a=7,b=8,c=9\n"
     ]
    }
   ],
   "source": [
    "seq = [(1, 2, 3), (4, 5, 6), (7, 8, 9)]\n",
    "\n",
    "for a,b,c in seq:\n",
    "    print('a={0},b={1},c={2}'.format(a,b,c))"
   ]
  },
  {
   "cell_type": "code",
   "execution_count": 16,
   "metadata": {},
   "outputs": [
    {
     "name": "stdout",
     "output_type": "stream",
     "text": [
      "{1, 2, 3, 4, 5, 6, 7, 8}\n",
      "{1, 2, 3, 4, 5, 6, 7, 8}\n"
     ]
    }
   ],
   "source": [
    "# create sets\n",
    "a = {1, 2, 3, 4, 5}\n",
    "b = {3, 4, 5, 6, 7, 8}\n",
    "\n",
    "# set operations \n",
    "\n",
    "## union\n",
    "print(a.union(b))\n",
    "print(a|b)"
   ]
  },
  {
   "cell_type": "code",
   "execution_count": 4,
   "metadata": {},
   "outputs": [
    {
     "name": "stdout",
     "output_type": "stream",
     "text": [
      "1\n",
      "2\n",
      "[3, 4, 5]\n"
     ]
    }
   ],
   "source": [
    "values = (1,2,3,4,5)\n",
    "\n",
    "a,b,*rest = values\n",
    "print(a)\n",
    "print(b)\n",
    "print(rest)"
   ]
  },
  {
   "cell_type": "markdown",
   "metadata": {},
   "source": [
    "**Built-in Sequence Functions**\n",
    "- **enumerate**\n",
    "    - It's common when iterating over a sequence to want to keep track of the index of the current item. A do-it-yourself approach would look like: \n",
    "```python\n",
    "i = 0\n",
    "for value in collection:\n",
    "        # do something with value\n",
    "        i+=1\n",
    "```\n",
    "    - Since this is so common, Python has a built-in function, `enumerate`, which returns a sequence of `(i,value)` tuples:\n",
    "```python\n",
    "for i, value in enumerate(collection):\n",
    "        # do something with value\n",
    "```\n",
    "- **sorted** returns a new sorted lists from the elements of any sequence.\n",
    "- **zip** \"pairs\" up the elements of sequences to create a list of tuples. It can take an arbitrary number of sequences, and the number of elements it produces is determined by the *shortest* sequence. \n",
    "    - A very common use of zip is to simultaneously iterate over multiple sequences.\n",
    "```python\n",
    "for a,b in zip(seq1,seq2):\n",
    "        print(a,b)\n",
    "    ```\n",
    "- **reversed** iterates over the elements of a sequence in reverse order. "
   ]
  },
  {
   "cell_type": "code",
   "execution_count": 10,
   "metadata": {},
   "outputs": [
    {
     "name": "stdout",
     "output_type": "stream",
     "text": [
      "foo one\n",
      "bar two\n",
      "baz three\n"
     ]
    },
    {
     "data": {
      "text/plain": [
       "[9, 8, 7, 6, 5, 4, 3, 2, 1, 0]"
      ]
     },
     "execution_count": 10,
     "metadata": {},
     "output_type": "execute_result"
    }
   ],
   "source": [
    "seq1 = ['foo', 'bar', 'baz']\n",
    "seq2 = ['one', 'two', 'three']\n",
    "zipped = zip(seq1,seq2)\n",
    "list(zipped)\n",
    "\n",
    "\n",
    "for a,b in zip(seq1,seq2):\n",
    "    print(a,b)\n",
    "    \n",
    "list(reversed(range(10)))"
   ]
  },
  {
   "cell_type": "markdown",
   "metadata": {},
   "source": [
    "**List, Set, and Dict Comprehensions**\n",
    "- List comprehensions allow you to concisely form a new list by filtering or transforming the elements of a collection. The filter condition can be ommitted, leaving only the expression. \n",
    "```python\n",
    "[expr for val in collection if condition]\n",
    "```\n",
    "This is equivelent to the following for loop:\n",
    "```python\n",
    "result = []\n",
    "for val in collection:\n",
    "    if condition: \n",
    "        result.append(expr)\n",
    "```\n",
    "- Set and dictionary comprehensions are a natural extension of list comprehensions. A set comprehension looks list comprehensions except with curly brackets instead of square brackets. \n",
    "```python\n",
    "dict_comp = {key_expr: value_expr for value in collection if condition}\n",
    "```\n",
    "```python\n",
    "set_comp = {expr for value in collection if condition}\n",
    "```\n"
   ]
  },
  {
   "cell_type": "code",
   "execution_count": 18,
   "metadata": {},
   "outputs": [
    {
     "data": {
      "text/plain": [
       "['BAT', 'CAR', 'DOVE', 'PYTHON']"
      ]
     },
     "execution_count": 18,
     "metadata": {},
     "output_type": "execute_result"
    }
   ],
   "source": [
    "# list comprehension\n",
    "strings = ['a', 'as', 'bat', 'car', 'dove', 'python']\n",
    "[item.upper() for item in strings if len(item) > 2]"
   ]
  },
  {
   "cell_type": "markdown",
   "metadata": {},
   "source": [
    "- Nested list comprehensions\n",
    "    - the `for` parts of the list comprehension are arranged according to the order of nesting and the filter condition is put at the end as before. You can have arbitrarily many levels of nesting, though if you have more than two or three levels of nesting you should probably start to question whether this makes sense form a code readability standpoint. \n",
    "   - you can also have a list comprehension within a list comprehension, which will produce a list of lists. "
   ]
  },
  {
   "cell_type": "code",
   "execution_count": 25,
   "metadata": {},
   "outputs": [
    {
     "name": "stdout",
     "output_type": "stream",
     "text": [
      "['Steven']\n",
      "['Steven']\n",
      "[['JOHN', 'EMILY', 'MICHAEL', 'MARY', 'STEVEN'], ['MARIA', 'JUAN', 'JAVIER', 'NATALIA', 'PILAR']]\n"
     ]
    }
   ],
   "source": [
    "# nested list comprehension\n",
    "all_data = [['John', 'Emily', 'Michael', 'Mary', 'Steven'],\n",
    "            ['Maria', 'Juan', 'Javier', 'Natalia', 'Pilar']]\n",
    "\n",
    "## single list comprehension\n",
    "names_of_interest = []\n",
    "for names in all_data: \n",
    "    enough_es = [name for name in names if name.count('e')>=2]\n",
    "    names_of_interest.extend(enough_es)\n",
    "    \n",
    "print(names_of_interest)\n",
    "\n",
    "## nested list comprehension\n",
    "names_of_interest = [name for names in all_data for name in names if name.count('e')>=2]\n",
    "print(names_of_interest)\n",
    "\n",
    "## list comprehension within another list comprehension\n",
    "names_of_interest = [[name.upper()for name in names] for names in all_data]\n",
    "print(names_of_interest)"
   ]
  },
  {
   "cell_type": "markdown",
   "metadata": {},
   "source": [
    "- Functions\n",
    "    - as a rule of thumb, if you anticipate needing to repeat the same or very similar code more than once, it may be worth writing a reusable function. \n",
    "    - there is no issue with having multiple `return` statement. If Python reaches he end of a function without encountering a `return` statment, `None` is returned. \n",
    "    - the main restriction on function arguments is that keyword arguments *must* follow the position arguments. \n",
    "    - Namespaces, scope, and local functions\n",
    "        - Any variables that are assigned within a function, by default are assigned to the local namespace. The local namespace is created when the function is called and is destroyed after the function is finished. \n",
    "        - consider the function:\n",
    "```python\n",
    "def func():\n",
    "                a = []\n",
    "                for i in range(5):\n",
    "                        a.append(i)\n",
    "```\n",
    "        - when `func()` is called, the empty list `a` is created, five elements are appended, and then `a` is destroyed when the function exits. \n"
   ]
  },
  {
   "cell_type": "code",
   "execution_count": 28,
   "metadata": {},
   "outputs": [
    {
     "data": {
      "text/plain": [
       "['Alabama',\n",
       " 'Georgia',\n",
       " 'Georgia',\n",
       " 'Georgia',\n",
       " 'Florida',\n",
       " 'South Carolina',\n",
       " 'West Virginia']"
      ]
     },
     "execution_count": 28,
     "metadata": {},
     "output_type": "execute_result"
    }
   ],
   "source": [
    "states = [' Alabama ', 'Georgia!', 'Georgia', 'georgia', 'FlOrIda','south carolina##', 'West virginia?']\n",
    "\n",
    "\n",
    "def clean_strings(strings):\n",
    "    import re\n",
    "    result = []\n",
    "    for string in strings:\n",
    "        string = string.strip()\n",
    "        string = re.sub('[!#?]','',string)\n",
    "        string = string.title()\n",
    "        result.append(string)\n",
    "    return result\n",
    "\n",
    "clean_strings(states)"
   ]
  },
  {
   "cell_type": "markdown",
   "metadata": {},
   "source": [
    "An alternative approach you may find useful is to make a list of operations you want to apply to a particular set of strings. This is a more functional approach. "
   ]
  },
  {
   "cell_type": "code",
   "execution_count": 38,
   "metadata": {},
   "outputs": [
    {
     "data": {
      "text/plain": [
       "['Alabama',\n",
       " 'Georgia',\n",
       " 'Georgia',\n",
       " 'Georgia',\n",
       " 'Florida',\n",
       " 'South Carolina',\n",
       " 'West Virginia']"
      ]
     },
     "execution_count": 38,
     "metadata": {},
     "output_type": "execute_result"
    }
   ],
   "source": [
    "def remove_punctuation(string):\n",
    "    import re\n",
    "    return re.sub('[!#?]','',string)\n",
    "\n",
    "clean_ops = [str.strip,remove_punctuation,str.title]\n",
    "\n",
    "def clean_strings(strings,ops):\n",
    "    result = []\n",
    "    for string in strings:\n",
    "        for function in ops:\n",
    "            string = function(string)\n",
    "        result.append(string)\n",
    "    return result\n",
    "\n",
    "clean_strings(strings=states,ops=clean_ops)"
   ]
  },
  {
   "cell_type": "markdown",
   "metadata": {},
   "source": [
    "**Anonymous (Lambda) Functions**\n",
    "Lambda functions are a way of writing functions consisting of a single statement, the result of which is the return value. They are defined by the `lambda` keyword, which has no meaning other than \"we are declaring an anonymous function\". One reason lambda functions are called anonymous functions is that, unlike functions declated with the `def` keyword, the function object itself is never given an explicit `__name__` attribute. \n",
    "\n",
    "It is useful to use lambda functions as a key for the list's sort method. "
   ]
  },
  {
   "cell_type": "code",
   "execution_count": 39,
   "metadata": {},
   "outputs": [],
   "source": [
    "def short_function(x):\n",
    "    return x**2\n",
    "\n",
    "equiv_anon = lambda x: x**2"
   ]
  },
  {
   "cell_type": "code",
   "execution_count": 43,
   "metadata": {},
   "outputs": [
    {
     "data": {
      "text/plain": [
       "['aaaa', 'foo', 'abab', 'bar', 'card']"
      ]
     },
     "execution_count": 43,
     "metadata": {},
     "output_type": "execute_result"
    }
   ],
   "source": [
    "strings = ['foo', 'card', 'bar', 'aaaa', 'abab']\n",
    "\n",
    "strings.sort(key=lambda x: len(set(list(x))))\n",
    "\n",
    "strings"
   ]
  },
  {
   "cell_type": "markdown",
   "metadata": {},
   "source": [
    "**Currying: Partial Argument Application**\n",
    "Currying means deriving new functions from existing ones by *partial argument application*. \n",
    "\n",
    "For example, suppose we had a trivial function that adds two numbers together: \n",
    "```python\n",
    "def add_numbers(x,y):\n",
    "    return x + y\n",
    "```\n",
    "Using this function, we could derive a new function that adds 5 to its argument: \n",
    "```python\n",
    "add_five = lambda y: add_numbers(5,y)\n",
    "```\n",
    "The second argument to `add_numbers` is said to be *curried*"
   ]
  },
  {
   "cell_type": "markdown",
   "metadata": {},
   "source": [
    "**itertools module**\n",
    "The standard library `itertools` module has a collection of generators for many common data algorithms. For example, `groupby` taskes any sequence and a function, grouping consecutive elements in the sequence by the return value of the function. \n",
    "\n",
    "Some useful itertools functions\n",
    "\n",
    "|**Function**|**Description**|\n",
    "|------------|---------------|\n",
    "|combinations(iterable, k)| Generates a sequence of all possible k-tuples of elements in the iterable, ignoring order and without replacement (see also the companion function (`combinations_with_replacement`)|\n",
    "|`permutations(iterable, k)` | Generates a sequence of all possible k-tuples of elements in the iterable, respecting order |\n",
    "|`groupby(iterable[, keyfunc])`| Generates (key, sub-iterator) for each unique key|\n",
    "|`product(*iterables, repeat=1)`| Generates the Cartesian product of the input iterables as tuples, similar to a nested for loop |"
   ]
  },
  {
   "cell_type": "code",
   "execution_count": 45,
   "metadata": {},
   "outputs": [
    {
     "name": "stdout",
     "output_type": "stream",
     "text": [
      "A ['Alan', 'Adam']\n",
      "W ['Wes', 'Will']\n",
      "A ['Albert']\n",
      "S ['Steven']\n"
     ]
    }
   ],
   "source": [
    "import itertools\n",
    "first_letter = lambda x: x[0]\n",
    "\n",
    "names = ['Alan', 'Adam', 'Wes', 'Will', 'Albert', 'Steven']\n",
    "\n",
    "for letter,names in itertools.groupby(names,first_letter):\n",
    "    print(letter, list(names))"
   ]
  },
  {
   "cell_type": "markdown",
   "metadata": {},
   "source": [
    "**Errors and Exception Handling**\n",
    "Handling Python errors or exceptions gracefully is an important part of building robust programs. \n",
    "\n",
    "Note: you can catch multiple exception types by writing a tuple of exception types instead (parenthesis are required). \n",
    "\n",
    "In some cases, you may not want to suppress an exception, but you want some code to be executed regardless of whether the code in the `try` block succeeds or not. To do this, we use `finally`."
   ]
  },
  {
   "cell_type": "markdown",
   "metadata": {},
   "source": [
    "THINGS TO ADD: \n",
    "- Ternary expressions"
   ]
  }
 ],
 "metadata": {
  "kernelspec": {
   "display_name": "Python 3",
   "language": "python",
   "name": "python3"
  },
  "language_info": {
   "codemirror_mode": {
    "name": "ipython",
    "version": 3
   },
   "file_extension": ".py",
   "mimetype": "text/x-python",
   "name": "python",
   "nbconvert_exporter": "python",
   "pygments_lexer": "ipython3",
   "version": "3.7.1"
  }
 },
 "nbformat": 4,
 "nbformat_minor": 4
}
