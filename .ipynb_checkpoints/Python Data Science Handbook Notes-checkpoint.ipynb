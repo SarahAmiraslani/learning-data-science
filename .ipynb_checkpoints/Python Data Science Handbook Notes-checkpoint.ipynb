{
 "cells": [
  {
   "cell_type": "markdown",
   "metadata": {},
   "source": [
    "# Python Data Science Handbook Notes "
   ]
  },
  {
   "cell_type": "markdown",
   "metadata": {},
   "source": [
    "This document contains notes I have taken on *Python Data Science Handbook*. I hope someone finds this helpful. \n",
    "\n",
    "Book citation: *Python Data Science Handbook* by Jake VanderPlas (O'Reilly). Copyright 2017 Jake VanderPlas, 978-1-491-91295-8."
   ]
  },
  {
   "cell_type": "markdown",
   "metadata": {},
   "source": [
    "# Preface"
   ]
  },
  {
   "cell_type": "markdown",
   "metadata": {},
   "source": [
    "Data science comprises three distinct and overlapping areas: \n",
    "1. **Statistics**\n",
    "2. **Computer science** - used for the design and use of algorithms to efficiently store, process, and visualize data\n",
    "3. **Domain expertise** - necessary to formulate the right question and to put their answers in context\n",
    "\n",
    "Important libraries: \n",
    "1. NumPy: manipulation of homogenous data\n",
    "2. Pandas: manipulation of heterogenous data\n",
    "3. SciPy: common scientific computing tasks\n",
    "4. Matplotlib: visualizations\n",
    "5. Scikit-Learn: machine learning"
   ]
  },
  {
   "cell_type": "markdown",
   "metadata": {},
   "source": [
    "# Chapter 1: IPython: Beyond Normal Python"
   ]
  },
  {
   "cell_type": "markdown",
   "metadata": {},
   "source": [
    "Need help: `?` for docmentation, `??` for source code, tab key for autocompletion\n",
    "\n",
    "Every python object contains a docstring which contains a concise summary of the object and how to use it. Python has a built in ```help()``` function that prints the docstring. This method even works for functions or objects you create yourself. To create a docstring for our function we place a string literal in the first line.\n",
    "\n",
    "Shortcuts\n",
    "- `Ctrl-a` to move cursor to the begining of the line. \n",
    "- `Ctrl-e` to move cursor to the end of the line. \n",
    "- `Ctrl-k` to cut rexr from cursor to the end of the line. \n",
    "- `Ctrl-p` to access previous command in history.\n",
    "- `Ctrl-n` to access next demand in history. \n",
    "    - Note: you can use Ctrl-p/Ctrl-n or the up/down arrow keys to search through history, but only by matching characters - at the begining of the line. \n",
    "- `Ctrl-l` to clear terminal screen. \n",
    "- `Ctrl-c` to interrupt current Python command. "
   ]
  },
  {
   "cell_type": "code",
   "execution_count": null,
   "metadata": {},
   "outputs": [],
   "source": [
    "help(len)"
   ]
  },
  {
   "cell_type": "code",
   "execution_count": null,
   "metadata": {},
   "outputs": [],
   "source": [
    "len?"
   ]
  },
  {
   "cell_type": "code",
   "execution_count": null,
   "metadata": {},
   "outputs": [],
   "source": [
    "def square(a): \n",
    "    \"\"\"Return the square of a.\"\"\"\n",
    "    return a**2"
   ]
  },
  {
   "cell_type": "markdown",
   "metadata": {},
   "source": [
    "Because Python is so readable you can usually gain another level of insight by reading the source code of the object you're curious about. `??` can give a quick insight into the under the hood details. Sometimes you will notice that `??` does not display source code. This is generally because the object in question is not implemented in Python, but in C or some other language. If this is the case `??` will give you the same output as `?`. "
   ]
  },
  {
   "cell_type": "code",
   "execution_count": null,
   "metadata": {},
   "outputs": [],
   "source": [
    "square??"
   ]
  },
  {
   "cell_type": "markdown",
   "metadata": {},
   "source": [
    "Every Python object has various attribues and methods associated with it. Python has a built in `dir` function that returns a list of these, but the tab completion interface is much easier to use in practice. To see a list of all available attributes of an object, you can type the name of the object followed by a `.` and then the Tab key. If there is only a single option, pressing the Tab key will complete the line for you. Tab completion is also useful when importing objects from packages. "
   ]
  },
  {
   "cell_type": "code",
   "execution_count": null,
   "metadata": {},
   "outputs": [],
   "source": [
    "#wildcard matching\n",
    "# *Warning? #returns a list of every object in the namespace that ends with Warning"
   ]
  },
  {
   "cell_type": "code",
   "execution_count": null,
   "metadata": {},
   "outputs": [],
   "source": [
    "# str.*find*? #retruns a list of every string method that contains the word find somewhere in its name. "
   ]
  },
  {
   "cell_type": "markdown",
   "metadata": {},
   "source": [
    "Magic commands are prefixed by `%`. These magic commands are designed to succintly solve various common problems in standard data analysis. There are two kinds of magic commands: line magics (denoted by `%` and operate on a single line) and cell magics (denoted by `%%` and operate on multiple lines of input)\n",
    "\n",
    "`%paste` pastes code into the cell and does so without indentation errors. This way you can copy code from online sources and paste with no troubles. \n",
    "\n",
    "`%cpaste` opens an interactive multiline prompt in which you can paste one or more chunks of code to be executed in a batch. \n",
    "\n",
    "`%run` is useful when you have created a myscript.py file you can execute this on Jupyter `%run myscript.py`. Note that any functions defined within the .py file are now available for use. \n",
    "\n",
    "`%timeit` determines the execution time of the single line python statement that follows it\n",
    "\n",
    "`%magic` to access a general description of available magic functions \n",
    "\n",
    "`%lsmagic` to list all available magic functions"
   ]
  },
  {
   "cell_type": "code",
   "execution_count": null,
   "metadata": {},
   "outputs": [],
   "source": [
    "%timeit L = [n**2 for n in range(100)]"
   ]
  },
  {
   "cell_type": "markdown",
   "metadata": {},
   "source": [
    "Note that list comprehensions are faster than the equivalent for loop construction. "
   ]
  },
  {
   "cell_type": "markdown",
   "metadata": {},
   "source": [
    "The `In[]` object is a list which keeps track of the commands in order. The `Out[]` object is not a list but a dictionary mapping input numbers to their outputs. \n",
    "\n",
    "Note not all operations have outputs. E.g., import statments and print statements don't affect the output (yes print statments!). This makes sense if you think about how print is a function that returns `None`; for brevity any command that returns `None` is not added to Out. Where this can be useful is if you want to interact with past results. This can be very handy if you execute a very expensive computation and want to reuse the result. "
   ]
  },
  {
   "cell_type": "code",
   "execution_count": null,
   "metadata": {},
   "outputs": [],
   "source": [
    "import math\n",
    "math.sin(2)"
   ]
  },
  {
   "cell_type": "code",
   "execution_count": null,
   "metadata": {},
   "outputs": [],
   "source": [
    "math.cos(2)"
   ]
  },
  {
   "cell_type": "code",
   "execution_count": null,
   "metadata": {},
   "outputs": [],
   "source": [
    "Out[9]*Out[8]"
   ]
  },
  {
   "cell_type": "markdown",
   "metadata": {},
   "source": [
    "Underscore shortcuts and previous outputs: \n",
    "the variable _ a single underscore _ is kept updated with the previous output. You can use a double underscore to access the second-to-last output and a triple underscore to access the third-to-last output. It stops there! \n",
    "\n",
    "A shorthand for `Out[X]` is `_X` (i.e., a single underscore followed by the line number)"
   ]
  },
  {
   "cell_type": "code",
   "execution_count": null,
   "metadata": {},
   "outputs": [],
   "source": [
    "print(_)"
   ]
  },
  {
   "cell_type": "code",
   "execution_count": null,
   "metadata": {},
   "outputs": [],
   "source": [
    "_9"
   ]
  },
  {
   "cell_type": "markdown",
   "metadata": {},
   "source": [
    "Supressing the output of a command: the easiest way is to add a semicolon `;` to the end of the line. Note that when you do this the result is computed silently, and the result is neither displayed on the screen or stored in the Out dictionary.  "
   ]
  },
  {
   "cell_type": "markdown",
   "metadata": {},
   "source": [
    "IPython gives you syntax for executing shell commands directly from within the IPython terminal. Anything appearing after `!` on a line will be executed not by the python kernal, but by the system command line. The shell is a way to interact textually with your computer. Shell offers much more control of advanced tasks. You can use any command that works at the command line in IPython by prefixing it with the `!` character. "
   ]
  },
  {
   "cell_type": "code",
   "execution_count": null,
   "metadata": {},
   "outputs": [],
   "source": [
    "!ls"
   ]
  },
  {
   "cell_type": "code",
   "execution_count": null,
   "metadata": {},
   "outputs": [],
   "source": [
    "!pwd"
   ]
  },
  {
   "cell_type": "markdown",
   "metadata": {},
   "source": [
    "Shell commands can also be made to interact with the IPython namespace. For example, you can save the output of any shell command to a Python list using the assignment operator. Note that these results are not returned as lists, but as a special shell return type defined in Ipython. This looks and acts a lot like a Python list, but has additional functionality"
   ]
  },
  {
   "cell_type": "code",
   "execution_count": null,
   "metadata": {},
   "outputs": [],
   "source": [
    "directory = !pwd"
   ]
  },
  {
   "cell_type": "code",
   "execution_count": null,
   "metadata": {},
   "outputs": [],
   "source": [
    "print(directory)"
   ]
  },
  {
   "cell_type": "code",
   "execution_count": null,
   "metadata": {},
   "outputs": [],
   "source": [
    "type(directory)"
   ]
  },
  {
   "cell_type": "markdown",
   "metadata": {},
   "source": [
    "#### Profiling and and Timing Code"
   ]
  },
  {
   "cell_type": "markdown",
   "metadata": {},
   "source": [
    "In the process of developing code and creating data processing pipelines, there are trade-offs you can make between various implementations. Early in developing your algorithm, it can be counterproductive to worry about these things. \"premature optimization is the root of all evil\". But once you have your code working, it can be useful to dig into its efficiency a bit. \n",
    "\n",
    "`%time` to time the execution of a single statement\n",
    "`%%timeit` to time the repeated execution of snippets of code. \n",
    "`%timeit` to time repeated execution of a single statement for more accuracy\n",
    "`%prun` to run the code with the profiler\n",
    "`%lprun` to run the code with the line-by-line profiler\n",
    "`%memit` to measure the memory use of a single statement\n",
    "`%mprun` to run code with the line-by-line memory profiler\n",
    "Note: the last four commands are not bundled with Ipython, you need to install the `line_profiler` and `memory_profiler` extensions"
   ]
  },
  {
   "cell_type": "code",
   "execution_count": null,
   "metadata": {},
   "outputs": [],
   "source": [
    "%timeit sum(range(100))"
   ]
  },
  {
   "cell_type": "code",
   "execution_count": null,
   "metadata": {},
   "outputs": [],
   "source": [
    "%%timeit\n",
    "total=0\n",
    "\n",
    "for i in range(100): \n",
    "    for j in range(100): \n",
    "        total += i *(-1)**j"
   ]
  },
  {
   "cell_type": "markdown",
   "metadata": {},
   "source": [
    "# Chapter 2: Introduction to NumPy"
   ]
  },
  {
   "cell_type": "markdown",
   "metadata": {},
   "source": [
    "It will help us to think of all data as arrays of numbers. No matter what the data are, the first step in making them analyzable will be to transform them into arrays of numbers. In some ways, NumPy arrays are like Python's built-in list type, but NumPy arrays provide much more efficient storage and data operations as the arrays grow larger in size. Numpy arrays form the core of nearly the entire ecosystem of data science tools in Python.  "
   ]
  },
  {
   "cell_type": "code",
   "execution_count": null,
   "metadata": {},
   "outputs": [],
   "source": [
    "import numpy as np"
   ]
  },
  {
   "cell_type": "markdown",
   "metadata": {},
   "source": [
    "Effective data-driven science and computation requires understanding how data is stored and manipulated.\n",
    "\n",
    "The standard Python implementation is written in C. This means that every Python object is a cleverly disguised C structure. \n",
    "\n",
    "**A python list is more than just a list**\n",
    "- because of python's dynamic typing we can create heterogenous lists. This flexibility comes at a cost: to allow these flexible types, each item in the list must contain its own type info, reference count, and other information – that is, each item is a complete Python object. In the special case that all variables are of the same type, much of this information is redundant: it can be much more efficient to store data in a fixed-type array. \n",
    "\n",
    "At the implementation level, the array contains a single pointer to one contiguous block of data. The Python list on the other hand contains a pointer to a block of pointers, each of which in turn points to a full python object like the Python integer we saw earlier. Again the advantage of a list is flexibility: because each list element is a full structure containing both data and type information, the list can be filled witth data of any desired type. Fixed-type NumPy-style arrays lack this flexibility, but are much more efficient for sotring and manipulating data. \n",
    "\n",
    "**Fixed-Type Arrays in Python**\n",
    "Python offers several different options for storing data in efficient, fixed-type data buffers. The built in `array` module can be used to create dense arrays of a uniform type. "
   ]
  },
  {
   "cell_type": "code",
   "execution_count": null,
   "metadata": {},
   "outputs": [],
   "source": [
    "import array\n",
    "\n",
    "L = list(range(10))\n",
    "A = array.array('i',L)\n",
    "A"
   ]
  },
  {
   "cell_type": "markdown",
   "metadata": {},
   "source": [
    "Here `'i'` is a type code indicating the contents are integers. \n",
    "\n",
    "However, the `ndarray` object of the NumPy package is much more useful. Python's `array` object provides an efficient way to store array-based data, but NumPy adds to this efficient operations on that data. Remember that unlike Python lists, NumPy is constrained to arrays that all contain the same type. If the types do not match, NumPy will upcast if possible. If we want to explicitly set the data type of the resulting array, we can use the `dtype` keyword. Finally unlike Python lists, NumPy arrays can be explicitly multidimensional."
   ]
  },
  {
   "cell_type": "code",
   "execution_count": null,
   "metadata": {},
   "outputs": [],
   "source": [
    "#integer array\n",
    "np.array([1,4,2,5,3])"
   ]
  },
  {
   "cell_type": "code",
   "execution_count": null,
   "metadata": {},
   "outputs": [],
   "source": [
    "#Numpy will upcast if types don't match\n",
    "np.array([3.14,4,2,3])"
   ]
  },
  {
   "cell_type": "code",
   "execution_count": null,
   "metadata": {},
   "outputs": [],
   "source": [
    "np.array([1,2,3,4],dtype='float32')"
   ]
  },
  {
   "cell_type": "code",
   "execution_count": null,
   "metadata": {},
   "outputs": [],
   "source": [
    "#nested lists result in multidimensional arrays\n",
    "np.array([range(i,i+3) for i in [2,4,6]])"
   ]
  },
  {
   "cell_type": "markdown",
   "metadata": {},
   "source": [
    "### Creating Arrays from Scratch\n",
    "Especially for larger arrays, it is more efficient to create arrays from scartch using routines built into NumPy. "
   ]
  },
  {
   "cell_type": "code",
   "execution_count": null,
   "metadata": {},
   "outputs": [],
   "source": [
    "# Create a length-10 integer array filled with zeros \n",
    "np.zeros(10,dtype=int)\n",
    "\n",
    "# Create a 3x5 floatting-point array filled with 1s\n",
    "np.ones((3,5),dtype=float)\n",
    "\n",
    "# Create a 3x5 array filled with 3.14\n",
    "np.full((3,5),3.14)\n",
    "\n",
    "# Create an array filled with a linear sequence \n",
    "# Starting at 0, ending at 20, stepping by 2\n",
    "# This is similar to the built in range() function\n",
    "np.arange(0,20,2)\n",
    "\n",
    "# Create an array of five values evenly spaced between 0 and 1\n",
    "np.linspace(0,1,5)\n",
    "\n",
    "# Create a 3x3 array of uniformly distributed random values between 0 and 1\n",
    "np.random.random((3,3))\n",
    "\n",
    "# Create a 3x3 array of normally distributed random values with mean 0 and standard deviation of 1\n",
    "np.random.normal(0,1,(3,3))\n",
    "\n",
    "# Create a 3x3 array of random integers in the interval [0,10]\n",
    "np.random.randint(0,10,(3,3))\n",
    "\n",
    "# Create a 3x3 identity matrix\n",
    "np.eye(3)"
   ]
  },
  {
   "cell_type": "markdown",
   "metadata": {},
   "source": [
    "### The Basics of NumPy Arrays \n",
    "Data manipulation in Python is nearly synonymous with NumPy array manipulation: even newer tools like Pandas are built around the NumPy array. \n",
    "\n",
    "Basic array manipulation: \n",
    "- **atributes of arrays** - determining the size, shape, memory consumption, and data types of arrays\n",
    "- **indexing of arrays** - getting and setting the value of individual array elements\n",
    "    - in a one dimensional array, you can access the ith value (counting from zero) by specifying the desired index in square brackets, just as with Python lists\n",
    "    - to index from the end of the array you can use negative indices\n",
    "    - in a multidimensional array, you can access items using a comma-seperated tuple of indices\n",
    "- **slicing of arrays** - getting and setting smaller subarrays within a larger array\n",
    "    - Just as we can use square brackets to access individual array elements, we can also use them to access subarrays with the slice notation, marked by the colon `:` character. \n",
    "    - `x[start:stop:step]`\n",
    "        - if any of these are unspecified, they default to the values start=0, stop = size of dimension, step = 1\n",
    "        - a potentially confusing case is when the step value is negative\n",
    "    - multidimensional slices work in the same way, with multiple slices seperated by commas\n",
    "    - to access a single row or column of an array you can combine indexing and slicing using an empty slice marked by a `:`\n",
    "    - one important thing to know about array slices is that they return views rather than copies of the array data. \n",
    "        - this default behavior is actually quite useful: it means that when we work with large datasets, we can access and process pieces of these datasets without the need to copy the underlying data buffer\n",
    "            - this is one area in which NumPy array slicing differs from Python list slicing: in lists slices will be copies \n",
    "- **reshaping of arrays** - changing the shape of a given array\n",
    "- **joining and splitting of arrays** - combining multiple arrays into one, and splitting one array into many"
   ]
  },
  {
   "cell_type": "code",
   "execution_count": null,
   "metadata": {},
   "outputs": [],
   "source": [
    "x1 = np.random.randint(10,size=6) # one dimensional array\n",
    "x2 = np.random.randint(10,size=(3,4)) # two-dimensional array\n",
    "x3 = np.random.randint(10, size =(3,4,5)) # three-dimensional array"
   ]
  },
  {
   "cell_type": "code",
   "execution_count": null,
   "metadata": {},
   "outputs": [],
   "source": [
    "x1[0]\n",
    "x2[0,0]"
   ]
  },
  {
   "cell_type": "markdown",
   "metadata": {},
   "source": [
    "You can also modify values using any of the above index notation. Keep in mind that unlike Python lists, NumPy arrays have a fixed type. This means that, for example, if you attempt to insert a floating-point value to an integer array, the value will be silently truncated. "
   ]
  },
  {
   "cell_type": "code",
   "execution_count": null,
   "metadata": {},
   "outputs": [],
   "source": [
    "x2[0,0]=12\n",
    "x1[0]=3.144444 # will be truncated\n",
    "x1"
   ]
  },
  {
   "cell_type": "code",
   "execution_count": null,
   "metadata": {},
   "outputs": [],
   "source": [
    "x = np.arange(10)\n",
    "x"
   ]
  },
  {
   "cell_type": "code",
   "execution_count": null,
   "metadata": {},
   "outputs": [],
   "source": [
    "x[:5] #first five elements\n",
    "x[5:] #elements after index 5\n",
    "x[4:7] #middle subarray\n",
    "x[::2] #every other element\n",
    "x[1::2] #every other element starting at index 1"
   ]
  },
  {
   "cell_type": "code",
   "execution_count": null,
   "metadata": {},
   "outputs": [],
   "source": [
    "x2"
   ]
  },
  {
   "cell_type": "code",
   "execution_count": null,
   "metadata": {},
   "outputs": [],
   "source": [
    "x2[:2,:3] #two rows and three columns\n",
    "x2[:3,::2] #all rows every other column\n",
    "\n",
    "#subarray dimensions can even be reversed together\n",
    "x2[::-1,::-1]"
   ]
  },
  {
   "cell_type": "code",
   "execution_count": null,
   "metadata": {},
   "outputs": [],
   "source": [
    "print(x2[:,0]) # first column of x2\n",
    "print(x2[0,:]) # first row of x2"
   ]
  },
  {
   "cell_type": "code",
   "execution_count": null,
   "metadata": {},
   "outputs": [],
   "source": [
    "print(x2)"
   ]
  },
  {
   "cell_type": "code",
   "execution_count": null,
   "metadata": {},
   "outputs": [],
   "source": [
    "# Let's extract a subarray from this: \n",
    "x2_sub = x2[:2,:2]\n",
    "print(x2_sub)"
   ]
  },
  {
   "cell_type": "code",
   "execution_count": null,
   "metadata": {},
   "outputs": [],
   "source": [
    "#Now if we modify this subarray we will see that the original array is changed!\n",
    "x2_sub[0,0]=99\n",
    "print(x2)"
   ]
  },
  {
   "cell_type": "markdown",
   "metadata": {},
   "source": [
    "### Creating Copies of Arrays\n",
    "It is useful to instead explicitly copy the data within an array or a subarray. This can be most easily done with the `copy()` method. "
   ]
  },
  {
   "cell_type": "code",
   "execution_count": null,
   "metadata": {},
   "outputs": [],
   "source": [
    "x2_sub_copy=x2[:2,:2].copy() #if we modify this subarray, the original array is not touched\n",
    "print(x2)"
   ]
  },
  {
   "cell_type": "markdown",
   "metadata": {},
   "source": [
    "### Reshaping Arrays\n",
    "\n",
    "- `reshape()`: note that for this to work, the size of the initial array must match the size of the reshaped array. Whenever possible, the `reshape()` method will use a no-copy view of the initial array, but this is not always the case. \n",
    "\n",
    "- Another common reshaping pattern is the conversion of a one-dimensional array into a two dimensional row or column matrix. You can do this with the `reshape()` method or by making use of the `newaxis` keyword within a slice operation. "
   ]
  },
  {
   "cell_type": "code",
   "execution_count": null,
   "metadata": {},
   "outputs": [],
   "source": [
    "grid = np.arange(1,10).reshape((3,3))\n",
    "print(grid)"
   ]
  },
  {
   "cell_type": "code",
   "execution_count": null,
   "metadata": {},
   "outputs": [],
   "source": [
    "x=np.array([1,2,3])\n",
    "\n",
    "# row vector via reshape\n",
    "x.reshape(1,3)\n",
    "\n",
    "# row vector via newaxis\n",
    "x[np.newaxis,:]"
   ]
  },
  {
   "cell_type": "code",
   "execution_count": null,
   "metadata": {},
   "outputs": [],
   "source": [
    "# column vector via reshape\n",
    "x.reshape(3,1)\n",
    "\n",
    "# column vector via newaxis\n",
    "x[:,np.newaxis]"
   ]
  },
  {
   "cell_type": "markdown",
   "metadata": {},
   "source": [
    "### Array Concatenation and Splitting \n",
    "It is possible to combine multiple arrays into one and to conversley split a single array into multiple arrays. \n",
    "\n",
    "Concatenation\n",
    "- `np.concatenate`\n",
    "- `np.vstack`\n",
    "- `np.hstack`\n",
    "- `np.dstack` will stack arrays along the third axis\n",
    "\n",
    "Splitting - for each of these we can pass a list of indices giving the split points. Notice that N split points leads to N + 1 subarrays. \n",
    "- `np.split`\n",
    "- `np.hsplit`\n",
    "- `np.vsplit`\n",
    "- `np.dspllit` will split arrays along the third axis"
   ]
  },
  {
   "cell_type": "code",
   "execution_count": null,
   "metadata": {},
   "outputs": [],
   "source": [
    "x = np.array([1,2,3])\n",
    "y = np.array([3,2,1])\n",
    "z = np.array([99,99,99])\n",
    "\n",
    "np.concatenate([x,y])\n",
    "np.concatenate([x,y,z])\n",
    "\n",
    "# np.concatenate can also be used for two-dimensional arrays\n",
    "grid = np.array([[1,2,3],[3,4,5]])\n",
    "print(grid)"
   ]
  },
  {
   "cell_type": "code",
   "execution_count": null,
   "metadata": {},
   "outputs": [],
   "source": [
    "# Concatenate along the first axis\n",
    "np.concatenate([grid,grid])"
   ]
  },
  {
   "cell_type": "code",
   "execution_count": null,
   "metadata": {},
   "outputs": [],
   "source": [
    "# Concatenate along the second axis \n",
    "np.concatenate([grid,grid],axis=1)"
   ]
  },
  {
   "cell_type": "code",
   "execution_count": null,
   "metadata": {},
   "outputs": [],
   "source": [
    "# Vertically stack the arrays\n",
    "np.vstack([x,grid])\n",
    "\n",
    "# Horizontally stack the arrays \n",
    "y = np.array([[99],[99]])\n",
    "np.hstack([grid,y])"
   ]
  },
  {
   "cell_type": "code",
   "execution_count": null,
   "metadata": {},
   "outputs": [],
   "source": [
    "# Splitting of arrays\n",
    "x = [1,2,3,99,99,3,2,1]\n",
    "x1,x2,x3 = np.split(x,[3,5])\n",
    "print(x1,x2,x3)"
   ]
  },
  {
   "cell_type": "code",
   "execution_count": null,
   "metadata": {},
   "outputs": [],
   "source": [
    "grid = np.arange(16).reshape((4,4))\n",
    "print(grid)"
   ]
  },
  {
   "cell_type": "code",
   "execution_count": null,
   "metadata": {},
   "outputs": [],
   "source": [
    "upper, lower = np.vsplit(grid,[2])"
   ]
  },
  {
   "cell_type": "code",
   "execution_count": null,
   "metadata": {},
   "outputs": [],
   "source": [
    "print(upper,'\\n\\n', lower)"
   ]
  },
  {
   "cell_type": "code",
   "execution_count": null,
   "metadata": {},
   "outputs": [],
   "source": [
    "left, right = np.hsplit(grid,[2])\n",
    "print(left,'\\n\\n', right)"
   ]
  },
  {
   "cell_type": "markdown",
   "metadata": {},
   "source": [
    "### Computation on NumPy Arrays: Universal Functions\n",
    "Numpy is so important in the Python data science world because it provides a flexible interface to optimize computation with arrays. Computations on NumPy arrays can be very fast, ot it can be very slow. The key to making it fast is to use *vectorized* operations which are implemented through NumPy's *universal functions* (ufuncs). Ufuncs main purpose is to quickly execute repeated operations on values in NumPy arrays. Ufuncs can also operate on multidimensional arrays. \n",
    "\n",
    "#### The Slowness of Loops\n",
    "Python's default implementation does some operations very slowly. This is in part due to the fact that data types are flexible so that sequences of operations cannot be compiled down to efficient machine code as in languages like C. Specifically, Python can be slow in situations where many small operations are being repeated (e.g., looping over arrays to operate on each element). The vectorized approach is designed to push the loop into the compiled layer that underlies NumPy, leading to much faster execution.\n",
    "\n",
    "For example, imagine we have an array of values and we'd like to compute the reciprocal of each. A straightforward approach might look like this:"
   ]
  },
  {
   "cell_type": "code",
   "execution_count": null,
   "metadata": {},
   "outputs": [],
   "source": [
    "import numpy as np\n",
    "np.random.seed(0)\n",
    "\n",
    "def compute_reciprocals(values):\n",
    "    output = np.empty(len(values))\n",
    "    for i in range(len(values)):\n",
    "        output[i] = 1.0 / values[i]\n",
    "    return output\n",
    "        \n",
    "values = np.random.randint(1, 10, size=5)\n",
    "compute_reciprocals(values)"
   ]
  },
  {
   "cell_type": "markdown",
   "metadata": {},
   "source": [
    "This implementation feels fairly natural. But if we measure the execution time of this code, we see that this operation is very slow. "
   ]
  },
  {
   "cell_type": "code",
   "execution_count": null,
   "metadata": {},
   "outputs": [],
   "source": [
    "big_array = np.random.randint(1, 100, size=1000000)\n",
    "%timeit compute_reciprocals(big_array)"
   ]
  },
  {
   "cell_type": "markdown",
   "metadata": {},
   "source": [
    "It turns out that the bottleneck here is not the operations themselves, but the type-checking that Python must do at each cycle of the loop. \n",
    "\n",
    "We can instead use a vecrorized approach. This is one that is designed to push the loop into the compiled layer that underlies NumPy, leading to much faster execution. \n",
    "\n",
    "Compare the results of the following two:"
   ]
  },
  {
   "cell_type": "code",
   "execution_count": null,
   "metadata": {},
   "outputs": [],
   "source": [
    "%timeit compute_reciprocals(values)\n",
    "%timeit 1.0/values"
   ]
  },
  {
   "cell_type": "markdown",
   "metadata": {},
   "source": [
    "Vectorized operations in NumPy are implemented via ufuncs, whose main purpose is to quickly execite repeated operations on values in NumPy arrays. Notee that ufunc operations are not limited to one-dimensional arrays, they can also act on multi-dimensional arrays. "
   ]
  },
  {
   "cell_type": "markdown",
   "metadata": {},
   "source": [
    "Computations using vectorization through ufuncs are nearly always more efficient than their counterpart implemented through Python loops (especially as the arrays grow in size). Any time you see a loop in a Python script, you should consider whether it can be replaced with a vectorized expression. \n",
    "\n",
    "Ufuncs exist in two flavors: *unary ufuncs* which operate on a single input, and *binary ufuncs* which operate on two inputs. \n",
    "\n",
    "**Array arithmetic**\n",
    "NumPy's ufuncs feel very natural to use because they make use of Python's native arithmetic operators. The standard addition, subtraction, multiplication, and division can be used. There is also a unary ufunc for negation, exponentiation, and modulus. "
   ]
  },
  {
   "cell_type": "code",
   "execution_count": null,
   "metadata": {},
   "outputs": [],
   "source": [
    "x = np.arange(4)\n",
    "print(\"x     =\", x)\n",
    "print(\"x + 5 =\", x + 5)\n",
    "print(\"x - 5 =\", x - 5)\n",
    "print(\"x * 2 =\", x * 2)\n",
    "print(\"x / 2 =\", x / 2)\n",
    "print(\"x // 2 =\", x // 2)  # floor division\n",
    "print(\"-x     = \", -x)\n",
    "print(\"x ** 2 = \", x ** 2)\n",
    "print(\"x % 2  = \", x % 2)"
   ]
  },
  {
   "cell_type": "markdown",
   "metadata": {},
   "source": [
    "**Arithmetic operations**\n",
    "- `np.add` - additon \n",
    "- `np.subtract` - subtract\n",
    "- `np.negative` - unary negation\n",
    "- `np.multiply`- multiply\n",
    "- `np.divide` - division\n",
    "- `np.floor_divide` - floor division\n",
    "- `np.power` - exponentiation\n",
    "- `np.mod` - modulus/remainder\n",
    "- `np.absolute` also available under the allias `np.abs` - absolute value\n",
    "\n",
    "**Trigonometric functions**\n",
    "- `np.linspace`\n",
    "- `np.sin`\n",
    "- `np.cos`\n",
    "- `np.tan`\n",
    "- `np.arcsin`\n",
    "- `np.arcos`\n",
    "- `np.arctan`\n",
    "The values are computed to within machine precision, which is why values that should be zero do not always hit exactly zero.\n",
    "\n",
    "**Exponents and logs**\n",
    "- `np.exp`\n",
    "- `np.exp2`\n",
    "- `np.power`\n",
    "- `np.log`\n",
    "- `np.log2`\n",
    "- `np.log10`\n",
    "- `np.expm1`\n",
    "- `np.log1p`\n",
    "\n",
    "**Specialized ufuncs**\n",
    "NumPy has many more ufuncs available, including hyperbolic trig functions, bitwise arithmetic, comparison operators, rounding and remainder, and many more. \n",
    "\n",
    "An excellent source for more specialized and obscure ufuncs is the submodule `scipy.special`\n",
    "- `special.gamma`\n",
    "- `special.gammaln`\n",
    "- `special.beta`\n",
    "- `special.erf`\n",
    "- `special.erfc`\n",
    "- `special.erfinv`\n",
    "\n",
    "**Advanced Ufunc features**\n",
    "For large calculations, it is sometimes useful to be able to specify the array where the result of the calculation will be stored. Rather than creating a temporary array, this can be used to write computation results directly to the memory location where you'd like them to be. For all ufuncs, this can be done using the `out` argument. "
   ]
  },
  {
   "cell_type": "code",
   "execution_count": null,
   "metadata": {},
   "outputs": [],
   "source": [
    "x = np.arange(5)\n",
    "y = np.empty(5)\n",
    "\n",
    "np.multiply(x,10,out=y)"
   ]
  },
  {
   "cell_type": "markdown",
   "metadata": {},
   "source": [
    "If we had instead written `y = np.multiply(x,10)` this would have resulted in the creation of a temporary array to hold the results of `np.multiply(x,10)` followed by a second operation copying those values into the `y` array. This doesn't make much of a difference for small computations, but for very large arrays the memory savings from careful use of the `out` argument can be significant. \n",
    "\n",
    "**Aggregates**\n",
    "For binary ufuncs, there are some intersting aggregates that can be computed directly from the object. "
   ]
  },
  {
   "cell_type": "code",
   "execution_count": null,
   "metadata": {},
   "outputs": [],
   "source": [
    "x = np.arange(1, 6)\n",
    "print(np.add.reduce(x))\n",
    "print(np.multiply.reduce(x))\n",
    "print(np.add.accumulate(x))"
   ]
  },
  {
   "cell_type": "markdown",
   "metadata": {},
   "source": [
    "**Outerproducts**\n",
    "Any ufunc can compute the output of all pairs of two different inputs using the `outer` method.  "
   ]
  },
  {
   "cell_type": "code",
   "execution_count": null,
   "metadata": {},
   "outputs": [],
   "source": [
    "x = np.arange(1,6)\n",
    "np.multiply.outer(x,x)"
   ]
  },
  {
   "cell_type": "markdown",
   "metadata": {},
   "source": [
    "**Aggregations: Min, Max, and Everything In Between**\n",
    "Often when faced with a large amount of data, a first step is to compute summary statistics for the data in question. \n",
    "\n",
    "NumPy has fast built-in aggregation functions for working on arrays\n",
    "- `np.sum`\n",
    "- `np.min`\n",
    "- `np.max`\n",
    "\n",
    "For `min`, `max`, `sum`, and several other NumPy aggregates, a shorter syntax is to use methods of the array object itself:"
   ]
  },
  {
   "cell_type": "code",
   "execution_count": null,
   "metadata": {},
   "outputs": [],
   "source": [
    "big_array = np.random.rand(1000000)\n",
    "print(big_array.min(), big_array.max(), big_array.sum())"
   ]
  },
  {
   "cell_type": "markdown",
   "metadata": {},
   "source": [
    "**Multi dimensional aggregates**\n",
    "One common type of aggregation operation is an aggregate along a row or column."
   ]
  },
  {
   "cell_type": "code",
   "execution_count": null,
   "metadata": {},
   "outputs": [],
   "source": [
    "M = np.random.random((3, 4))\n",
    "print(M)"
   ]
  },
  {
   "cell_type": "markdown",
   "metadata": {},
   "source": [
    "By default, each NumPy aggregation function will return the aggregate over the entire array:"
   ]
  },
  {
   "cell_type": "code",
   "execution_count": null,
   "metadata": {},
   "outputs": [],
   "source": [
    "M.sum()"
   ]
  },
  {
   "cell_type": "markdown",
   "metadata": {},
   "source": [
    "Aggregation functions take an additional argument specifying the *axis* along which the aggregate is computed. For example, we can find the minimum value within each column by specifying `axis=0` or we can find the minimum value for each row by specifying `axis=1`. "
   ]
  },
  {
   "cell_type": "code",
   "execution_count": null,
   "metadata": {},
   "outputs": [],
   "source": [
    "M.min(axis=0)"
   ]
  },
  {
   "cell_type": "code",
   "execution_count": null,
   "metadata": {},
   "outputs": [],
   "source": [
    "M.min(axis=1)"
   ]
  },
  {
   "cell_type": "markdown",
   "metadata": {},
   "source": [
    "Note that most aggregates have `NaN` safe counterparts that compute the result while ignoring missing values.\n",
    "\n",
    "| **Function Name** | **NaN-safe Version** | **Description** |\n",
    "| ------------- |-------------| -----|\n",
    "| `np.sum` |`np.nansum` |Compute sum of elements|\n",
    "|`np.prod` | `np.nanprod` | Compute the product of elements|\n",
    "|`np.mean` |`np.nanmean`| Compute the mean of elements|\n",
    "|`np.std` |`np.nanstd`| Compute standard deviation|\n",
    "|`np.var`|`np.nanvar`| Compute variance |\n",
    "|`np.min` | `np.nanmin`| Find the minimum value |\n",
    "|`np.max` |`np.nanmax`| Find the maximum value |\n",
    "|`np.argmin`| `np.nanargmin`| Find the index of minimum value|\n",
    "|`np.argmax`| `np.nanargmax`| Find the index of maxamimum value|\n",
    "|`np.median`| `np.nanmedian`| Compute the median of elements|\n",
    "|`np.percentile`| `np.nanpercentile`| Compute rank-based statistics of elements|\n",
    "|`np.any`| N/A| Evaluate whether any elements are true|\n",
    "|`np.all`| N/A| Find the index of minimum value|"
   ]
  },
  {
   "cell_type": "code",
   "execution_count": null,
   "metadata": {},
   "outputs": [],
   "source": [
    "import pandas as pd\n",
    "df = pd.read_csv('data/president_heights.csv')\n",
    "df.head()"
   ]
  },
  {
   "cell_type": "code",
   "execution_count": null,
   "metadata": {},
   "outputs": [],
   "source": [
    "heights = np.array(data['height(cm)'])\n",
    "print(heights)"
   ]
  },
  {
   "cell_type": "markdown",
   "metadata": {},
   "source": [
    "Now that we have this data array, we can compute a variety of summary statistics:"
   ]
  },
  {
   "cell_type": "code",
   "execution_count": null,
   "metadata": {},
   "outputs": [],
   "source": [
    "print(\"Mean height:       \", heights.mean())\n",
    "print(\"Standard deviation:\", heights.std())\n",
    "print(\"Minimum height:    \", heights.min())\n",
    "print(\"Maximum height:    \", heights.max())\n",
    "print(\"\\n\")\n",
    "print(\"25th percentile:   \", np.percentile(heights, 25))\n",
    "print(\"Median:            \", np.median(heights))\n",
    "print(\"75th percentile:   \", np.percentile(heights, 75))"
   ]
  },
  {
   "cell_type": "markdown",
   "metadata": {},
   "source": [
    "**Computation on Arrays:Broadcasting**\n",
    "We saw in the previous section how NumPy's universal functions can be used to *vectorize* operations and thereby remove slow python loops. Another means of vectorizing operations is to use NumPy's broadcasting functionality. Broadcasting is a set of rules for applying binary ufuncs (e.g., addition, subtraction, multiplication, etc.) on arrays of different sizes. \n",
    "\n",
    "Recall that for arrays of the same size, binary operations are performed on an element-by-element basis:"
   ]
  },
  {
   "cell_type": "code",
   "execution_count": null,
   "metadata": {},
   "outputs": [],
   "source": [
    "import numpy as np\n",
    "a = np.array([0, 1, 2])\n",
    "b = np.array([5, 5, 5])\n",
    "a+b"
   ]
  },
  {
   "cell_type": "markdown",
   "metadata": {},
   "source": [
    "Broadcasting allows these types of binary operations to be performed on arrays of different sizes. Observe the result when we add a one-dimensional array to a two-dimensional array:"
   ]
  },
  {
   "cell_type": "code",
   "execution_count": null,
   "metadata": {},
   "outputs": [],
   "source": [
    "M = np.ones((3,3))\n",
    "M"
   ]
  },
  {
   "cell_type": "code",
   "execution_count": null,
   "metadata": {},
   "outputs": [],
   "source": [
    "M+a"
   ]
  },
  {
   "cell_type": "markdown",
   "metadata": {},
   "source": [
    "Here the one-dimensional array `a` is stretched (i.e., broadcast) in order to match the shape of `M`. More complicated cases can involve broadcasting of both arrays. "
   ]
  },
  {
   "cell_type": "code",
   "execution_count": null,
   "metadata": {},
   "outputs": [],
   "source": [
    "a = np.arange(3)\n",
    "b = np.arange(3)[:, np.newaxis]\n",
    "\n",
    "print(a)\n",
    "print(b)"
   ]
  },
  {
   "cell_type": "code",
   "execution_count": null,
   "metadata": {},
   "outputs": [],
   "source": [
    "a + b"
   ]
  },
  {
   "attachments": {
    "Screen%20Shot%202020-10-11%20at%202.48.49%20PM.png": {
     "image/png": "[encoded data removed]"
    }
   },
   "cell_type": "markdown",
   "metadata": {},
   "source": [
    "![Screen%20Shot%202020-10-11%20at%202.48.49%20PM.png](attachment:Screen%20Shot%202020-10-11%20at%202.48.49%20PM.png)\n",
    "\n",
    "In this image, the light boxes represent the broadcasted values. \n",
    "\n",
    "**Rules of Broadcasting**\n",
    "Broadcasting in NumPy follows a strict set of rules to determine the interaction between two arrays:\n",
    "- Rule 1: If the two arrays differ in their number of dimensions, the shape of the one with fewer dimensions is *padded* with ones on its leading (left) side.  \n",
    "- Rule 2: If the shape of the two arrays does not match in any dimension, the array with shape equal to 1 in that dimension is strentched to match othe other shape. \n",
    "- Rule 3: If in any dimension the sizes disagree and neither is equal to 1, an error is raised. \n",
    "\n",
    "**Broadcasting in Practice**\n",
    "- Centering an array\n",
    "- Plotting a two-dimensional function\n",
    "    - If we want to define a function z = f(x,y), broadcasting can be used to compute the function across the grid. "
   ]
  },
  {
   "cell_type": "code",
   "execution_count": null,
   "metadata": {},
   "outputs": [],
   "source": [
    "# Centering an array\n",
    "\n",
    "X = np.random.random((10, 3))\n",
    "\n",
    "# compute the mean across the first dimension\n",
    "Xmean = X.mean(0)\n",
    "\n",
    "# center X by subtracting the mean\n",
    "X_centered = X - Xmean\n",
    "\n",
    "# to check that we have done this correctly, we can check that the\n",
    "# centered array has near zero mean \n",
    "X_centered.mean(0)"
   ]
  },
  {
   "cell_type": "code",
   "execution_count": null,
   "metadata": {},
   "outputs": [],
   "source": [
    "# Plotting a two-dimensional function\n",
    "\n",
    "# x and y have 50 steps from 0 to 5\n",
    "x = np.linspace(0, 5, 50)\n",
    "y = np.linspace(0, 5, 50)[:, np.newaxis]\n",
    "\n",
    "z = np.sin(x) ** 10 + np.cos(10 + y * x) * np.cos(x)"
   ]
  },
  {
   "cell_type": "code",
   "execution_count": null,
   "metadata": {},
   "outputs": [],
   "source": [
    "%matplotlib inline\n",
    "import matplotlib.pyplot as plt\n",
    "\n",
    "plt.imshow(z,origin = 'lower',\n",
    "           extent = [0,5,0,5],\n",
    "           cmap = 'viridis')\n",
    "plt.colorbar();"
   ]
  },
  {
   "cell_type": "markdown",
   "metadata": {},
   "source": [
    "**Comparisons, Masks, and Boolean Logic**\n",
    "Masking comes up when you want to extract, modify, count, or otherwise manipulate values in an array based on some criterion. For example, you might wish to count all values greater than a certain value, or perhaps remove all outliers that are above some threshold. In NumPy, Boolean masking is often the most efficient way to accomplish these types of tasks. "
   ]
  },
  {
   "cell_type": "code",
   "execution_count": null,
   "metadata": {},
   "outputs": [],
   "source": [
    "import numpy as np\n",
    "import pandas as pd\n",
    "\n",
    "# use pandas to extract rainfall inches as a NumPy array\n",
    "rainfall = pd.read_csv('data/Seattle2014.csv')['PRCP'].values\n",
    "print(rainfall[0:10])\n",
    "\n",
    "inches = rainfall/254.0\n",
    "print(inches[0:10])\n",
    "\n",
    "inches.shape"
   ]
  },
  {
   "cell_type": "code",
   "execution_count": null,
   "metadata": {},
   "outputs": [],
   "source": [
    "%matplotlib inline\n",
    "import matplotlib.pyplot as plt\n",
    "import seaborn as sns; sns.set()"
   ]
  },
  {
   "cell_type": "code",
   "execution_count": null,
   "metadata": {},
   "outputs": [],
   "source": [
    "plt.hist(inches,40);"
   ]
  },
  {
   "cell_type": "markdown",
   "metadata": {},
   "source": [
    "This histogram gives us a general idea of what the data looks like. But this doesn't do a good job of conveying some other information: for example, how many rainy days where there last year? What is the average precipitation on those rainy days? How many rainy days were there with more than 1/2 inch of rain? \n",
    "\n",
    "One approach to this would be to answer these questions by hand: loop through the data, incrementing a counter each time we see values in some desired range. This approach is very inefficient! We saw that NumPy's ufuncs can be used in place of loops to do fast element-wise arithmetic operations on arrays; in the same way, we can use other ufuncs to do element-wise comparisons over arrays. \n",
    "\n",
    "**Comparison Operations as ufuncs**\n",
    "NumPy implements comparison operators such as `<` and `>` as element wise ufuncs. The result of these comparison operators is always an array with a Boolean data type. \n",
    "\n",
    "All six of the standard comparison operations are available: \n",
    "- `<`\n",
    "- `>`\n",
    "- `<=`\n",
    "- `>=`\n",
    "- `!=`\n",
    "- `==`\n",
    "\n",
    "| **Operator** | **Equivalent ufunc** |\n",
    "| ------------- |-------------|\n",
    "| `==` | `np.equal`|\n",
    "|`<` | `np.less`|\n",
    "|`>` | `np.greater`|\n",
    "|`!=` | `np.not_equal`|\n",
    "|`<=` | `np.less_equal`|\n",
    "|`<` | `np.greater_equal`|"
   ]
  },
  {
   "cell_type": "code",
   "execution_count": null,
   "metadata": {},
   "outputs": [],
   "source": [
    "x = np.array([1, 2, 3, 4, 5])\n",
    "x < 3"
   ]
  },
  {
   "cell_type": "markdown",
   "metadata": {},
   "source": [
    "It is also possible to do an element-wise comparison of two arrays, and to include compound expressions: "
   ]
  },
  {
   "cell_type": "code",
   "execution_count": null,
   "metadata": {},
   "outputs": [],
   "source": [
    "(2*x) == (x**2)"
   ]
  },
  {
   "cell_type": "markdown",
   "metadata": {},
   "source": [
    "These will work on arrays of any size and shape. "
   ]
  },
  {
   "cell_type": "code",
   "execution_count": null,
   "metadata": {},
   "outputs": [],
   "source": [
    "rng = np.random.RandomState(0)\n",
    "x = rng.randint(10, size=(3, 4))\n",
    "x"
   ]
  },
  {
   "cell_type": "code",
   "execution_count": null,
   "metadata": {},
   "outputs": [],
   "source": [
    "x <6"
   ]
  },
  {
   "cell_type": "markdown",
   "metadata": {},
   "source": [
    "**Working with Boolean Arrays**\n",
    "Given a Boolean array, there are a host of useful operations you can do. \n",
    "\n",
    "**Counting entries**\n",
    "To count the number of `True` entries in a Boolean array, `np.count_nonzero` is useful. "
   ]
  },
  {
   "cell_type": "code",
   "execution_count": null,
   "metadata": {
    "scrolled": true
   },
   "outputs": [],
   "source": [
    "print(x)\n",
    "\n",
    "# how many values are less than 6?\n",
    "np.count_nonzero(x<6)"
   ]
  },
  {
   "cell_type": "markdown",
   "metadata": {},
   "source": [
    "Another way to get at this information is to use `np.sum`. In this case, `False` is interpreted as `0` and `True` is interpreted as `1`. "
   ]
  },
  {
   "cell_type": "code",
   "execution_count": null,
   "metadata": {},
   "outputs": [],
   "source": [
    "np.sum(x<6)"
   ]
  },
  {
   "cell_type": "markdown",
   "metadata": {},
   "source": [
    "The benefit of `sum()` is that this summation can be done along rows or columns as well:"
   ]
  },
  {
   "cell_type": "code",
   "execution_count": null,
   "metadata": {},
   "outputs": [],
   "source": [
    "# how many values less than 6 in each row?\n",
    "np.sum(x<6,axis=1)"
   ]
  },
  {
   "cell_type": "markdown",
   "metadata": {},
   "source": [
    "If we're interested in quickly checking whether any or all the values are true, we can use `np.any` or `np.all`. These two can be used along particular axes as well. "
   ]
  },
  {
   "cell_type": "code",
   "execution_count": null,
   "metadata": {},
   "outputs": [],
   "source": [
    "# are there any values greater than 8?\n",
    "np.any(x>8)\n",
    "\n",
    "# are all values less than 10?\n",
    "np.all(x<10)"
   ]
  },
  {
   "cell_type": "code",
   "execution_count": null,
   "metadata": {},
   "outputs": [],
   "source": [
    "np.all(x<8,axis=1)"
   ]
  },
  {
   "cell_type": "markdown",
   "metadata": {},
   "source": [
    "**Boolean operators**\n",
    "What if we want to know about all days with rain less than 4 inches and greater than 1 inch? This is accomplished through Python's *bitwise logic operators* `&`,`|`,`^`, and `~`."
   ]
  },
  {
   "cell_type": "code",
   "execution_count": null,
   "metadata": {},
   "outputs": [],
   "source": [
    "np.sum((inches > 0.5) & (inches < 1))"
   ]
  },
  {
   "cell_type": "code",
   "execution_count": null,
   "metadata": {},
   "outputs": [],
   "source": [
    "print(\"Number days without rain:      \", np.sum(inches == 0))\n",
    "print(\"Number days with rain:         \", np.sum(inches != 0))\n",
    "print(\"Days with more than 0.5 inches:\", np.sum(inches > 0.5))\n",
    "print(\"Rainy days with < 0.2 inches  :\", np.sum((inches > 0) &\n",
    "                                                (inches < 0.2)))"
   ]
  },
  {
   "cell_type": "markdown",
   "metadata": {},
   "source": [
    "Suppose we want an array of all values that are less than 5. "
   ]
  },
  {
   "cell_type": "code",
   "execution_count": null,
   "metadata": {},
   "outputs": [],
   "source": [
    "print(x)"
   ]
  },
  {
   "cell_type": "code",
   "execution_count": null,
   "metadata": {},
   "outputs": [],
   "source": [
    "x<5"
   ]
  },
  {
   "cell_type": "markdown",
   "metadata": {},
   "source": [
    "Now to select these values from the array, we can simply index on this Boolean array; this is known as a *masking operation*. "
   ]
  },
  {
   "cell_type": "code",
   "execution_count": null,
   "metadata": {},
   "outputs": [],
   "source": [
    "x[x<5]"
   ]
  },
  {
   "cell_type": "markdown",
   "metadata": {},
   "source": [
    "What is returned is a one-dimensional array filled with all the values that meet this condition. In other words, all the values in positions at which the mask array is `True`. \n",
    "\n",
    "**Aside: using the keywords and/or versus the operators &/|**\n",
    "`and` and `or` gauge the truth or falsehood of the entire object, while `&` and `|` refer to bits within each object. \n",
    "\n",
    "When you use `and` or `or` it's equivalent to asking Python to treat the object as a single Boolean entity. When you use `&` and `|` on integers, the expression operates on the bits of the element, applying the *and* or the *or* to the individual bits making up the number. \n",
    "\n",
    "When you have an array of Boolean values in NumPy, this can be thought of as a string of bits where `1 = True` and `0 = False`."
   ]
  },
  {
   "cell_type": "code",
   "execution_count": null,
   "metadata": {},
   "outputs": [],
   "source": [
    "A = np.array([1,0,1,0,1,0],dtype=bool)\n",
    "B = np.array([1,1,1,0,1,1],dtype=bool)\n",
    "A|B"
   ]
  },
  {
   "cell_type": "markdown",
   "metadata": {},
   "source": [
    "Using `or` on these arrays will try to evaluate the truth or falsehood of the entire array object, which is not a well-defined value. "
   ]
  },
  {
   "cell_type": "code",
   "execution_count": null,
   "metadata": {},
   "outputs": [],
   "source": [
    "# returns an error\n",
    "A or B"
   ]
  },
  {
   "cell_type": "markdown",
   "metadata": {},
   "source": [
    "Similarly, when doing a Boolean expression on a given array, you should use `|` or `&` rather than `or` or `and`. "
   ]
  },
  {
   "cell_type": "code",
   "execution_count": null,
   "metadata": {},
   "outputs": [],
   "source": [
    "x = np.arange(10)\n",
    "(x > 4) & (x < 8)"
   ]
  },
  {
   "cell_type": "markdown",
   "metadata": {},
   "source": [
    "Trying to evaluate the truth or falsehood on the entire array will give the same error we saw before."
   ]
  },
  {
   "cell_type": "code",
   "execution_count": null,
   "metadata": {},
   "outputs": [],
   "source": [
    "# returns an error\n",
    "(x > 4) and (x < 8)"
   ]
  },
  {
   "cell_type": "markdown",
   "metadata": {},
   "source": [
    "**Fancy Indexing**\n",
    "In the previous sections, we saw how to access and modify portions of arrays using simple indices (e.g., arr[0]), slices (e.g., arr[:5]), and Boolean masks (e.g., arr[arr >0]). Fancy indexing is like simple indexing, but we pass arrays of indices instead of simple scalars. This allows us to very quickly access and modify complicates subsets of an array's values. "
   ]
  },
  {
   "cell_type": "code",
   "execution_count": null,
   "metadata": {},
   "outputs": [],
   "source": [
    "import numpy as np\n",
    "rand = np.random.RandomState(42)\n",
    "\n",
    "x = rand.randint(100,size=10)\n",
    "print(x)"
   ]
  },
  {
   "cell_type": "markdown",
   "metadata": {},
   "source": [
    "Suppose we want to access three different elements. We could do it like this: "
   ]
  },
  {
   "cell_type": "code",
   "execution_count": null,
   "metadata": {},
   "outputs": [],
   "source": [
    "[x[3],x[7],x[2]]"
   ]
  },
  {
   "cell_type": "markdown",
   "metadata": {},
   "source": [
    "Alternatively, we can pass a single list or array of indices."
   ]
  },
  {
   "cell_type": "code",
   "execution_count": null,
   "metadata": {},
   "outputs": [],
   "source": [
    "ind = [3,7,2]\n",
    "\n",
    "x[ind]"
   ]
  },
  {
   "cell_type": "markdown",
   "metadata": {},
   "source": [
    "When using fancy indexing, the shape of the result reflects the shape of the *index arrays* rather than the shape of the array being indexed. "
   ]
  },
  {
   "cell_type": "code",
   "execution_count": null,
   "metadata": {},
   "outputs": [],
   "source": [
    "ind = np.array([[3,7],\n",
    "                [4,5]])\n",
    "\n",
    "x[ind]"
   ]
  },
  {
   "cell_type": "markdown",
   "metadata": {},
   "source": [
    "Fancy indexing also works in multiple dimensions. "
   ]
  },
  {
   "cell_type": "code",
   "execution_count": null,
   "metadata": {},
   "outputs": [],
   "source": [
    "X = np.arange(12).reshape((3,4))\n",
    "X"
   ]
  },
  {
   "cell_type": "code",
   "execution_count": null,
   "metadata": {},
   "outputs": [],
   "source": [
    "row = np.array([0,1,2])\n",
    "col = np.array([2,1,3])\n",
    "X[row,col]"
   ]
  },
  {
   "cell_type": "markdown",
   "metadata": {},
   "source": [
    "**Combined Indexing**\n",
    "Fancy indexing can be combined with the other indexing schemes we've seen. "
   ]
  },
  {
   "cell_type": "code",
   "execution_count": null,
   "metadata": {},
   "outputs": [],
   "source": [
    "print(X)"
   ]
  },
  {
   "cell_type": "code",
   "execution_count": null,
   "metadata": {},
   "outputs": [],
   "source": [
    "X[2,[2,0,1]]"
   ]
  },
  {
   "cell_type": "code",
   "execution_count": null,
   "metadata": {},
   "outputs": [],
   "source": [
    "X[1:,[2,0,1]]"
   ]
  },
  {
   "cell_type": "markdown",
   "metadata": {},
   "source": [
    "**Examples: Selecting Random Points**\n",
    "One common use of fancy indexing is the selection of subsets of rows from a matrix. For example, we might have an N by D matrix "
   ]
  },
  {
   "cell_type": "code",
   "execution_count": null,
   "metadata": {},
   "outputs": [],
   "source": [
    "mean = [0,0]\n",
    "cov = [[1,2],\n",
    "       [2,5]]\n",
    "X = rand.multivariate_normal(mean,cov,100)\n",
    "X.shape"
   ]
  },
  {
   "cell_type": "code",
   "execution_count": null,
   "metadata": {},
   "outputs": [],
   "source": [
    "%matplotlib inline\n",
    "import matplotlib.pyplot as plt\n",
    "import seaborn as sns; sns.set()\n",
    "\n",
    "plt.scatter(X[:,0],X[:,1]);"
   ]
  },
  {
   "cell_type": "markdown",
   "metadata": {},
   "source": [
    "Let's use fancy indexing to select 20 random points. "
   ]
  },
  {
   "cell_type": "code",
   "execution_count": null,
   "metadata": {},
   "outputs": [],
   "source": [
    "indices = np.random.choice(X.shape[0],20,replace=False)\n",
    "print(indices)"
   ]
  },
  {
   "cell_type": "code",
   "execution_count": null,
   "metadata": {},
   "outputs": [],
   "source": [
    "selection = X[indices] # fancy indexing here\n",
    "print(selection)\n",
    "selection.shape"
   ]
  },
  {
   "cell_type": "markdown",
   "metadata": {},
   "source": [
    "Now to see which points were selected, let's over-plot large circles at the locations of the selected points:"
   ]
  },
  {
   "cell_type": "code",
   "execution_count": null,
   "metadata": {},
   "outputs": [],
   "source": [
    "plt.scatter(X[:,0],X[:,1],alpha=0.3)\n",
    "plt.scatter(selection[:,0],selection[:,1],\n",
    "           facecolor='none',edgecolor='b',s=200);"
   ]
  },
  {
   "cell_type": "markdown",
   "metadata": {},
   "source": [
    "**Modifying Values with Fancy Indexing**\n",
    "Just as fancy indexing can be used to access parts of an array, it can also be used to modify parts of an array."
   ]
  },
  {
   "cell_type": "code",
   "execution_count": null,
   "metadata": {},
   "outputs": [],
   "source": [
    "x = np.arange(10)\n",
    "i = np.array([2,1,8,4])\n",
    "x[i] = 99\n",
    "print(x)"
   ]
  },
  {
   "cell_type": "code",
   "execution_count": null,
   "metadata": {},
   "outputs": [],
   "source": [
    "x[i]-=10\n",
    "print(x)"
   ]
  },
  {
   "cell_type": "markdown",
   "metadata": {},
   "source": [
    "Notice, though, that repeated indices with these operations can cause some potentially unexpected results. "
   ]
  },
  {
   "cell_type": "code",
   "execution_count": null,
   "metadata": {},
   "outputs": [],
   "source": [
    "x = np.array([6,0,0,0,0,0,0,0,0,0])\n",
    "i = [2,3,3,4,4,4]\n",
    "x[i]+=1\n",
    "print(x)"
   ]
  },
  {
   "cell_type": "markdown",
   "metadata": {},
   "source": [
    "You might expect that `x[3]` would contain the value 2 and `x[4]` would contain that value 3 as this is how many times each index is repeated. Why is this not the case? This is because `x[i] += 1` is meant as a shorthand of `x[i] = x[i] + 1`. `x[i] + 1` is evaluated, and then the result is assigned to the indices in x. With this in mind, it is not the augmentation that happens multiple times, but the assignment, which leads to the rather nonintuitive results.\n",
    "\n",
    "So if you want to repeat an operation at a certain index, you can use the `at()` method of ufuncs. Another method that is similar in spirit is the `reduceat()` method of ufuncs. "
   ]
  },
  {
   "cell_type": "code",
   "execution_count": null,
   "metadata": {},
   "outputs": [],
   "source": [
    "i = [2,3,3,4,4,4]\n",
    "x = np.zeros(10)\n",
    "np.add.at(x, i, 1)\n",
    "print(x)"
   ]
  },
  {
   "cell_type": "markdown",
   "metadata": {},
   "source": [
    "**Example: Binning Data**"
   ]
  },
  {
   "cell_type": "code",
   "execution_count": null,
   "metadata": {},
   "outputs": [],
   "source": [
    "np.random.seed(42)\n",
    "x = np.random.randn(100)\n",
    "\n",
    "# compute a histogram by hand\n",
    "bins = np.linspace(-5,5,20)\n",
    "counts = np.zeros_like(bins)\n",
    "\n",
    "# find the appropriate bin for each x\n",
    "i = np.searchsorted(bins,x)\n",
    "\n",
    "# add 1 to each of these bins\n",
    "np.add.at(counts,i,1)\n",
    "\n",
    "# plot the results\n",
    "plt.plot(bins, counts, linestyle='steps');"
   ]
  },
  {
   "cell_type": "markdown",
   "metadata": {},
   "source": [
    "Interesting point: algorithmic efficiency is almost never a simple question. An algorithm efficient for large datasets will not always be the best choice for small datasets, and vice cersa.\n",
    "\n",
    "**Sorting Arrays**\n",
    "There are many different sorting algorithms: *insertion sorts*, *selection sorts*, *merge sorts*, *quick sorts*, *bubble sorts*, etc. \n",
    "\n",
    "A *selection sort* repeatedly finds the minimum value from a list, and makes swaps until the list is sorted. "
   ]
  },
  {
   "cell_type": "code",
   "execution_count": null,
   "metadata": {},
   "outputs": [],
   "source": [
    "import numpy as np\n",
    "\n",
    "def selection_sort(x):\n",
    "    for i in range(len(x)):\n",
    "        swap = i + np.argmin(x[i:])\n",
    "        (x[i],x[swap]) = (x[swap],x[i])\n",
    "    return x"
   ]
  },
  {
   "cell_type": "code",
   "execution_count": null,
   "metadata": {},
   "outputs": [],
   "source": [
    "x = np.array([2,1,4,3,5])\n",
    "selection_sort(x)"
   ]
  },
  {
   "cell_type": "markdown",
   "metadata": {},
   "source": [
    "The selection sort is useful for its simplicity, but it is much too slow to be useful for larger arrays. Python contains built-in algorithms that are much more efficient than the selection sort. \n",
    "\n",
    "**Fast Sorting in NumPy**\n",
    "`np.argsort`\n",
    "Although Python has built-in `sort` and `sorted` functions to work with lists, we won't discuss them here because NumPy's `np.sort` function turns out to be much more efficient and useful for our purposes. By default `np.sort` uses a *quicksort* algorithm, though *mergesort* and *heapsort* are also available. For most applications, the default quicksort is more than sufficent. \n",
    "\n",
    "To return a sorted version of the array without modifying the input, you can use `np.sort`."
   ]
  },
  {
   "cell_type": "code",
   "execution_count": null,
   "metadata": {},
   "outputs": [],
   "source": [
    "x = np.array([2, 1, 4, 3, 5])\n",
    "np.sort(x)"
   ]
  },
  {
   "cell_type": "markdown",
   "metadata": {},
   "source": [
    "If you prefer to sort the array in-place, you can instead use the `sort` method. "
   ]
  },
  {
   "cell_type": "code",
   "execution_count": null,
   "metadata": {},
   "outputs": [],
   "source": [
    "x = np.array([2, 1, 4, 3, 5])\n",
    "x.sort()\n",
    "print(x)"
   ]
  },
  {
   "cell_type": "markdown",
   "metadata": {},
   "source": [
    "A related function is `argsort` which instead returns the *indices* of the sorted elements:"
   ]
  },
  {
   "cell_type": "code",
   "execution_count": null,
   "metadata": {},
   "outputs": [],
   "source": [
    "x = np.array([2, 1, 4, 3, 5])\n",
    "i = np.argsort(x)\n",
    "print(i)"
   ]
  },
  {
   "cell_type": "markdown",
   "metadata": {},
   "source": [
    "**Sorting along rows or columns**\n",
    "A useful feature of NumPy's sorting algorithms is the ability to sort along specific rows or columns of a multidimensional array using the `axis` argument. "
   ]
  },
  {
   "cell_type": "code",
   "execution_count": null,
   "metadata": {},
   "outputs": [],
   "source": [
    "rand = np.random.RandomState(42)\n",
    "X = rand.randint(0, 10, (4, 6))\n",
    "print(X)"
   ]
  },
  {
   "cell_type": "code",
   "execution_count": null,
   "metadata": {
    "scrolled": true
   },
   "outputs": [],
   "source": [
    "# sort each column of X\n",
    "np.sort(X, axis=0)"
   ]
  },
  {
   "cell_type": "code",
   "execution_count": null,
   "metadata": {},
   "outputs": [],
   "source": [
    "# sort each row of X\n",
    "np.sort(X, axis=1)"
   ]
  },
  {
   "cell_type": "markdown",
   "metadata": {},
   "source": [
    "Keep in mind that this treats each row or column as an independent array, and any relationsips between the row or column values will be lost!\n",
    "\n",
    "**Partial Sorts: Partitioning**\n",
    "Sometimes we're not interested in sorting the entire array, but simply want to find the *k* smallest values in the array. \n",
    "\n",
    "`np.partition` takes an array and a number *k*; the result is a new array with the smallest *k* values to the left of the partiion, and the remaining values to the right. Note that within the two partitions, the elements have an arbitrary order. \n",
    "\n",
    "`np.argpartition` computes the indices of the partition."
   ]
  },
  {
   "cell_type": "code",
   "execution_count": null,
   "metadata": {},
   "outputs": [],
   "source": [
    "x = np.array([7,2,3,1,6,5,4])\n",
    "np.partition(x,3)"
   ]
  },
  {
   "cell_type": "code",
   "execution_count": null,
   "metadata": {},
   "outputs": [],
   "source": [
    "X = rand.randint(0, 10, (4, 6))\n",
    "np.partition(X,2,axis=1)"
   ]
  },
  {
   "cell_type": "markdown",
   "metadata": {},
   "source": [
    "**Example: k-Nearest Neighbors**\n",
    "We can use the `argsort` function along multiple axes to find the nearest neighbors of each point in a set. "
   ]
  },
  {
   "cell_type": "code",
   "execution_count": null,
   "metadata": {},
   "outputs": [],
   "source": [
    "X = rand.rand(10,2)\n",
    "print(X)"
   ]
  },
  {
   "cell_type": "code",
   "execution_count": null,
   "metadata": {},
   "outputs": [],
   "source": [
    "%matplotlib inline\n",
    "import matplotlib.pyplot as plt\n",
    "import seaborn; seaborn.set() # Plot styling\n",
    "plt.scatter(X[:, 0], X[:, 1], s=100);"
   ]
  },
  {
   "cell_type": "markdown",
   "metadata": {},
   "source": [
    "Now we'll compute the distance between each pair of points."
   ]
  },
  {
   "cell_type": "code",
   "execution_count": null,
   "metadata": {},
   "outputs": [],
   "source": [
    "# for each pair of points, compute differences in their coordinates\n",
    "differences = X[:, np.newaxis, :] - X[np.newaxis, :, :]\n",
    "\n",
    "# square the coordinate differences\n",
    "sq_differences = differences ** 2\n",
    "\n",
    "# sum the coordinate differences to get the squared distance\n",
    "dist_sq = sq_differences.sum(-1)\n",
    "print(dist_sq)"
   ]
  },
  {
   "cell_type": "markdown",
   "metadata": {},
   "source": [
    "With the pairwise square-distances converted, we can now use `np.argsort` to sort along each row. The leftmost columns will then give the indices of the nearest neighbors. "
   ]
  },
  {
   "cell_type": "code",
   "execution_count": null,
   "metadata": {},
   "outputs": [],
   "source": [
    "nearest = np.argsort(dist_sq, axis=1)\n",
    "print(nearest)"
   ]
  },
  {
   "cell_type": "markdown",
   "metadata": {},
   "source": [
    "By using a full sort here, we've actually done more work than we need to. If we're simply interestd in the nearest *k* neighbors, all we need is to parition each row so that the smallest *k* + 1 squared distances come first, with the larger distances filling in the remaining positions of the array. We can do this with the `np.argpartition` function."
   ]
  },
  {
   "cell_type": "code",
   "execution_count": null,
   "metadata": {},
   "outputs": [],
   "source": [
    "K = 2\n",
    "nearest_partition = np.argpartition(dist_sq, K + 1, axis=1)\n",
    "print(nearest_partition)"
   ]
  },
  {
   "cell_type": "markdown",
   "metadata": {},
   "source": [
    "**Aside: Big-O Notation**\n",
    "Big-O notation is a means of describing how the number of operations required for an algorithm scales as the input grows in size. \n",
    "\n",
    "Big-O notation, in the loose sense, tells you how much time your algorithm will take as you increase the amount of data. If you have an O[N] (read \"order N\") algorithm that takes 1 second to operate on a list of length N=1,000, then you should expect it to take roughly 5 seconds for a list of length N=5,000. If you have an O[N2] (read \"order N squared\") algorithm that takes 1 second for N=1000, then you should expect it to take about 25 seconds for N=5000.\n",
    "\n",
    "Note that for small datasets in particular, the algorithm with better scaling might not be faster. For example, in a given problem an O[N2] algorithm might take 0.01 seconds, while a \"better\" O[N] algorithm might take 1 second.\n",
    "\n",
    "**Structured Data: NumPy's Structured Arrays**\n",
    "While often our data can be represented by a homogeneous array of values, sometimes this is not the case. NumPy's *structured arrays* and *record arrays* provide efficient storage for compound, heterogeneous data. While the patterns shown here are useful for simple operations, scenerios like this often lend themselves to the use of Pandas dataframes. \n",
    "\n",
    "Imagine that we have several categories of data on a number of people and we'd like to store these values. It would be possible to store these in three separate arrays. "
   ]
  },
  {
   "cell_type": "code",
   "execution_count": null,
   "metadata": {},
   "outputs": [],
   "source": [
    "import numpy as np\n",
    "\n",
    "name = ['Alice', 'Bob', 'Cathy', 'Doug']\n",
    "age = [25, 45, 37, 19]\n",
    "weight = [55.0, 85.5, 68.0, 61.5]"
   ]
  },
  {
   "cell_type": "markdown",
   "metadata": {},
   "source": [
    "But there is nothing here that tells us that the three arrays are related; it would be more natural if we could use a single structure to store all this data. \n",
    "\n",
    "NumPy can handle this through structured arrays, which are arrays with compound data types."
   ]
  },
  {
   "cell_type": "code",
   "execution_count": null,
   "metadata": {},
   "outputs": [],
   "source": [
    "# Use a compound data type for structured arrays\n",
    "data = np.zeros(4, dtype={'names':('name', 'age', 'weight'),\n",
    "                          'formats':('U10', 'i4', 'f8')})\n",
    "print(data.dtype)\n",
    "print(data)"
   ]
  },
  {
   "cell_type": "markdown",
   "metadata": {},
   "source": [
    "`U10` translates to unicode string of maximum length 10. \n",
    "`i4` translates to 4-byte (i.e., 32 bit) integer. \n",
    "`f8` translates to 8-byte (i.e., 64 bit) float. \n",
    "\n",
    "Now that we have created an empty container array, we can fill the array with our lists of values.\n",
    "\n",
    "| **Character** | **Description** |**Example**|\n",
    "| ------------- |-------------|-------------|\n",
    "|`b` | Byte | `np.dtype('b')`|\n",
    "|`i` | Signed integer | `np.dtype('i4')==np.int32`|\n",
    "|`u` | Unsigned integer | `np.dtype('u1')==np.uint8`|\n",
    "|`f` | Floating point | `np.dtype('f8')==np.int64`|\n",
    "|`c` | Complex floating point | `np.dtype('c16')==np.complex128`|\n",
    "|`S`,`a` | String | `np.dtype('S5')`|\n",
    "|`U` | Unicode string | `np.dtype('U')==np.str_`|\n",
    "|`V` | Raw data (void) | `np.dtype('V')==np.void`|"
   ]
  },
  {
   "cell_type": "code",
   "execution_count": null,
   "metadata": {},
   "outputs": [],
   "source": [
    "data['name'] = name\n",
    "data['age'] = age\n",
    "data['weight'] = weight\n",
    "print(data)"
   ]
  },
  {
   "cell_type": "markdown",
   "metadata": {},
   "source": [
    "The handy thing with structured arrays is that you can refer to values either by index or by name. "
   ]
  },
  {
   "cell_type": "code",
   "execution_count": null,
   "metadata": {},
   "outputs": [],
   "source": [
    "# Get all names\n",
    "data['name']"
   ]
  },
  {
   "cell_type": "code",
   "execution_count": null,
   "metadata": {},
   "outputs": [],
   "source": [
    "# Get the first row of data\n",
    "data[0]"
   ]
  },
  {
   "cell_type": "code",
   "execution_count": null,
   "metadata": {},
   "outputs": [],
   "source": [
    "# Get the name from the last row\n",
    "data[-1]['name']"
   ]
  },
  {
   "cell_type": "markdown",
   "metadata": {},
   "source": [
    "Using Boolean masking, this even allows you to do some more sophisticated operations such as filtering on age. "
   ]
  },
  {
   "cell_type": "code",
   "execution_count": null,
   "metadata": {},
   "outputs": [],
   "source": [
    "# Get names where age is under 30\n",
    "data[data['age'] < 30]['name']"
   ]
  },
  {
   "cell_type": "markdown",
   "metadata": {},
   "source": [
    "**RecordArrays: Structured Arrays with a Twist**\n",
    "NumPy provides the `np.recarray` class, which is almost identical to the the structured arrays, but with one additional feature: fields can be accessed as attributes rather than as dictionary keys. \n",
    "\n",
    "Recall that we previously accessed the ages by writing:"
   ]
  },
  {
   "cell_type": "code",
   "execution_count": null,
   "metadata": {},
   "outputs": [],
   "source": [
    "data['age']"
   ]
  },
  {
   "cell_type": "markdown",
   "metadata": {},
   "source": [
    "If we view our data as a record array instead, we can access this with slightly fewer keystrokes. "
   ]
  },
  {
   "cell_type": "code",
   "execution_count": null,
   "metadata": {},
   "outputs": [],
   "source": [
    "data_rec = data.view(np.recarray)\n",
    "data_rec.age"
   ]
  },
  {
   "cell_type": "markdown",
   "metadata": {},
   "source": [
    "Structured arrays like the ones discussed here are good to know about for certain situations, especially in case you're using NumPy arrays to map onto binary data formats in C, Fortran, or another language. For day-to-day use of structured data, the Pandas package is a much better choice."
   ]
  },
  {
   "cell_type": "markdown",
   "metadata": {},
   "source": [
    "# Chapter 3: Data Manipulation with Pandas"
   ]
  },
  {
   "cell_type": "markdown",
   "metadata": {},
   "source": [
    "Pandas is built on top of NumPy and provides an efficient implementation of a DataFrame (multidimensional arrays with attached row and column labels, and often have heterogenous types and/or missing data). \n",
    "\n",
    "NumPy's `ndarray` data structure provides essential features for the type of clean, well-organized data typically seen in numerical computing tasks. While it serves this purpose very well, NumPy's limitations become clear when we need more flexibility (attaching labels to data, working with missing data, etc.) and when attempting operations that do not map well to element-wise broadcasting (groupings, pivots, etc.)\n",
    "\n",
    "**Introducing Pandas Objects**\n",
    "At the very basic level, Pandas objects can be thought of as enhanced version of NumPy structured arrays in which the rows and columns are identified with labels rather than simple integer indices. The three fundamental Pandas data structures are `Series`, `DataFrame`, and `Index`. \n",
    "- `Series` is a one-dimensional array of indexed data.\n",
    "    - has `values` and `index` attributes"
   ]
  },
  {
   "cell_type": "code",
   "execution_count": null,
   "metadata": {},
   "outputs": [],
   "source": [
    "import numpy as np\n",
    "import pandas as pd"
   ]
  },
  {
   "cell_type": "code",
   "execution_count": null,
   "metadata": {},
   "outputs": [],
   "source": [
    "data = pd.Series([0.25, 0.5, 0.75, 1.0])\n",
    "print(data)"
   ]
  },
  {
   "cell_type": "code",
   "execution_count": null,
   "metadata": {},
   "outputs": [],
   "source": [
    "data.values"
   ]
  },
  {
   "cell_type": "code",
   "execution_count": null,
   "metadata": {},
   "outputs": [],
   "source": [
    "data.index"
   ]
  },
  {
   "cell_type": "markdown",
   "metadata": {},
   "source": [
    "The Pandas `Series` is much more general and flexible than the one-dimensional NumPy array that it emulates. The essential difference between the `Series` object and a one-dimensional NumPy array is the presence of the index: while the NumPy array has an *implicitly* defined integer index, the Pandas `Series` has an *explicitly* defined index associated with the values. \n",
    "\n",
    "The explicit index definition gives `Series` object additional capabilities. For example, the index need not be an integer, but can consist of values of any desired type. "
   ]
  },
  {
   "cell_type": "code",
   "execution_count": null,
   "metadata": {},
   "outputs": [],
   "source": [
    "data = pd.Series([0.25, 0.5, 0.75, 1.0],\n",
    "                 index=['a', 'b', 'c', 'd'])\n",
    "data"
   ]
  },
  {
   "cell_type": "markdown",
   "metadata": {},
   "source": [
    "We can even use non-contiguous or non-sequential indices. "
   ]
  },
  {
   "cell_type": "code",
   "execution_count": null,
   "metadata": {},
   "outputs": [],
   "source": [
    "data = pd.Series([0.25, 0.5, 0.75, 1.0],\n",
    "                 index=[2, 5, 3, 7])\n",
    "data"
   ]
  },
  {
   "cell_type": "markdown",
   "metadata": {},
   "source": [
    "**Series as specialized dictionary**\n",
    "You can think of a Pandas `Series` a bit like a specialization of a Python dictionary. A dictionary is a structure that maps arbitrary keys to a set of arbitrary values, and a `Series` is a structure which maps typed keys to a set of typed values. \n",
    "\n",
    "The `Series` as dictionary analogy can be made even more clear by constructing a `Series` object directly from a Python dictionary:"
   ]
  },
  {
   "cell_type": "code",
   "execution_count": null,
   "metadata": {},
   "outputs": [],
   "source": [
    "population_dict = {'California': 38332521,\n",
    "                   'Texas': 26448193,\n",
    "                   'New York': 19651127,\n",
    "                   'Florida': 19552860,\n",
    "                   'Illinois': 12882135}\n",
    "population = pd.Series(population_dict)\n",
    "population"
   ]
  },
  {
   "cell_type": "markdown",
   "metadata": {},
   "source": [
    "By default, a `Series` will be created where the index is drawn from the sorted keys. \n",
    "\n",
    "From here, typical dictionary-style item access can be performed:"
   ]
  },
  {
   "cell_type": "code",
   "execution_count": null,
   "metadata": {},
   "outputs": [],
   "source": [
    "population['California']"
   ]
  },
  {
   "cell_type": "markdown",
   "metadata": {},
   "source": [
    "Unlike a dictionary, the `Series` also supports array-style operations such as slicing:"
   ]
  },
  {
   "cell_type": "code",
   "execution_count": null,
   "metadata": {},
   "outputs": [],
   "source": [
    "population['California':'Illinois']"
   ]
  },
  {
   "cell_type": "markdown",
   "metadata": {},
   "source": [
    "**Constructing Series objects**\n",
    "\n",
    "General format: `pd.Series(data,index=index)`\n",
    "- note that index is an optional argument"
   ]
  },
  {
   "cell_type": "code",
   "execution_count": null,
   "metadata": {},
   "outputs": [],
   "source": [
    "pd.Series([2,4,6])"
   ]
  },
  {
   "cell_type": "markdown",
   "metadata": {},
   "source": [
    "`data` can be a dictionary, in which `index` defaults to the sorted dictionary keys:"
   ]
  },
  {
   "cell_type": "code",
   "execution_count": null,
   "metadata": {},
   "outputs": [],
   "source": [
    "pd.Series({2:'a',1:'b',3:'c'})"
   ]
  },
  {
   "cell_type": "markdown",
   "metadata": {},
   "source": [
    "**The Pandas DataFrame Object**\n",
    "The `DataFrame` can be thought of either as a generalization of a NumPy array, or as a specialization of a Python dictionary.\n",
    "\n",
    "**DataFrame as a generalized NumPy array**\n",
    "A `DataFrame` is an analog of a two-dimensional array with both flexible row indices and flexible column names. "
   ]
  },
  {
   "cell_type": "code",
   "execution_count": null,
   "metadata": {},
   "outputs": [],
   "source": [
    "area_dict = {'California': 423967, 'Texas': 695662, 'New York': 141297,\n",
    "             'Florida': 170312, 'Illinois': 149995}\n",
    "area = pd.Series(area_dict)\n",
    "area"
   ]
  },
  {
   "cell_type": "code",
   "execution_count": null,
   "metadata": {},
   "outputs": [],
   "source": [
    "population_dict = {'California': 38332521,\n",
    "                   'Texas': 26448193,\n",
    "                   'New York': 19651127,\n",
    "                   'Florida': 19552860,\n",
    "                   'Illinois': 12882135}\n",
    "population = pd.Series(population_dict)\n",
    "population"
   ]
  },
  {
   "cell_type": "markdown",
   "metadata": {},
   "source": [
    "Now that we have the area and population, we can use a dictionary to construct a single two-dimensional object containing this information. "
   ]
  },
  {
   "cell_type": "code",
   "execution_count": null,
   "metadata": {},
   "outputs": [],
   "source": [
    "states = pd.DataFrame({'Population': population,\n",
    "                      'area':area})\n",
    "\n",
    "states"
   ]
  },
  {
   "cell_type": "code",
   "execution_count": null,
   "metadata": {},
   "outputs": [],
   "source": [
    "states.index"
   ]
  },
  {
   "cell_type": "code",
   "execution_count": null,
   "metadata": {},
   "outputs": [],
   "source": [
    "states.columns"
   ]
  },
  {
   "cell_type": "markdown",
   "metadata": {},
   "source": [
    "**DataFrame as specialized dictionary**\n",
    "Where a dictionary maps a key to a value, a `DataFrame` maps a column name to a `Series` of column data. "
   ]
  },
  {
   "cell_type": "code",
   "execution_count": null,
   "metadata": {},
   "outputs": [],
   "source": [
    "states['area']"
   ]
  },
  {
   "cell_type": "markdown",
   "metadata": {},
   "source": [
    "**Constructing DataFrame objects**\n",
    "A Pandas `DataFrame` can be constructed in a variety of ways. \n",
    "- from a single Series object\n",
    "- from a list of dicts\n",
    "- from a dictionary of Series objects\n",
    "- from a two-dimensional NumPy array\n",
    "- from a NumPy structured array"
   ]
  },
  {
   "cell_type": "code",
   "execution_count": null,
   "metadata": {},
   "outputs": [],
   "source": [
    "# from a single Series object\n",
    "pd.DataFrame(population,columns=['population'])"
   ]
  },
  {
   "cell_type": "code",
   "execution_count": null,
   "metadata": {},
   "outputs": [],
   "source": [
    "# from a list of dicts\n",
    "data = [{'a':i, 'b': 2*i} for i in range(3)]\n",
    "pd.DataFrame(data)"
   ]
  },
  {
   "cell_type": "code",
   "execution_count": null,
   "metadata": {},
   "outputs": [],
   "source": [
    "# from a dictionary of Series objects\n",
    "pd.DataFrame({'population': population,\n",
    "              'area': area})"
   ]
  },
  {
   "cell_type": "code",
   "execution_count": null,
   "metadata": {},
   "outputs": [],
   "source": [
    "# from a two-dimensional NumPy array\n",
    "pd.DataFrame(np.random.rand(3, 2),\n",
    "             columns=['foo', 'bar'],\n",
    "             index=['a', 'b', 'c'])"
   ]
  },
  {
   "cell_type": "code",
   "execution_count": null,
   "metadata": {},
   "outputs": [],
   "source": [
    "# from a NumPy structured array\n",
    "A = np.zeros(3, dtype=[('A', 'i8'), ('B', 'f8')])\n",
    "pd.DataFrame(A)"
   ]
  },
  {
   "cell_type": "markdown",
   "metadata": {},
   "source": [
    "**The Pandas Index Object**\n",
    "The `Index` object can be thought of either as an *immutable array* or as an *ordered set* (technically a multi-set, as `Index` objects may contain repeated values)\n",
    "\n",
    "Pandas objects are designed to facilitate operations such as joins across datasets. The `Index` object follows many of the conventions used by Python's built-in `set` data structure, so that unions, intersections, differences, and other combinations can be computed in a familiar way:"
   ]
  },
  {
   "cell_type": "code",
   "execution_count": null,
   "metadata": {},
   "outputs": [],
   "source": [
    "indA = pd.Index([1, 3, 5, 7, 9])\n",
    "indB = pd.Index([2, 3, 5, 7, 11])"
   ]
  },
  {
   "cell_type": "code",
   "execution_count": null,
   "metadata": {},
   "outputs": [],
   "source": [
    "indA & indB  # intersection"
   ]
  },
  {
   "cell_type": "code",
   "execution_count": null,
   "metadata": {},
   "outputs": [],
   "source": [
    "indA | indB  # union"
   ]
  },
  {
   "cell_type": "code",
   "execution_count": null,
   "metadata": {},
   "outputs": [],
   "source": [
    "indA ^ indB  # symmetric difference"
   ]
  },
  {
   "cell_type": "markdown",
   "metadata": {},
   "source": [
    "**Data Indexing and Selection**\n",
    "\n",
    "**Data Selection in Series**\n",
    "A `Series` object acts in many ways like a one-dimensional NumPy array, and in many ways like a standard Python dictionary. \n",
    "\n",
    "**Series as dictionary**\n",
    "Like a dictionary, the `Series` object provides a mapping from a collection of keys to a collection of values. "
   ]
  },
  {
   "cell_type": "code",
   "execution_count": null,
   "metadata": {},
   "outputs": [],
   "source": [
    "import pandas as pd\n",
    "data = pd.Series([0.25,0.5,0.75,1.0],\n",
    "                index=['a','b','c','d'])\n",
    "data"
   ]
  },
  {
   "cell_type": "markdown",
   "metadata": {},
   "source": [
    "We can also use dictionary-like Python expressions and methods to examine the key/indices and values. "
   ]
  },
  {
   "cell_type": "code",
   "execution_count": null,
   "metadata": {},
   "outputs": [],
   "source": [
    "data.keys()"
   ]
  },
  {
   "cell_type": "code",
   "execution_count": null,
   "metadata": {},
   "outputs": [],
   "source": [
    "list(data.items())"
   ]
  },
  {
   "cell_type": "markdown",
   "metadata": {},
   "source": [
    "`Series` objects can even be modified with a dictionary-like syntax."
   ]
  },
  {
   "cell_type": "code",
   "execution_count": null,
   "metadata": {},
   "outputs": [],
   "source": [
    "data['e'] = 1.25\n",
    "data"
   ]
  },
  {
   "cell_type": "markdown",
   "metadata": {},
   "source": [
    "**Series as one-dimensional array**\n",
    "A `Series` provides array-style item selection via the same mechanisms as NumPy arrays (slices, masking, and fancy indexing). "
   ]
  },
  {
   "cell_type": "code",
   "execution_count": null,
   "metadata": {},
   "outputs": [],
   "source": [
    "# slicing by explicit index\n",
    "data['a':'c']"
   ]
  },
  {
   "cell_type": "code",
   "execution_count": null,
   "metadata": {},
   "outputs": [],
   "source": [
    "# slicing by implicit integer index\n",
    "data[0:2]"
   ]
  },
  {
   "cell_type": "markdown",
   "metadata": {},
   "source": [
    "Notice that when slicing with an explicit index (i.e., `data['a':'c']`), the final index is *included* in the slice, while when slicing with an implicit index (i.e.,`data[0:2]`), the final index is *excluded* from the slice."
   ]
  },
  {
   "cell_type": "code",
   "execution_count": null,
   "metadata": {},
   "outputs": [],
   "source": [
    "# masking\n",
    "data[(data > 0.3) & (data < 0.8)]"
   ]
  },
  {
   "cell_type": "code",
   "execution_count": null,
   "metadata": {},
   "outputs": [],
   "source": [
    "# fancy indexing\n",
    "data[['a', 'e']]"
   ]
  },
  {
   "cell_type": "markdown",
   "metadata": {},
   "source": [
    "**Indexers:loc,iloc,and ix**\n",
    "Because of the potential confusion in the case of integer indexes, Pandas provides some special *indexer* attributes that explicitly expose certain indexing schemes. \n",
    "\n",
    "The `loc` attribute allows indexing and slicing that always reference the explicit index:"
   ]
  },
  {
   "cell_type": "code",
   "execution_count": null,
   "metadata": {},
   "outputs": [],
   "source": [
    "data = pd.Series(['a', 'b', 'c'], index=[1, 3, 5])\n",
    "data\n",
    "\n",
    "print(data.loc[1])\n",
    "print('\\n')\n",
    "print(data.loc[1:3])"
   ]
  },
  {
   "cell_type": "markdown",
   "metadata": {},
   "source": [
    "The `iloc` attribute allows indexing and slicing that always references the implicit Python-style index:"
   ]
  },
  {
   "cell_type": "code",
   "execution_count": null,
   "metadata": {},
   "outputs": [],
   "source": [
    "data.iloc[1]"
   ]
  },
  {
   "cell_type": "code",
   "execution_count": null,
   "metadata": {},
   "outputs": [],
   "source": [
    "data.iloc[1:3]"
   ]
  },
  {
   "cell_type": "markdown",
   "metadata": {},
   "source": [
    "A third indexing attribute,`ix`, is a hybrid of the two.The purpose of the ix indexer will become more apparent in the context of `DataFrame` objects.\n",
    "\n",
    "**Data Selection in DataFrame**\n",
    "Recall that a `DataFrame` acts in many ways like a two-dimensional or structured array, and in other ways like a dictionary of `Series` structures sharing the same index.\n",
    "\n",
    "**DataFrame as a dictionary**"
   ]
  },
  {
   "cell_type": "code",
   "execution_count": null,
   "metadata": {},
   "outputs": [],
   "source": [
    "area = pd.Series({'California': 423967, 'Texas': 695662,\n",
    "                  'New York': 141297, 'Florida': 170312,\n",
    "                  'Illinois': 149995})\n",
    "pop = pd.Series({'California': 38332521, 'Texas': 26448193,\n",
    "                 'New York': 19651127, 'Florida': 19552860,\n",
    "                 'Illinois': 12882135})\n",
    "data = pd.DataFrame({'area':area, 'pop':pop})\n",
    "data"
   ]
  },
  {
   "cell_type": "markdown",
   "metadata": {},
   "source": [
    "The individual `Series` that make up the columns of the `DataFrame` can be accessed via dictionary-style indexing of the column name (`data['area']`). Equivalently, we can use attribute-style access with column names that are strings (`data.area`). Though using the attribute style is a useful shorthand, keep in mind that it does not work for all cases. If the column names are not strings or if the column name conflicts with methods of the `DataFrame`, this attribute-style access is not possible. "
   ]
  },
  {
   "cell_type": "code",
   "execution_count": null,
   "metadata": {},
   "outputs": [],
   "source": [
    "data['area']"
   ]
  },
  {
   "cell_type": "markdown",
   "metadata": {},
   "source": [
    "This dictionary-style syntax can also be used to modify the object. "
   ]
  },
  {
   "cell_type": "code",
   "execution_count": null,
   "metadata": {},
   "outputs": [],
   "source": [
    "data['density'] = data['pop'] / data['area']\n",
    "data"
   ]
  },
  {
   "cell_type": "markdown",
   "metadata": {},
   "source": [
    "**DataFrame as two-dimensional array**\n",
    "We can examine the raw underlying data array using the `values` attribute."
   ]
  },
  {
   "cell_type": "code",
   "execution_count": null,
   "metadata": {},
   "outputs": [],
   "source": [
    "data.values"
   ]
  },
  {
   "cell_type": "markdown",
   "metadata": {},
   "source": [
    "With thiis picture in mind, many familiar array-like observations can be done on the `DataFrame` itself. For example, we can transpose the full `DataFrame` to swap rows and columns:"
   ]
  },
  {
   "cell_type": "code",
   "execution_count": null,
   "metadata": {},
   "outputs": [],
   "source": [
    "data.T"
   ]
  },
  {
   "cell_type": "code",
   "execution_count": null,
   "metadata": {},
   "outputs": [],
   "source": [
    "data.values[0]"
   ]
  },
  {
   "cell_type": "code",
   "execution_count": null,
   "metadata": {},
   "outputs": [],
   "source": [
    "data['area']"
   ]
  },
  {
   "cell_type": "code",
   "execution_count": null,
   "metadata": {},
   "outputs": [],
   "source": [
    "data.iloc[:3,:2]"
   ]
  },
  {
   "cell_type": "markdown",
   "metadata": {},
   "source": [
    "Similarly, using the `loc` indexer we can index the underlying data in an array-like style but using the explicit index and column names:"
   ]
  },
  {
   "cell_type": "code",
   "execution_count": null,
   "metadata": {},
   "outputs": [],
   "source": [
    "data.loc[:\"Illinois\",:\"pop\"]"
   ]
  },
  {
   "cell_type": "markdown",
   "metadata": {},
   "source": [
    "The `ix` indexer allows a hybrid of these two approaches (`loc` and `iloc`):\n",
    "\n"
   ]
  },
  {
   "cell_type": "code",
   "execution_count": null,
   "metadata": {},
   "outputs": [],
   "source": [
    "data.ix[:3,:'pop']"
   ]
  },
  {
   "cell_type": "markdown",
   "metadata": {},
   "source": [
    "Any of the familiar NumPy-style data access patterns can be used within these indexers. For example, in the `loc` indexer we can combine masking and fancy indexing. "
   ]
  },
  {
   "cell_type": "code",
   "execution_count": null,
   "metadata": {},
   "outputs": [],
   "source": [
    "data.loc[data['density']>100,['pop','density']]\n",
    "\n",
    "# equivalent to \n",
    "data.loc[data.density >100,['pop','density']]"
   ]
  },
  {
   "cell_type": "markdown",
   "metadata": {},
   "source": [
    "Any of these indexing conventions may be used to set or modify values."
   ]
  },
  {
   "cell_type": "code",
   "execution_count": null,
   "metadata": {},
   "outputs": [],
   "source": [
    "data.iloc[0, 2] = 90\n",
    "data"
   ]
  },
  {
   "cell_type": "markdown",
   "metadata": {},
   "source": [
    "**Additional indexing conventions**\n",
    "While *indexing* refers to columns, *slicing* refers to rows."
   ]
  },
  {
   "cell_type": "code",
   "execution_count": null,
   "metadata": {},
   "outputs": [],
   "source": [
    "data['Florida':'Illinois']"
   ]
  },
  {
   "cell_type": "markdown",
   "metadata": {},
   "source": [
    "Such slices can also refer to rows by number rather than by index."
   ]
  },
  {
   "cell_type": "code",
   "execution_count": null,
   "metadata": {},
   "outputs": [],
   "source": [
    "data[1:3]"
   ]
  },
  {
   "cell_type": "markdown",
   "metadata": {},
   "source": [
    "Direct masking operations are also interpreted row-wise rather than column-wise:"
   ]
  },
  {
   "cell_type": "code",
   "execution_count": null,
   "metadata": {},
   "outputs": [],
   "source": [
    "data[data.density>100]"
   ]
  },
  {
   "cell_type": "markdown",
   "metadata": {},
   "source": [
    "**Operating on Data in Pandas**\n",
    "One of the essential pieces of NumPy is the ability to perform quick element-wise operations, both with basic arithmetic (addition, subtraction, multiplication, etc) and with more sophisticated operations (trigonometric functions, exponential and logarithmic functions, etc.). Pandas inherits much of this functionality from NumPy and the ufuncs introduced earlier.\n",
    "\n",
    "Pandas includes a couple useful twists. For unary operations like negation and trigonometric functions, these ufuncs will preserve index and column labels in the output. For binary operations such as addition and multiplication, Pandas will automatically align indices when passing the objects to the ufunc. This means that keeping the context of data and combinfing data from different sources become essentally foolproof with Pandas. \n",
    "\n",
    "**Ufuncs: Index Preservation**\n",
    "Because Pandas is designed to worh with NumPy, any NumPy ufunc will work on Pandas `Series` and `DataFrame` objects."
   ]
  },
  {
   "cell_type": "code",
   "execution_count": null,
   "metadata": {},
   "outputs": [],
   "source": [
    "import pandas as pd\n",
    "import numpy as np"
   ]
  },
  {
   "cell_type": "code",
   "execution_count": null,
   "metadata": {},
   "outputs": [],
   "source": [
    "rng = np.random.RandomState(42)\n",
    "ser = pd.Series(rng.randint(0,10,4))\n",
    "ser"
   ]
  },
  {
   "cell_type": "code",
   "execution_count": null,
   "metadata": {},
   "outputs": [],
   "source": [
    "df = pd.DataFrame(rng.randint(0,10,(3,4)),\n",
    "                  columns = ['A','B','C','D'])\n",
    "df"
   ]
  },
  {
   "cell_type": "markdown",
   "metadata": {},
   "source": [
    "If we apply a NumPy ufunc on either of these objects, the result will be another Pandas object with the indices preserved."
   ]
  },
  {
   "cell_type": "code",
   "execution_count": null,
   "metadata": {},
   "outputs": [],
   "source": [
    "np.exp(ser)"
   ]
  },
  {
   "cell_type": "code",
   "execution_count": null,
   "metadata": {},
   "outputs": [],
   "source": [
    "np.sin(df*np.pi/4)"
   ]
  },
  {
   "cell_type": "markdown",
   "metadata": {},
   "source": [
    "**UFuncs: Index Alignment**\n",
    "For binary operations on two `Series` or `DataFrame`objects, Pandas will align indices in the process of performing the operation. This is very convenient when working with incomplete data.\n",
    "\n",
    "**Index alignment in Series**\n",
    "Suppose we are combining two different data sources, and find only the top three US states by area and the top three US states by population. "
   ]
  },
  {
   "cell_type": "code",
   "execution_count": null,
   "metadata": {},
   "outputs": [],
   "source": [
    "area = pd.Series({'Alaska': 1723337, 'Texas': 695662,\n",
    "                  'California': 423967}, name='area')\n",
    "population = pd.Series({'California': 38332521, 'Texas': 26448193,\n",
    "                        'New York': 19651127}, name='population')"
   ]
  },
  {
   "cell_type": "code",
   "execution_count": null,
   "metadata": {},
   "outputs": [],
   "source": [
    "# computing population density:\n",
    "population/area"
   ]
  },
  {
   "cell_type": "markdown",
   "metadata": {},
   "source": [
    "The resulting array contains the *union* of indices of the two input arrays. Any item for which one or the other does not have an entry is marked with `NaN`."
   ]
  },
  {
   "cell_type": "code",
   "execution_count": null,
   "metadata": {},
   "outputs": [],
   "source": [
    "A = pd.Series([2,4,6], index=[0,1,2])\n",
    "B = pd.Series([1,3,5], index=[1,2,3])\n",
    "A+B"
   ]
  },
  {
   "cell_type": "markdown",
   "metadata": {},
   "source": [
    "If using NaN values is not the desired behavior, the fill value can be modified using appropriate object methods in place of the operators. For example, calling `A.add(B)` is equivalent to calling `A+B` but allows optional specification of the fill value for any elements in A or B that might be missing. \n",
    "\n",
    "From documentation:\n",
    "\n",
    "**fill_value** - None or float value, default None (NaN)\n",
    "- Fill existing missing (NaN) values, and any new element needed for successful Series alignment, with this value before computation."
   ]
  },
  {
   "cell_type": "code",
   "execution_count": null,
   "metadata": {},
   "outputs": [],
   "source": [
    "A.add(B,fill_value=0)"
   ]
  },
  {
   "cell_type": "markdown",
   "metadata": {},
   "source": [
    "**Index alignment in DataFrame**"
   ]
  },
  {
   "cell_type": "code",
   "execution_count": null,
   "metadata": {},
   "outputs": [],
   "source": [
    "A = pd.DataFrame(rng.randint(0,20,(2,2)),\n",
    "                columns = ['A','B'])\n",
    "A"
   ]
  },
  {
   "cell_type": "code",
   "execution_count": null,
   "metadata": {},
   "outputs": [],
   "source": [
    "B = pd.DataFrame(rng.randint(0,10,(3,3)),\n",
    "                columns = ['B','A','C'])\n",
    "B"
   ]
  },
  {
   "cell_type": "code",
   "execution_count": null,
   "metadata": {},
   "outputs": [],
   "source": [
    "A + B"
   ]
  },
  {
   "cell_type": "markdown",
   "metadata": {},
   "source": [
    "Notice that indices are aligned correctly irrespective of their order in the two objects. We can use the associated object's artithmetic method and pass any desired fill_value to be used in place of the missing entries. Here we'll fill with the mean of all values in A:"
   ]
  },
  {
   "cell_type": "code",
   "execution_count": null,
   "metadata": {},
   "outputs": [],
   "source": [
    "fill = A.stack().mean()\n",
    "A.add(B,fill_value=fill)"
   ]
  },
  {
   "cell_type": "markdown",
   "metadata": {},
   "source": [
    "|**Python Operator**| **Pandas Method(s)**|\n",
    "|-------------------|---------------------|\n",
    "|`+`|`add()`|\n",
    "|`-`|`sub()`|\n",
    "|`*`|`mul()`|\n",
    "|`/`|`div()`|\n",
    "|`//`| `floordiv()`|\n",
    "|`%`|`mod()`|\n",
    "|`**`|`pow()`|\n",
    "\n",
    "\n",
    "**Ufuncs: Operations Between DataFrame and Series**\n",
    "Operations between a `DataFrame` and `Series` are similar to operations between a two-dimensional and one-dimensional NumPy array."
   ]
  },
  {
   "cell_type": "code",
   "execution_count": null,
   "metadata": {},
   "outputs": [],
   "source": [
    "A = rng.randint(10,size=(3,4))\n",
    "A"
   ]
  },
  {
   "cell_type": "code",
   "execution_count": null,
   "metadata": {},
   "outputs": [],
   "source": [
    "A - A[0]"
   ]
  },
  {
   "cell_type": "markdown",
   "metadata": {},
   "source": [
    "According to NumPy's broadcasting rules, subtraction between a two-dimensional array and one of its rows is applied row-wise. In Pandas, the convention similarly operates row-wise by default."
   ]
  },
  {
   "cell_type": "code",
   "execution_count": null,
   "metadata": {},
   "outputs": [],
   "source": [
    "df = pd.DataFrame(A,columns=['Q','R','S','T'])\n",
    "df - df.iloc[0]"
   ]
  },
  {
   "cell_type": "markdown",
   "metadata": {},
   "source": [
    "If you would instead like to operate column-wise, you can use the object methods mentioned earlier, while specifying the `axis` keyword:"
   ]
  },
  {
   "cell_type": "code",
   "execution_count": null,
   "metadata": {},
   "outputs": [],
   "source": [
    "df.subtract(df['R'],axis=0)"
   ]
  },
  {
   "cell_type": "markdown",
   "metadata": {},
   "source": [
    "**Handling Missing Data**\n",
    "Different data sources may indicate missing data in different ways. \n",
    "\n",
    "**Trade-Offs in Missing Data Conventions**\n",
    "There are many schemes that have been developed to indictae the presence of missing data in a table or DataFrame. Generally, they revolve around one of two strategies: using a *mask* that globally indicates missing values, or choosing a *sentinel value* that indicates a missing entry.\n",
    "\n",
    "In the masking approach, the mask might be an entirely seperate Boolean array, or it may involve appropriation of one bit in the data representation to locally indicate the null status of a value.\n",
    "\n",
    "In the sentinel approach, the sentinel value could be some data-specific convention, such as indicating a missing integer value with -999 or some rate bit pattern, or it could be a more global convention such as indicating a missing floating-point value with NaN (Not a Number).\n",
    "\n",
    "None of these approaches is without trade-offs: use of a seperate mask array  adds overhead in both storage and computation. A sentinel value reduces the range of valid values that can be represented, and may require extra logic in CPU and GPU arithmetic. Common special values like NaN are not available for all data types. \n",
    "\n",
    "**Missing Data in Pandas**\n",
    "The way in which Pandas handles missing values is constrained by its reliance on the NumPy package, which does not have a built-in notion of NA values for non-floating-point data types. \n",
    "\n",
    "Pandas chose to use sentinels for missing data, and further chose to use two already-existing Python null values: the special floating-point `NaN` value and the Python `None` object. \n",
    "\n",
    "**`None`: Pythonic missing data**\n",
    "Because it is a Python object, `None` cannot be used in any arbitrary NumPy/Pandas array, but only in arrays with data type `object`."
   ]
  },
  {
   "cell_type": "code",
   "execution_count": null,
   "metadata": {},
   "outputs": [],
   "source": [
    "import numpy as np\n",
    "import pandas as pd\n",
    "\n",
    "vals = np.array([1,None,3,4])\n",
    "vals"
   ]
  },
  {
   "cell_type": "markdown",
   "metadata": {},
   "source": [
    "This `dtype=object` means that the best common type representation NumPy could infer for the contents of the array is that they are Python objects. This results in much more overhead than the typically fast operations seen for arrays with native types:"
   ]
  },
  {
   "cell_type": "code",
   "execution_count": null,
   "metadata": {},
   "outputs": [],
   "source": [
    "for dtype in ['object','int']:\n",
    "    print(\"dtype = \",dtype)\n",
    "    %timeit np.arange(1E6,dtype=dtype).sum()\n",
    "    print()"
   ]
  },
  {
   "cell_type": "markdown",
   "metadata": {},
   "source": [
    "The use of Python objects in an array also means that if you perform aggregations like `sum()` or `min()` across an array with a `None` value, you will generally get an error.\n",
    "\n",
    "**`NaN`: Missing Numerical Data**\n",
    "`NaN` (acronym for *Not a Number*) is different; it is a special floating-point value."
   ]
  },
  {
   "cell_type": "code",
   "execution_count": null,
   "metadata": {},
   "outputs": [],
   "source": [
    "vals2 = np.array([1, np.nan, 3, 4]) \n",
    "vals2.dtype"
   ]
  },
  {
   "cell_type": "markdown",
   "metadata": {},
   "source": [
    "Be aware that `NaN` is like a data virus - it infects any other object it touches. Regardless of the operation, the result of arithmetic with `NaN` will be another `NaN`."
   ]
  },
  {
   "cell_type": "code",
   "execution_count": null,
   "metadata": {},
   "outputs": [],
   "source": [
    "1+np.nan"
   ]
  },
  {
   "cell_type": "code",
   "execution_count": null,
   "metadata": {},
   "outputs": [],
   "source": [
    "0*np.nan"
   ]
  },
  {
   "cell_type": "code",
   "execution_count": null,
   "metadata": {},
   "outputs": [],
   "source": [
    "vals2.sum(),vals2.min(),vals2.max()"
   ]
  },
  {
   "cell_type": "markdown",
   "metadata": {},
   "source": [
    "NumPy does provide special aggregations that will ignore these missing values:"
   ]
  },
  {
   "cell_type": "code",
   "execution_count": null,
   "metadata": {},
   "outputs": [],
   "source": [
    "np.nansum(vals2),np.nanmin(vals2),np.nanmax(vals2)"
   ]
  },
  {
   "cell_type": "markdown",
   "metadata": {},
   "source": [
    "Keep in mind that `NaN` is specifically a floating-point value; there is no equivalent for integers, strings, or other types. \n",
    "\n",
    "**`NaN` and `None` in Pandas**\n",
    "Pandas is built to handle both `NaN` and `None` and converts between them when appropriate."
   ]
  },
  {
   "cell_type": "code",
   "execution_count": null,
   "metadata": {},
   "outputs": [],
   "source": [
    "pd.Series([1,np.nan,2,None])"
   ]
  },
  {
   "cell_type": "markdown",
   "metadata": {},
   "source": [
    "Notice how the `None` is automatically upcast to a floating-point `NaN` type. The following table lists the upcasting conventions in Pandas when NA values are introduced:\n",
    "\n",
    "|**Typeclass**|**Conversion when storing NAs**|**NA Sentinel Value**|\n",
    "|-------------|-------------------------------|---------------------|\n",
    "|`floating`| No change| `np.nan`|\n",
    "|`object`| No change| `None` or `np.nan`|\n",
    "|`integer`| Cast to `float64`| `np.nan`|\n",
    "|`boolean`| Cast to `object`| `None` or `np.nan`|\n",
    "\n",
    "Keep in mind that in Pandas, string data is always stored with an `object` dtype.\n",
    "\n",
    "**Operating on Null Values**\n",
    "Pandas treats `None` and `NaN` as essentially interchangeable for indicating missing or null values. There are several useful methods for detecting, removing, and replacing null values in Pandas data structures.\n",
    "- `isnull()`: Generates a boolean mask indicating missing values.\n",
    "- `notnull()`: Opposite of `isnull()`.\n",
    "- `dropna()`: Returns a filtered version of the data.\n",
    "- `fillna()`: Returns a copy of the data with missing values filled or imputed.\n",
    "\n",
    "**Detecting null values**\n",
    "Use `isnull()` and `notnull()`"
   ]
  },
  {
   "cell_type": "code",
   "execution_count": null,
   "metadata": {},
   "outputs": [],
   "source": [
    "data = pd.Series([1,np.nan,'hello',None])\n",
    "\n",
    "data.isnull()"
   ]
  },
  {
   "cell_type": "code",
   "execution_count": null,
   "metadata": {},
   "outputs": [],
   "source": [
    "data.notnull()"
   ]
  },
  {
   "cell_type": "code",
   "execution_count": null,
   "metadata": {},
   "outputs": [],
   "source": [
    "# Boolean mask: return rows where data is not null\n",
    "data[data.notnull()]"
   ]
  },
  {
   "cell_type": "markdown",
   "metadata": {},
   "source": [
    "**Dropping null values**\n",
    "`dropna()` and `fillna()`"
   ]
  },
  {
   "cell_type": "code",
   "execution_count": null,
   "metadata": {},
   "outputs": [],
   "source": [
    "data.dropna()"
   ]
  },
  {
   "cell_type": "code",
   "execution_count": null,
   "metadata": {},
   "outputs": [],
   "source": [
    "df = pd.DataFrame([[1,np.nan,2],\n",
    "                   [2, 3, 5],\n",
    "                   [np.nan, 4, 6]])\n",
    "df"
   ]
  },
  {
   "cell_type": "markdown",
   "metadata": {},
   "source": [
    "We cannot drop single values from a `DataFrame`; we can only drop full rows or full columns. By default, `dropna()` will drop all rows in which *any* null value is present."
   ]
  },
  {
   "cell_type": "code",
   "execution_count": null,
   "metadata": {},
   "outputs": [],
   "source": [
    "df.dropna()"
   ]
  },
  {
   "cell_type": "markdown",
   "metadata": {},
   "source": [
    "Alternatively, we can drop NA values along a different axis; `axis=1` drops all columns containing a null value."
   ]
  },
  {
   "cell_type": "code",
   "execution_count": null,
   "metadata": {},
   "outputs": [],
   "source": [
    "df.dropna(axis='columns')"
   ]
  },
  {
   "cell_type": "markdown",
   "metadata": {},
   "source": [
    "You might rather be interested in dropping rows or columns with *all* NA values, or a majority of NA values. This can be specified through the `how` or `thresh` parameters.\n",
    "\n",
    "The default is `how='any'` such that any row or column (depending on the `axis` keyword) containing a null value will be dropped. You can also specify `how='all'`, which will only drop rows/columns that are *all* null values. For finer-grained control, the `thresh` parameter lets you specify a minimum number of non-null values for the row/column to be kept."
   ]
  },
  {
   "cell_type": "code",
   "execution_count": null,
   "metadata": {},
   "outputs": [],
   "source": [
    "df.dropna(axis='rows',thresh=3)"
   ]
  },
  {
   "cell_type": "markdown",
   "metadata": {},
   "source": [
    "**Filling null values**\n",
    "Pandas provides the `fillna()` method which returns a copy of the array with the null values replaced."
   ]
  },
  {
   "cell_type": "code",
   "execution_count": null,
   "metadata": {},
   "outputs": [],
   "source": [
    "data = pd.Series([1, np.nan, 2, None, 3],index=['a','b','c','d','e'])\n",
    "data"
   ]
  },
  {
   "cell_type": "code",
   "execution_count": null,
   "metadata": {},
   "outputs": [],
   "source": [
    "data.fillna(0)"
   ]
  },
  {
   "cell_type": "markdown",
   "metadata": {},
   "source": [
    "We can specify a forward-fill to propagate the previous value forward. Or we can specify a back-fill to propagate the next values backward."
   ]
  },
  {
   "cell_type": "code",
   "execution_count": null,
   "metadata": {},
   "outputs": [],
   "source": [
    "# forward-fill\n",
    "data.fillna(method='ffill')"
   ]
  },
  {
   "cell_type": "code",
   "execution_count": null,
   "metadata": {},
   "outputs": [],
   "source": [
    "data.fillna(method='bfill')"
   ]
  },
  {
   "cell_type": "markdown",
   "metadata": {},
   "source": [
    "For `DataFrame`s, we can also specify an `axis` along which the fills take place. "
   ]
  },
  {
   "cell_type": "code",
   "execution_count": null,
   "metadata": {},
   "outputs": [],
   "source": [
    "df"
   ]
  },
  {
   "cell_type": "code",
   "execution_count": null,
   "metadata": {},
   "outputs": [],
   "source": [
    "df.fillna(method='ffill',axis=1)"
   ]
  },
  {
   "cell_type": "markdown",
   "metadata": {},
   "source": [
    "Notice that if a previous value is not available during a forward fill, the NA value remains. \n",
    "\n",
    "**Hierarchical Indexing**\n",
    "Pandas provides `Panel` and `Panel4D` objects that natively handle three-dimensional and four-dimensional data, a far more common practice is to make use of *hierarchical indexing* also known as *multi-indexing* to incorporate multiple index levels within a single index. In this way, higher-dimensional data can be compactly represented within a one-dimensional `Series` and two-dimensional `DataFrame` objects"
   ]
  },
  {
   "cell_type": "markdown",
   "metadata": {},
   "source": [
    "**A Multiply Indexed Series**\n",
    "Let's start by considering how we might represent two-dimensional data within a one-dmensional `Series`.\n",
    "\n",
    "**The bad way**\n",
    "Suppose you would like to track data about states from two different years. Using the Pandas tools, you might be tempted to simply use Python tuples as keys:"
   ]
  },
  {
   "cell_type": "code",
   "execution_count": null,
   "metadata": {},
   "outputs": [],
   "source": [
    "import pandas as pd\n",
    "import numpy as np"
   ]
  },
  {
   "cell_type": "code",
   "execution_count": null,
   "metadata": {},
   "outputs": [],
   "source": [
    "index = [('California',2000),('California',2010),\n",
    "         ('New York',2000),('New York',2010),\n",
    "         ('Texas',2000),('Texas',2010)]\n",
    "\n",
    "populations = [33871648,37253956,\n",
    "              18976457,19378102,\n",
    "              20851820,25145561]\n",
    "\n",
    "pop = pd.Series(populations,index=index)\n",
    "pop"
   ]
  },
  {
   "cell_type": "markdown",
   "metadata": {},
   "source": [
    "This method is not very convenient. Imagine if you wanted to grab all the values from 2010."
   ]
  },
  {
   "cell_type": "code",
   "execution_count": null,
   "metadata": {},
   "outputs": [],
   "source": [
    "pop[[i for i in pop.index if i[1]==2010]]"
   ]
  },
  {
   "cell_type": "markdown",
   "metadata": {},
   "source": [
    "Although this produces the desired result, it is not as clean (or as efficient for large datasets) as the slicing syntax in Pandas.\n",
    "\n",
    "**The better way: Pandas MultiIndex**\n",
    "Notice that the `MultiIndex` contains multiple *levels* of indexing as well as multiple *labels* for each data point which encode those levels. If we re-index our series with this `MultiIndex`, we see the hierarchical representation of the data."
   ]
  },
  {
   "cell_type": "code",
   "execution_count": null,
   "metadata": {},
   "outputs": [],
   "source": [
    "index = [('California',2000),('California',2010),\n",
    "         ('New York',2000),('New York',2010),\n",
    "         ('Texas',2000),('Texas',2010)]\n",
    "\n",
    "index = pd.MultiIndex.from_tuples(index)\n",
    "index"
   ]
  },
  {
   "cell_type": "code",
   "execution_count": null,
   "metadata": {},
   "outputs": [],
   "source": [
    "pop = pop.reindex(index)\n",
    "pop"
   ]
  },
  {
   "cell_type": "markdown",
   "metadata": {},
   "source": [
    "Here the first two columns of the `Series` representation show the multiple index values, while the third column shows the data. In this multi-index representation, any blank entry indicates the same value as the line above it. "
   ]
  },
  {
   "cell_type": "code",
   "execution_count": null,
   "metadata": {},
   "outputs": [],
   "source": [
    "# acces all data for which the second index is 2010\n",
    "pop[:,2010]"
   ]
  },
  {
   "cell_type": "markdown",
   "metadata": {},
   "source": [
    "**MultiIndex as extra dimension**\n",
    "The `unstack()` method will convert a multiply indexed `Series` into a conventionally indexed `DataFrame`. The `stack()` method provides the opposire operation."
   ]
  },
  {
   "cell_type": "code",
   "execution_count": null,
   "metadata": {},
   "outputs": [],
   "source": [
    "pop_df = pop.unstack()\n",
    "pop_df"
   ]
  },
  {
   "cell_type": "code",
   "execution_count": null,
   "metadata": {},
   "outputs": [],
   "source": [
    "pop_df.stack()"
   ]
  },
  {
   "cell_type": "markdown",
   "metadata": {},
   "source": [
    "You might wonder why we would bother with hierarchical indexing at all. The reason is: just as we were able to use multi-indexing to represent two-dimensional data within a one-dimensional `Series`, we can also use it to represent data of three or more dimensions in a `Series` or `DataFrame`. Each extra level in a multi-index represents an extra dimension of data; taking advantage of this property gives us much more flexibility in the types of data we can represent. "
   ]
  },
  {
   "cell_type": "code",
   "execution_count": null,
   "metadata": {},
   "outputs": [],
   "source": [
    "pop_df = pd.DataFrame({'total':pop,\n",
    "                       'under18':[9267089,9284094,\n",
    "                                 4687374,4318033,\n",
    "                                 5906301,6879014]})\n",
    "pop_df"
   ]
  },
  {
   "cell_type": "markdown",
   "metadata": {},
   "source": [
    "All the ufuncs work with hierarchical indices as well. "
   ]
  },
  {
   "cell_type": "code",
   "execution_count": null,
   "metadata": {},
   "outputs": [],
   "source": [
    "f_u18 = pop_df['under18']/pop_df['total']\n",
    "f_u18.unstack()"
   ]
  },
  {
   "cell_type": "markdown",
   "metadata": {},
   "source": [
    "**Methods of MultiIndex Creation**\n",
    "The most straightforward way to construct a multiply indexed `Series` or `DataFrame` is to simply pass a list of two or more index arrays to the constructor. When following this approach, the work of creating the `MultiIndex` is done in the background. "
   ]
  },
  {
   "cell_type": "code",
   "execution_count": null,
   "metadata": {},
   "outputs": [],
   "source": [
    "df = pd.DataFrame(np.random.rand(4,2),\n",
    "                  index=[['a','a','b','b'],[1,2,1,2]],\n",
    "                  columns=['data1','data2'])\n",
    "df"
   ]
  },
  {
   "cell_type": "markdown",
   "metadata": {},
   "source": [
    "Similarly, if you pass a dictionary with appropriate tuples as keys, Pandas will automatically recognize this and use a `MultiIndex` by default."
   ]
  },
  {
   "cell_type": "code",
   "execution_count": null,
   "metadata": {},
   "outputs": [],
   "source": [
    "data = {('California',2000): 33871648,\n",
    "        ('California',2010): 37253956,\n",
    "        ('Texas',2000): 20851820,\n",
    "        ('Texas',2010): 25145561,\n",
    "        ('New York',2000): 18976457,\n",
    "        ('New York',2010): 19378102}\n",
    "\n",
    "pd.Series(data)"
   ]
  },
  {
   "cell_type": "markdown",
   "metadata": {},
   "source": [
    "Nevertheless, it is sometimes useful to explicitly create a `MultiIndex`. \n",
    "\n",
    "**Explicit MultiIndex constructors**\n",
    "For more flexibility in how the index is constructed, you can insteas use the class method constructors available in the `pd.MultiIndex`."
   ]
  },
  {
   "cell_type": "code",
   "execution_count": null,
   "metadata": {},
   "outputs": [],
   "source": [
    "pd.MultiIndex.from_arrays([['a', 'a', 'b', 'b'], [1, 2, 1, 2]])"
   ]
  },
  {
   "cell_type": "code",
   "execution_count": null,
   "metadata": {},
   "outputs": [],
   "source": [
    "pd.MultiIndex.from_tuples([('a', 1), ('a', 2), ('b', 1), ('b', 2)])"
   ]
  },
  {
   "cell_type": "code",
   "execution_count": null,
   "metadata": {},
   "outputs": [],
   "source": [
    "# Make a MultiIndex from the cartesian product of multiple iterables\n",
    "pd.MultiIndex.from_product([['a','b'],[1,2]])"
   ]
  },
  {
   "cell_type": "markdown",
   "metadata": {},
   "source": [
    "Similarly, you can construct the `MultiIndex` directly using its internal encoding by passing `levels` (a list of lists containing available index values for each level) and `labels` (a list of lists that reference these labels). "
   ]
  },
  {
   "cell_type": "code",
   "execution_count": null,
   "metadata": {},
   "outputs": [],
   "source": [
    "pd.MultiIndex(levels=[['a', 'b'], [1, 2]],\n",
    "              labels=[[0, 0, 1, 1], [0, 1, 0, 1]])"
   ]
  },
  {
   "cell_type": "markdown",
   "metadata": {},
   "source": [
    "**MultiIndex level names**\n",
    "Sometimes it is convenient to name the levels of the `MultiIndex`. With more involved datasets, this can be a useful way to keep track of the meaning of various index values. This can be accomplished by passing the `names` argument to any of the above `MultiIndex` constructors, or by setting the `names` attribute of the index after the fact:"
   ]
  },
  {
   "cell_type": "code",
   "execution_count": null,
   "metadata": {},
   "outputs": [],
   "source": [
    "pop.index.names = ['state','year']\n",
    "pop"
   ]
  },
  {
   "cell_type": "markdown",
   "metadata": {},
   "source": [
    "**MultiIndex for columns**\n",
    "Sometimes multi-indexing for both rows and columns can come in handy. For complicated records containing multiple labeled measuremnts across mutliple times for many subjects (e.g., people,countries,cities,etc.) use of hierarchical rows and columns can be extremely convenient.\n",
    "\n",
    "**Indexing and Slicing a MuliIndex**\n",
    "\n",
    "**Multiply Indexed Series**"
   ]
  },
  {
   "cell_type": "code",
   "execution_count": null,
   "metadata": {},
   "outputs": [],
   "source": [
    "pop"
   ]
  },
  {
   "cell_type": "markdown",
   "metadata": {},
   "source": [
    "We can access single elements by indexing with multiple terms:"
   ]
  },
  {
   "cell_type": "code",
   "execution_count": null,
   "metadata": {},
   "outputs": [],
   "source": [
    "pop['California', 2000]"
   ]
  },
  {
   "cell_type": "markdown",
   "metadata": {},
   "source": [
    "The `MultiIndex` also supports *partial indexing*, or indexing just one of the levels in the index. The result is another `Series`, with the lower-level indices maintained:"
   ]
  },
  {
   "cell_type": "code",
   "execution_count": null,
   "metadata": {},
   "outputs": [],
   "source": [
    "pop['California']"
   ]
  },
  {
   "cell_type": "markdown",
   "metadata": {},
   "source": [
    "Partial slicing is available as well, as long as the `MutliIndex` is sorted."
   ]
  },
  {
   "cell_type": "code",
   "execution_count": null,
   "metadata": {},
   "outputs": [],
   "source": [
    "pop.loc['California':'New York']"
   ]
  },
  {
   "cell_type": "markdown",
   "metadata": {},
   "source": [
    "With sorted indices, partial indexing can be performed on lower levels by passing an empty slice in the first index:"
   ]
  },
  {
   "cell_type": "code",
   "execution_count": null,
   "metadata": {},
   "outputs": [],
   "source": [
    "pop.loc[:,2000]"
   ]
  },
  {
   "cell_type": "markdown",
   "metadata": {},
   "source": [
    "You can also do selection based on Boolean masks:"
   ]
  },
  {
   "cell_type": "code",
   "execution_count": null,
   "metadata": {},
   "outputs": [],
   "source": [
    "pop.loc[pop>22000000]"
   ]
  },
  {
   "cell_type": "markdown",
   "metadata": {},
   "source": [
    "Selection based on fancy indexing also works:"
   ]
  },
  {
   "cell_type": "code",
   "execution_count": null,
   "metadata": {},
   "outputs": [],
   "source": [
    "pop.loc[['California','Texas']]"
   ]
  },
  {
   "cell_type": "markdown",
   "metadata": {},
   "source": [
    "**Multiply indexed DataFrames**"
   ]
  },
  {
   "cell_type": "code",
   "execution_count": null,
   "metadata": {},
   "outputs": [],
   "source": [
    "# hierarchical indices and columns\n",
    "index = pd.MultiIndex.from_product([[2013, 2014], [1, 2]],\n",
    "                                   names=['year', 'visit'])\n",
    "\n",
    "columns = pd.MultiIndex.from_product([['Bob', 'Guido', 'Sue'], \n",
    "                                      ['HR', 'Temp']],\n",
    "                                     names=['subject', 'type'])\n",
    "# mock some data\n",
    "data = np.round(np.random.randn(4, 6), 1)\n",
    "data[:, ::2] *= 10\n",
    "data += 37\n",
    "\n",
    "# create the DataFrame\n",
    "health_data = pd.DataFrame(data, index=index, columns=columns)\n",
    "health_data"
   ]
  },
  {
   "cell_type": "code",
   "execution_count": null,
   "metadata": {},
   "outputs": [],
   "source": [
    "health_data"
   ]
  },
  {
   "cell_type": "markdown",
   "metadata": {},
   "source": [
    "Remember that columns are primary in a `DataFrame`, and the syntax used to multiply indexed `Series` applies to the columns. "
   ]
  },
  {
   "cell_type": "code",
   "execution_count": null,
   "metadata": {},
   "outputs": [],
   "source": [
    "health_data['Guido','HR']"
   ]
  },
  {
   "cell_type": "markdown",
   "metadata": {},
   "source": [
    "Pandas provides the `IndexSlice` object."
   ]
  },
  {
   "cell_type": "code",
   "execution_count": null,
   "metadata": {
    "scrolled": true
   },
   "outputs": [],
   "source": [
    "idx = pd.IndexSlice\n",
    "health_data.loc[idx[:,1],idx[:,'HR']]"
   ]
  },
  {
   "cell_type": "markdown",
   "metadata": {},
   "source": [
    "**Rearranging Multi-Indices**\n",
    "One of the keys to working with multiply indexed data is knowing how to effectively transform the data. There are a number of operations that will preserve all the information in the dataset, but rearrange it for the purpose of various computations. We saw an example of this in the `stack()` and `unstack()` methods. But there are many more ways to finely control the rearrangement of data between hierarchical indices and columns. \n",
    "\n",
    "**Sorted and unsorted indices**\n",
    "Many of the `MultiIndex` slicing operations will fail if the index is not sorted. "
   ]
  },
  {
   "cell_type": "code",
   "execution_count": null,
   "metadata": {},
   "outputs": [],
   "source": [
    "index = pd.MultiIndex.from_product([['a','c','b'],[1,2]])\n",
    "data = pd.Series(np.random.rand(6),index=index)\n",
    "data.index.names = ['char','int']\n",
    "data"
   ]
  },
  {
   "cell_type": "markdown",
   "metadata": {},
   "source": [
    "If we try to take a partial slice of this index, it will result in an error:"
   ]
  },
  {
   "cell_type": "code",
   "execution_count": null,
   "metadata": {},
   "outputs": [],
   "source": [
    "try:\n",
    "    data['a':'b']\n",
    "except KeyError as e:\n",
    "    print(e)"
   ]
  },
  {
   "cell_type": "markdown",
   "metadata": {},
   "source": [
    "This is the result of the MultiIndex not being sorted in lexographical order. Pandas provides a number of convenience routines to perform this type of sorting: `sort_index()` and `sortlevel()`."
   ]
  },
  {
   "cell_type": "code",
   "execution_count": null,
   "metadata": {},
   "outputs": [],
   "source": [
    "data = data.sort_index()\n",
    "data"
   ]
  },
  {
   "cell_type": "markdown",
   "metadata": {},
   "source": [
    "With the index sorted in this way, partial slicing will work as expected:"
   ]
  },
  {
   "cell_type": "code",
   "execution_count": null,
   "metadata": {},
   "outputs": [],
   "source": [
    "data['a':'b']"
   ]
  },
  {
   "cell_type": "markdown",
   "metadata": {},
   "source": [
    "**Stacking and unstacking indices**\n",
    "It is possible to convert a dataset from a stacked multi-index to a simple two-dimensional representation. "
   ]
  },
  {
   "cell_type": "code",
   "execution_count": null,
   "metadata": {},
   "outputs": [],
   "source": [
    "pop"
   ]
  },
  {
   "cell_type": "code",
   "execution_count": null,
   "metadata": {},
   "outputs": [],
   "source": [
    "pop.unstack(level=0)"
   ]
  },
  {
   "cell_type": "code",
   "execution_count": null,
   "metadata": {},
   "outputs": [],
   "source": [
    "pop.unstack(level=1)"
   ]
  },
  {
   "cell_type": "markdown",
   "metadata": {},
   "source": [
    "The opposite of `unstack()` is `stack()` which can be used to recover to the original series:"
   ]
  },
  {
   "cell_type": "code",
   "execution_count": null,
   "metadata": {},
   "outputs": [],
   "source": [
    "pop.unstack().stack()"
   ]
  },
  {
   "cell_type": "markdown",
   "metadata": {},
   "source": [
    "**Index setting and resetting**\n",
    "Another way to rearrange hierarchical data is to turn the index labels into columns; this can be accomplished with the `reset_index` method."
   ]
  },
  {
   "cell_type": "code",
   "execution_count": null,
   "metadata": {},
   "outputs": [],
   "source": [
    "pop_flat = pop.reset_index(name='population')\n",
    "pop_flat"
   ]
  },
  {
   "cell_type": "markdown",
   "metadata": {},
   "source": [
    "Often when working with data in the real world, the raw input data looks like this and it's useful to build a `MultiIndex` from the column values. This can be done with the `set_index` method of the `DataFrame`."
   ]
  },
  {
   "cell_type": "code",
   "execution_count": null,
   "metadata": {},
   "outputs": [],
   "source": [
    "pop_flat.set_index(['state','year'])"
   ]
  },
  {
   "cell_type": "markdown",
   "metadata": {},
   "source": [
    "**Data Aggregations on Multi-Indices**\n",
    "We've previously seen that Pandas has built-in data aggregation methods, such as `mean()`, `sum()`, and `max()`. For hierarchically indexed data, these can be passed a `level` parameter that controls which subset of the data the aggregate is computed on."
   ]
  },
  {
   "cell_type": "code",
   "execution_count": null,
   "metadata": {},
   "outputs": [],
   "source": [
    "health_data"
   ]
  },
  {
   "cell_type": "markdown",
   "metadata": {},
   "source": [
    "Perhaps we'd like to average-out the measurements in the two visits each year. We can do this by naming the index level we'd like to explore."
   ]
  },
  {
   "cell_type": "code",
   "execution_count": null,
   "metadata": {
    "scrolled": true
   },
   "outputs": [],
   "source": [
    "data_mean = health_data.mean(level='year')\n",
    "data_mean"
   ]
  },
  {
   "cell_type": "markdown",
   "metadata": {},
   "source": [
    "By further making use of the `axis` keyword, we can take the mean among levels of the columns as well. This syntax is a short cut to the `GroupBy` functionality."
   ]
  },
  {
   "cell_type": "code",
   "execution_count": null,
   "metadata": {},
   "outputs": [],
   "source": [
    "data_mean.mean(axis=1,level='type')"
   ]
  },
  {
   "cell_type": "markdown",
   "metadata": {},
   "source": [
    "**Combining Datasets: Concat and Append**"
   ]
  },
  {
   "cell_type": "code",
   "execution_count": null,
   "metadata": {},
   "outputs": [],
   "source": [
    "import pandas as pd\n",
    "import numpy as np"
   ]
  },
  {
   "cell_type": "code",
   "execution_count": null,
   "metadata": {},
   "outputs": [],
   "source": [
    "def make_df(cols,ind):\n",
    "    \"\"\"Quickly make a DataFrame\"\"\"\n",
    "    data = {c:[str(c) + str(i) for i in ind] for c in cols}\n",
    "    return pd.DataFrame(data,ind)\n",
    "\n",
    "# example DataFrame\n",
    "make_df('ABC',range(3))"
   ]
  },
  {
   "cell_type": "markdown",
   "metadata": {},
   "source": [
    "We will create a quick class that allows us to display multiple `DataFrame`s side by side. This code makes used of the special `_repr_html_` method, which IPython uses to implement its rich object display."
   ]
  },
  {
   "cell_type": "code",
   "execution_count": null,
   "metadata": {},
   "outputs": [],
   "source": [
    "class display(object):\n",
    "    \"\"\"Display HTML representation of multiple objects\"\"\"\n",
    "    template = \"\"\"<div style=\"float: left; padding: 10px;\">\n",
    "    <p style='font-family:\"Courier New\", Courier, monospace'>{0}</p>{1}\n",
    "    </div>\"\"\"\n",
    "    \n",
    "    def __init__(self,*args):\n",
    "        self.args = args\n",
    "    \n",
    "    def _repr_html_(self):\n",
    "        return '\\n'.join(self.template.format(a,eval(a)._repr_html_()) for a in self.args)\n",
    "    \n",
    "    def __repr__(self):\n",
    "         return '\\n\\n'.join(a + '\\n' + repr(eval(a)) for a in self.args)"
   ]
  },
  {
   "cell_type": "markdown",
   "metadata": {},
   "source": [
    "**Recall: Concatentation of NumPy Arrays**\n",
    "Concatenation of `Series` and `DataFrame` objects is very similar to concatenation of NumPy arrays, which can be done via the `np.concatenate` function. The first argument is a list or tuple of arrays to concatenate. Additionally, it takes an `axis` keyword that allows you to specify the axis along which the result will be concatenated,"
   ]
  },
  {
   "cell_type": "code",
   "execution_count": null,
   "metadata": {},
   "outputs": [],
   "source": [
    "x = [1, 2, 3]\n",
    "y = [4, 5, 6]\n",
    "z = [7, 8, 9]\n",
    "np.concatenate([x, y, z])"
   ]
  },
  {
   "cell_type": "code",
   "execution_count": null,
   "metadata": {},
   "outputs": [],
   "source": [
    "x = [[1,2],\n",
    "     [3,4]]\n",
    "np.concatenate([x,x],axis=1)"
   ]
  },
  {
   "cell_type": "markdown",
   "metadata": {},
   "source": [
    "**Simple Concatenation with `pd.concat`**\n",
    "```python\n",
    "pd.concat(objs, axis=0, join='outer', join_axes=None,                           ignore_index=False, keys=None, levels=None, names=None,               verify_integrity=False, copy=True)```\n",
    "\n",
    "`pd.concat()` can be used for simple concatenation of `Series` or `DataFrame` objects. "
   ]
  },
  {
   "cell_type": "code",
   "execution_count": null,
   "metadata": {},
   "outputs": [],
   "source": [
    "ser1 = pd.Series(['A','B','C'],index=[1,2,3])\n",
    "ser2 = pd.Series(['D','E','F'],index=[4,5,6])\n",
    "\n",
    "print(ser1)\n",
    "print('\\n')\n",
    "print(ser2)"
   ]
  },
  {
   "cell_type": "code",
   "execution_count": null,
   "metadata": {},
   "outputs": [],
   "source": [
    "pd.concat([ser1,ser2])"
   ]
  },
  {
   "cell_type": "markdown",
   "metadata": {},
   "source": [
    "It also works to concatenate higher-dimensional objects, such as `DataFrame`s:"
   ]
  },
  {
   "cell_type": "code",
   "execution_count": null,
   "metadata": {},
   "outputs": [],
   "source": [
    "df1 = make_df('AB',[1,2])\n",
    "df2 = make_df('AB',[3,4])\n",
    "display('df1','df2','pd.concat([df1,df2])')"
   ]
  },
  {
   "cell_type": "markdown",
   "metadata": {},
   "source": [
    "By default, the concatenation takes place row-wise within the `DataFrame` (i.e., `axis=0`). `pd.concat` allows specification of an axis along which concatenation will take place."
   ]
  },
  {
   "cell_type": "code",
   "execution_count": null,
   "metadata": {},
   "outputs": [],
   "source": [
    "df3 = make_df('AB', [0, 1])\n",
    "df4 = make_df('CD', [0, 1])\n",
    "display('df3', 'df4', \"pd.concat([df3, df4], axis='columns')\")"
   ]
  },
  {
   "cell_type": "markdown",
   "metadata": {},
   "source": [
    "**Duplicate indices**\n",
    "One difference between `np.concatenate` and `pd.concat` is that Pandas concatenation *preserves indices* even if the result will have duplicate indices! "
   ]
  },
  {
   "cell_type": "code",
   "execution_count": null,
   "metadata": {},
   "outputs": [],
   "source": [
    "x = make_df('AB', [0, 1])\n",
    "y = make_df('AB', [2, 3])\n",
    "y.index = x.index  # make duplicate indices!\n",
    "display('x', 'y', 'pd.concat([x, y])')"
   ]
  },
  {
   "cell_type": "markdown",
   "metadata": {},
   "source": [
    "While this is valid within `Dataframe`s, the outcome is often undesireable. `pd.concat()` gives us a few ways to handle it. \n",
    "\n",
    "**Catching the repeats as en error**\n",
    "If you'd like to simply verify that the indices in the result of `pd.concat()` do not overlap, you can specify the `verify_integrity` flag. With this set to True, the concatenation will raise an exception if there are duplicate indices."
   ]
  },
  {
   "cell_type": "code",
   "execution_count": null,
   "metadata": {},
   "outputs": [],
   "source": [
    "try:\n",
    "    pd.concat([x,y], verify_integrity=True)\n",
    "except ValueError as e:\n",
    "    print(\"ValueError:\",e)"
   ]
  },
  {
   "cell_type": "markdown",
   "metadata": {},
   "source": [
    "**Ignoring the index**\n",
    "Sometimes the index itself does not matter, and you would prefer it to simply be ignored. This option can be specified using the `ignore_index` flag. With this set to true, the concatenation will create a new integer index for the resulting `Series`."
   ]
  },
  {
   "cell_type": "code",
   "execution_count": null,
   "metadata": {},
   "outputs": [],
   "source": [
    "display('x','y','pd.concat([x,y],ignore_index=True)')"
   ]
  },
  {
   "cell_type": "markdown",
   "metadata": {},
   "source": [
    "**Adding MultiIndex keys**\n",
    "Another option is to use the `keys` option to specify a label for the data sources; the result will be a hierarchically indexed series containing the data."
   ]
  },
  {
   "cell_type": "code",
   "execution_count": null,
   "metadata": {},
   "outputs": [],
   "source": [
    "display('x','y',\"pd.concat([x,y],keys=['x','y'])\")"
   ]
  },
  {
   "cell_type": "markdown",
   "metadata": {},
   "source": [
    "**Concatenation with joins**\n",
    "In the simple examples we just looked at, we were mainly concatenating `DataFrame`s with shared column names. In practice, data from different sources might have different sets of column names, and `pd.concat` offers several options in this case. Consider the concatenation of the following two `DataFrame`s, which have some (but not all!) columns in common.  "
   ]
  },
  {
   "cell_type": "code",
   "execution_count": null,
   "metadata": {},
   "outputs": [],
   "source": [
    "df5 = make_df('ABC',[1,2])\n",
    "df6 = make_df('BCD',[3,4])\n",
    "display('df5', 'df6', 'pd.concat([df5, df6])')"
   ]
  },
  {
   "cell_type": "markdown",
   "metadata": {},
   "source": [
    "By default, the entries for which no data is available are filled with NA values. To change this, we can specify one of several options for the `join` and `join_axes` parameters of the concatenate function. By default, the join is a union of the input columns (`join='outer'`), but we can change this to an intersection of the columns using (`join='inner'`)."
   ]
  },
  {
   "cell_type": "code",
   "execution_count": null,
   "metadata": {},
   "outputs": [],
   "source": [
    "display('df5','df6',\n",
    "       \"pd.concat([df5, df6], join='inner')\")"
   ]
  },
  {
   "cell_type": "markdown",
   "metadata": {},
   "source": [
    "Another option is to directly specify the index of the remaining columns using the `join_axes` argument, which takes a list of index objects. Here we'll specify that the returned columns should be the same as those of the first input:"
   ]
  },
  {
   "cell_type": "code",
   "execution_count": null,
   "metadata": {},
   "outputs": [],
   "source": [
    "display('df5','df6',\n",
    "       \"pd.concat([df5, df6], join_axes=[df5.columns])\")"
   ]
  },
  {
   "cell_type": "markdown",
   "metadata": {},
   "source": [
    "Here we'll specify that the returned columns should be the same as those of the second input:"
   ]
  },
  {
   "cell_type": "code",
   "execution_count": null,
   "metadata": {},
   "outputs": [],
   "source": [
    "display('df5','df6',\n",
    "       \"pd.concat([df5, df6], join_axes=[df6.columns])\")"
   ]
  },
  {
   "cell_type": "markdown",
   "metadata": {},
   "source": [
    "**The `append()` method**\n",
    "\n",
    "Because direct array concatenation is so common, `Series` and `DataFrame` objects have an `append` method that can accomplish the same thing in fewer keystrokes. Rather than calling `pd.concat([df1,df2])`, you can simply call `df1.append(df2)`."
   ]
  },
  {
   "cell_type": "code",
   "execution_count": null,
   "metadata": {},
   "outputs": [],
   "source": [
    "display('df1', 'df2', 'df1.append(df2)')"
   ]
  },
  {
   "cell_type": "markdown",
   "metadata": {},
   "source": [
    "Keep in mind that unlike the `append()` methods of Python lists, the `append()` method in Pandas does not modify the original object-instead it creates a new object with the combined data. It is also not a very efficient method, because it involves creation of a new index and data buffer. Thus, if you plan to do multiple `append` operations, it is generally better to build a list of `DataFrame`s and pass them all at once to the `concat()` function.\n",
    "\n",
    "**Combining Datasets: Merge and Join**\n",
    "One essential feature offered by Pandas is its high-performance, in-memory join and merge operations. The main interface for this is the `pd.merge` function.\n",
    "\n",
    "**Relational Algebra**\n",
    "The behavior implemented in `pd.merge()` is a subset of what is known as *relational algebra* which is a formal set of rules for manipulating relational data, and forms the conceptual foundation of operations available in most databases.\n",
    "\n",
    "**Categories of Joins**\n",
    "The `pd.merge()` function implements a number of types of joins: the *one-to-one*, *many-to-one*, and *many-to-many* joins.\n",
    "\n",
    "**One-to-one joins**"
   ]
  },
  {
   "cell_type": "code",
   "execution_count": null,
   "metadata": {},
   "outputs": [],
   "source": [
    "df1 = pd.DataFrame({'employee': ['Bob', 'Jake', 'Lisa', 'Sue'],\n",
    "                    'group': ['Accounting', 'Engineering', 'Engineering', 'HR']})\n",
    "df2 = pd.DataFrame({'employee': ['Lisa', 'Bob', 'Jake', 'Sue'],\n",
    "                    'hire_date': [2004, 2008, 2012, 2014]})\n",
    "display('df1', 'df2')"
   ]
  },
  {
   "cell_type": "markdown",
   "metadata": {},
   "source": [
    "To combine this information into a single `DataFrame`, we can use the `pd.merge()` function:"
   ]
  },
  {
   "cell_type": "code",
   "execution_count": null,
   "metadata": {},
   "outputs": [],
   "source": [
    "df3 = pd.merge(df1,df2)\n",
    "df3"
   ]
  },
  {
   "cell_type": "markdown",
   "metadata": {},
   "source": [
    "The `pd.merge()` function recognizes that each `DataFrame` has an \"employee\" column, and automatically joins using this column as a key. Notice that the order of the \"employee\" column differs between `df1` and `df2`, and the `pd.merge()` function correctly accounts for this. Additionally, keep in mind that the merge in general discards the index, except in the special case of merges by index.\n",
    "\n",
    "**Many-to-one joins**\n",
    "Many-to-one joins are joins in which one of the two key columns contains duplicate entries. The resulting `DataFrame` will preserve those duplicate entries as appropriate."
   ]
  },
  {
   "cell_type": "code",
   "execution_count": null,
   "metadata": {},
   "outputs": [],
   "source": [
    "df4 = pd.DataFrame({'group': ['Accounting', 'Engineering', 'HR'],\n",
    "                    'supervisor': ['Carly', 'Guido', 'Steve']})\n",
    "display('df3', 'df4', 'pd.merge(df3, df4)')"
   ]
  },
  {
   "cell_type": "markdown",
   "metadata": {},
   "source": [
    "**Many-to-many joins**\n",
    "If the key column in both the left and right array contain duplicats, then the result is a many-to-many merge."
   ]
  },
  {
   "cell_type": "code",
   "execution_count": null,
   "metadata": {},
   "outputs": [],
   "source": [
    "df5 = pd.DataFrame({'group': ['Accounting', 'Accounting',\n",
    "                              'Engineering', 'Engineering', 'HR', 'HR'],\n",
    "                    'skills': ['math', 'spreadsheets', 'coding', 'linux',\n",
    "                               'spreadsheets', 'organization']})\n",
    "display('df1', 'df5', \"pd.merge(df1, df5)\")"
   ]
  },
  {
   "cell_type": "markdown",
   "metadata": {},
   "source": [
    "In practice, datasets are rarely as clean as the one we're working with here. \n",
    "\n",
    "**Specification of the Merge Key**\n",
    "Recall the default behavior of `pd.merge()`: it looks for one or more matching column names between the two inputs, ans uses this as the key. However, often the column names will not match so nicely, and `pd.merge()` provides a variety of options for handling this.\n",
    "\n",
    "**The `on` keyword**\n",
    "You can explicitly specify the name of the key column using the `on` keyword, which takes a column name or a list of column names:"
   ]
  },
  {
   "cell_type": "code",
   "execution_count": null,
   "metadata": {},
   "outputs": [],
   "source": [
    "display('df1', 'df2', \"pd.merge(df1, df2, on='employee')\")"
   ]
  },
  {
   "cell_type": "markdown",
   "metadata": {},
   "source": [
    "This option works only if both the left and right `DataFrame`s have the specified column name.\n",
    "\n",
    "**The `left_on` and `right_on` keywords**\n",
    "\n",
    "At times you may wish to merge two datasets with different column names; for example, we may have a dataset in which the employee name is labeled as \"name\" rather than \"employee\". In this case, we can use the `left_on` and `right_on` keywords to specify the two column names:"
   ]
  },
  {
   "cell_type": "code",
   "execution_count": null,
   "metadata": {},
   "outputs": [],
   "source": [
    "df3 = pd.DataFrame({'name': ['Bob', 'Jake', 'Lisa', 'Sue'],\n",
    "                    'salary': [70000, 80000, 120000, 90000]})\n",
    "display('df1', 'df3', 'pd.merge(df1, df3, left_on=\"employee\", right_on=\"name\")')"
   ]
  },
  {
   "cell_type": "markdown",
   "metadata": {},
   "source": [
    "The result has a redundant column that we can drop if desired, for example by using the `drop()` method of `DataFrame`s."
   ]
  },
  {
   "cell_type": "code",
   "execution_count": null,
   "metadata": {},
   "outputs": [],
   "source": [
    "pd.merge(df1, df3, left_on=\"employee\", right_on=\"name\").drop('name', axis=1)"
   ]
  },
  {
   "cell_type": "markdown",
   "metadata": {},
   "source": [
    "**The `left_index` and `right_index` keywords**\n",
    "Sometimes, rather than merging on a column, you could instead merge on an index."
   ]
  },
  {
   "cell_type": "code",
   "execution_count": null,
   "metadata": {},
   "outputs": [],
   "source": [
    "df1a = df1.set_index('employee')\n",
    "df2a = df2.set_index('employee')\n",
    "display('df1a','df2a')"
   ]
  },
  {
   "cell_type": "markdown",
   "metadata": {},
   "source": [
    "You can use the index as the key for merging by specifying the `left_index` and/or `right_index` flags in `pd.merge()`:"
   ]
  },
  {
   "cell_type": "code",
   "execution_count": null,
   "metadata": {
    "scrolled": true
   },
   "outputs": [],
   "source": [
    "display('df1a', 'df2a',\n",
    "        \"pd.merge(df1a, df2a, left_index=True, right_index=True)\")"
   ]
  },
  {
   "cell_type": "markdown",
   "metadata": {},
   "source": [
    "For convenience,`DataFrame`s implement the `join()` method, which performs a merge that defaults to joining on indices:"
   ]
  },
  {
   "cell_type": "code",
   "execution_count": null,
   "metadata": {},
   "outputs": [],
   "source": [
    "display('df1a', 'df2a', 'df1a.join(df2a)')"
   ]
  },
  {
   "cell_type": "markdown",
   "metadata": {},
   "source": [
    "If you'd like to mix indices and columns, you can combine `left_index` with `right_on` or `left_on` with `right_index` to get the desired behavior:"
   ]
  },
  {
   "cell_type": "code",
   "execution_count": null,
   "metadata": {},
   "outputs": [],
   "source": [
    "display('df1a', 'df3', \"pd.merge(df1a, df3, left_index=True, right_on='name')\")"
   ]
  },
  {
   "cell_type": "markdown",
   "metadata": {},
   "source": [
    "**Specifying Set Arithmetic for Joins**\n",
    "In all the preceding examples we have glossed over one important consideration in performing a join: the type of set arithmetic used in the join. This comes up when a value appears in one key column but not the other."
   ]
  },
  {
   "cell_type": "code",
   "execution_count": null,
   "metadata": {},
   "outputs": [],
   "source": [
    "df6 = pd.DataFrame({'name': ['Peter', 'Paul', 'Mary'],\n",
    "                    'food': ['fish', 'beans', 'bread']},\n",
    "                   columns=['name', 'food'])\n",
    "\n",
    "df7 = pd.DataFrame({'name': ['Mary', 'Joseph'],\n",
    "                    'drink': ['wine', 'beer']},\n",
    "                   columns=['name', 'drink'])\n",
    "\n",
    "display('df6', 'df7', 'pd.merge(df6, df7)')"
   ]
  },
  {
   "cell_type": "markdown",
   "metadata": {},
   "source": [
    "Here we have merged two datasets that have only a single \"name\" entry in common: Mary. By default, the result contains the *intersection* of the two sets of inputs; this is what is known as an *inner join*. We can specify this explicitly using the `how` keyword, which defaults to `\"inner\"`. "
   ]
  },
  {
   "cell_type": "code",
   "execution_count": null,
   "metadata": {},
   "outputs": [],
   "source": [
    "pd.merge(df6,df7,how='inner')"
   ]
  },
  {
   "cell_type": "markdown",
   "metadata": {},
   "source": [
    "Other options for the `how` keyword are `outer`, `left`, and `right`. An *outer join* returns a join over the union of the input columns, and fills in all missing values with NAs:"
   ]
  },
  {
   "cell_type": "code",
   "execution_count": null,
   "metadata": {},
   "outputs": [],
   "source": [
    "display('df6', 'df7', \"pd.merge(df6, df7, how='outer')\")\n"
   ]
  },
  {
   "cell_type": "markdown",
   "metadata": {},
   "source": [
    "The *left join* and *right join* return joins over the left entries and right entries, respectively."
   ]
  },
  {
   "cell_type": "code",
   "execution_count": null,
   "metadata": {},
   "outputs": [],
   "source": [
    "display('df6', 'df7', \"pd.merge(df6, df7, how='left')\")"
   ]
  },
  {
   "cell_type": "code",
   "execution_count": null,
   "metadata": {},
   "outputs": [],
   "source": [
    "display('df6', 'df7', \"pd.merge(df6, df7, how='right')\")"
   ]
  },
  {
   "cell_type": "markdown",
   "metadata": {},
   "source": [
    "**Overlapping Column Names: The `suffixes` keyword**\n",
    "You may end up in a case where your two input `DataFrame`s have conflicting column names. "
   ]
  },
  {
   "cell_type": "code",
   "execution_count": null,
   "metadata": {},
   "outputs": [],
   "source": [
    "df8 = pd.DataFrame({'name': ['Bob', 'Jake', 'Lisa', 'Sue'],\n",
    "                    'rank': [1, 2, 3, 4]})\n",
    "\n",
    "df9 = pd.DataFrame({'name': ['Bob', 'Jake', 'Lisa', 'Sue'],\n",
    "                    'rank': [3, 1, 4, 2]})\n",
    "\n",
    "display('df8', 'df9', 'pd.merge(df8, df9, on=\"name\")')"
   ]
  },
  {
   "cell_type": "markdown",
   "metadata": {},
   "source": [
    "Because the output would have two conflicting column names, the merge function automatically appends a suffix `_x` or `_y` to make the output columns unique. If these defaults are inappropriate, it is possible to specify a custom suffix using the `suffixes` keyword."
   ]
  },
  {
   "cell_type": "code",
   "execution_count": null,
   "metadata": {},
   "outputs": [],
   "source": [
    "display('df8', 'df9', 'pd.merge(df8, df9, on=\"name\", suffixes=[\"_L\", \"_R\"])')"
   ]
  },
  {
   "cell_type": "markdown",
   "metadata": {},
   "source": [
    "**Example: US States Data**\n"
   ]
  },
  {
   "cell_type": "code",
   "execution_count": null,
   "metadata": {},
   "outputs": [],
   "source": [
    "!curl -O https://raw.githubusercontent.com/jakevdp/data-USstates/master/state-population.csv\n",
    "!curl -O https://raw.githubusercontent.com/jakevdp/data-USstates/master/state-areas.csv\n",
    "!curl -O https://raw.githubusercontent.com/jakevdp/data-USstates/master/state-abbrevs.csv"
   ]
  },
  {
   "cell_type": "code",
   "execution_count": null,
   "metadata": {},
   "outputs": [],
   "source": [
    "pop = pd.read_csv('data/state-population.csv')\n",
    "areas = pd.read_csv('data/state-areas.csv')\n",
    "abbrevs = pd.read_csv('data/state-abbrevs.csv')\n",
    "\n",
    "display('pop.head()', 'areas.head()', 'abbrevs.head()')"
   ]
  },
  {
   "cell_type": "code",
   "execution_count": null,
   "metadata": {},
   "outputs": [],
   "source": [
    "merged = pd.merge(pop, abbrevs, how='outer',\n",
    "                  left_on='state/region', right_on='abbreviation')\n",
    "merged = merged.drop('abbreviation', 1) # drop duplicate info\n",
    "merged.head()"
   ]
  },
  {
   "cell_type": "markdown",
   "metadata": {},
   "source": [
    "Let's double-check whether there were any mismatches. We can do this by looking for rows with nulls:"
   ]
  },
  {
   "cell_type": "code",
   "execution_count": null,
   "metadata": {},
   "outputs": [],
   "source": [
    "merged.isnull().any()"
   ]
  },
  {
   "cell_type": "markdown",
   "metadata": {},
   "source": [
    "Notice that some of the `population` infor is null; let's figure out which these are!"
   ]
  },
  {
   "cell_type": "code",
   "execution_count": null,
   "metadata": {},
   "outputs": [],
   "source": [
    "merged[merged['population'].isnull()].head()"
   ]
  },
  {
   "cell_type": "markdown",
   "metadata": {},
   "source": [
    "It appears that all the null population values are from Puerto Rico prior to the year 2000; this is likely due to the data not being available from the original source.\n",
    "\n",
    "More importantly, we see also that some of the `state` entries are also null, which means that there was no corresponding entry in the `abbrevs` key! Let's figure out which regions lack this match:"
   ]
  },
  {
   "cell_type": "code",
   "execution_count": null,
   "metadata": {},
   "outputs": [],
   "source": [
    "merged.loc[merged['state'].isnull(), 'state/region'].unique()"
   ]
  },
  {
   "cell_type": "markdown",
   "metadata": {},
   "source": [
    "We can fix these quickly by filling in appropriate entries:"
   ]
  },
  {
   "cell_type": "code",
   "execution_count": null,
   "metadata": {},
   "outputs": [],
   "source": [
    "merged.loc[merged['state/region'] == 'PR', 'state'] = 'Puerto Rico'\n",
    "merged.loc[merged['state/region'] == 'USA', 'state'] = 'United States'\n",
    "merged.isnull().any()"
   ]
  },
  {
   "cell_type": "markdown",
   "metadata": {},
   "source": [
    "Now we can merge the results with the area data using a similar procedure. "
   ]
  },
  {
   "cell_type": "code",
   "execution_count": null,
   "metadata": {},
   "outputs": [],
   "source": [
    "final = pd.merge(merged, areas, on='state', how='left')\n",
    "final.head()"
   ]
  },
  {
   "cell_type": "code",
   "execution_count": null,
   "metadata": {},
   "outputs": [],
   "source": [
    "# check for nulls to see if there were any mismatches\n",
    "final.isnull().any()"
   ]
  },
  {
   "cell_type": "markdown",
   "metadata": {},
   "source": [
    "There are nulls in the `area` column; we can take a look to see which regions were ignored here:"
   ]
  },
  {
   "cell_type": "code",
   "execution_count": null,
   "metadata": {},
   "outputs": [],
   "source": [
    "final['state'][final['area (sq. mi)'].isnull()].unique()"
   ]
  },
  {
   "cell_type": "markdown",
   "metadata": {},
   "source": [
    "We see that our `areas` `DataFrame` does not contain the area of the United States as a whole. We could insert the appropriate value (using the sum of all state areas, for instance), but in this case we'll just drop the null values because the population density of the entire United States is not relevant to our current discussion:"
   ]
  },
  {
   "cell_type": "code",
   "execution_count": null,
   "metadata": {},
   "outputs": [],
   "source": [
    "final.dropna(inplace=True)\n",
    "final.head()"
   ]
  },
  {
   "cell_type": "markdown",
   "metadata": {},
   "source": [
    "Now we have all the data we need. Let's first select the portion of the data corresponding with the year 2000. We'll use the `query()` function to do this quickly. "
   ]
  },
  {
   "cell_type": "code",
   "execution_count": null,
   "metadata": {},
   "outputs": [],
   "source": [
    "data2010 = final.query(\"year == 2010 & ages == 'total'\")\n",
    "data2010.head()"
   ]
  },
  {
   "cell_type": "markdown",
   "metadata": {},
   "source": [
    "Now let's compute the population density and display it in order. We'll start by re-indexing our data on the state, and then compute the result:"
   ]
  },
  {
   "cell_type": "code",
   "execution_count": null,
   "metadata": {},
   "outputs": [],
   "source": [
    "data2010.set_index('state', inplace=True)\n",
    "density = data2010['population'] / data2010['area (sq. mi)']"
   ]
  },
  {
   "cell_type": "code",
   "execution_count": null,
   "metadata": {},
   "outputs": [],
   "source": [
    "density.sort_values(ascending=False,inplace=True)"
   ]
  },
  {
   "cell_type": "code",
   "execution_count": null,
   "metadata": {},
   "outputs": [],
   "source": [
    "density.head()"
   ]
  },
  {
   "cell_type": "code",
   "execution_count": null,
   "metadata": {},
   "outputs": [],
   "source": [
    "density.tail()"
   ]
  },
  {
   "cell_type": "markdown",
   "metadata": {},
   "source": [
    "**Aggregation and Grouping**\n",
    "An essential piece of analysis of large data is efficient summarization: computing aggregations like `sum()`, `mean()`,`median()`,`min()`, and `max()`. \n",
    "\n",
    "**Planets Data**\n",
    "We will use the Planets dataset, available via the Seaborn package."
   ]
  },
  {
   "cell_type": "code",
   "execution_count": null,
   "metadata": {},
   "outputs": [],
   "source": [
    "import seaborn as sns\n",
    "planets = sns.load_dataset('planets')\n",
    "planets.shape"
   ]
  },
  {
   "cell_type": "code",
   "execution_count": null,
   "metadata": {},
   "outputs": [],
   "source": [
    "planets.head()"
   ]
  },
  {
   "cell_type": "markdown",
   "metadata": {},
   "source": [
    "**Simple Aggregation in Pandas**\n",
    "For a `DataFrame`, by default the aggregates return results within each column. "
   ]
  },
  {
   "cell_type": "code",
   "execution_count": null,
   "metadata": {},
   "outputs": [],
   "source": [
    "df = pd.DataFrame({'A': rng.rand(5),\n",
    "                   'B': rng.rand(5)})\n",
    "df"
   ]
  },
  {
   "cell_type": "code",
   "execution_count": null,
   "metadata": {},
   "outputs": [],
   "source": [
    "df.mean()"
   ]
  },
  {
   "cell_type": "markdown",
   "metadata": {},
   "source": [
    "By specifying the `axis` argument, you can instead aggregate within each row:"
   ]
  },
  {
   "cell_type": "code",
   "execution_count": null,
   "metadata": {},
   "outputs": [],
   "source": [
    "df.mean(axis='columns')"
   ]
  },
  {
   "cell_type": "markdown",
   "metadata": {},
   "source": [
    "Pandas `Series` and `DataFrame`s include all of the common aggregates mentioned earlier; in addition, there is a convenience method `describe()` that computes several common aggregates for each column and returns the result. "
   ]
  },
  {
   "cell_type": "code",
   "execution_count": null,
   "metadata": {},
   "outputs": [],
   "source": [
    "planets.describe()"
   ]
  },
  {
   "attachments": {
    "Screen%20Shot%202020-10-15%20at%205.12.26%20PM.png": {
     "image/png": "[encoded data removed]"
    }
   },
   "cell_type": "markdown",
   "metadata": {},
   "source": [
    "The following table summarizes some other built-in Pandas aggregations:\n",
    "\n",
    "|**Aggregation**|**Description**|\n",
    "|---------------|---------------|\n",
    "|`count()` | Total number of items|\n",
    "|`first()`, `last()`| First and last item|\n",
    "|`mean()`,`median()`| Mean and median|\n",
    "|`min()`, `max()`| Minimum and maximum|\n",
    "|`std()`, `var()`| Standard deviation and variance|\n",
    "|`mad()`| Mean absolute deviation|\n",
    "|`prod()`| Product of all items|\n",
    "|`sum()`| Sum of all items|\n",
    "\n",
    "To go deeper into the data, simple aggregates are often not enough. The next level of data summarization is the `groupby` operation, which allows you to quickly and efficiently compute aggregates on subsets of data.\n",
    "\n",
    "\n",
    "**GroupBy: Split, Apply, Combine**\n",
    "The name \"group by\" comes from a command in the SQL database language, but it is perhaps more illuminative to think of it in terms of: *split*, *apply*, and *combine*. \n",
    "\n",
    "![Screen%20Shot%202020-10-15%20at%205.12.26%20PM.png](attachment:Screen%20Shot%202020-10-15%20at%205.12.26%20PM.png)"
   ]
  },
  {
   "cell_type": "markdown",
   "metadata": {},
   "source": [
    "This makes it clear what `groupby` accomplishes:\n",
    "- The *split* step involves breaking up and grouping a `DataFrame` depending on the value of the specified key.\n",
    "- The *apply* step involves computing some function within the individual groups.\n",
    "- The *combine* step merges the results of these operations into an output array.\n",
    "\n",
    "While this could certainly be done manually using some combination of the masking, aggregation, and merging commands covered earlier, the power of the `GroupBy` is that it abstracts away these steps: the user doesn't need to think about how the computation is done under the hood, but rather thinks about the operation as a whole. "
   ]
  },
  {
   "cell_type": "code",
   "execution_count": null,
   "metadata": {},
   "outputs": [],
   "source": [
    "df = pd.DataFrame({'key': ['A', 'B', 'C', 'A', 'B', 'C'],\n",
    "                   'data': range(6)}, columns=['key', 'data'])\n",
    "df\n"
   ]
  },
  {
   "cell_type": "markdown",
   "metadata": {},
   "source": [
    "The most basic split-apply-combine operation can be computed with the `groupby()` method of `DataFrame`s, passing the name of the desired key column. "
   ]
  },
  {
   "cell_type": "code",
   "execution_count": null,
   "metadata": {},
   "outputs": [],
   "source": [
    "df.groupby('key')"
   ]
  },
  {
   "cell_type": "markdown",
   "metadata": {},
   "source": [
    "Notice that what is returned is not a set of `DataFrame`s, but a `DataFrameGroupBy` object. You can think of it as a special view of the `DataFrame`, which is poised to dig into the groups but does no actual computation until the aggregation is applied. \n",
    "\n",
    "**The GroupBy object**\n",
    "The `GroupBy` object is a very flexible abstraction. In many ways, you can simply treat it as if it's a collection of `DataFrame`s. "
   ]
  },
  {
   "cell_type": "code",
   "execution_count": null,
   "metadata": {
    "scrolled": true
   },
   "outputs": [],
   "source": [
    "df.groupby('key').sum()"
   ]
  },
  {
   "cell_type": "markdown",
   "metadata": {},
   "source": [
    "**Column indexing**\n"
   ]
  },
  {
   "cell_type": "code",
   "execution_count": null,
   "metadata": {},
   "outputs": [],
   "source": [
    "planets.groupby('method')"
   ]
  },
  {
   "cell_type": "code",
   "execution_count": null,
   "metadata": {},
   "outputs": [],
   "source": [
    "planets.groupby('method')['orbital_period']"
   ]
  },
  {
   "cell_type": "code",
   "execution_count": null,
   "metadata": {},
   "outputs": [],
   "source": [
    "planets.groupby('method')['orbital_period'].median()"
   ]
  },
  {
   "cell_type": "markdown",
   "metadata": {},
   "source": [
    "**Iteration over groups**\n",
    "The `GroupBy` object supports direct iteration over the groups, returning each group as a `Series` or `DataFrame`:"
   ]
  },
  {
   "cell_type": "code",
   "execution_count": null,
   "metadata": {},
   "outputs": [],
   "source": [
    "for (method, group) in planets.groupby('method'):\n",
    "    print(\"{0:30s} shape={1}\".format(method, group.shape))"
   ]
  },
  {
   "cell_type": "markdown",
   "metadata": {},
   "source": [
    "**Dispatch methods**\n",
    "Any method not explicitly implemented by the `GroupBy` object will be passed through and called on the groups, whether they are `DataFrame` or `Series` objects. For example, you can use the `describe()` method of `DataFrame`s to perform a set of aggregations that describe each group in the data:"
   ]
  },
  {
   "cell_type": "code",
   "execution_count": null,
   "metadata": {},
   "outputs": [],
   "source": [
    "planets.groupby('method')['year'].describe()"
   ]
  },
  {
   "cell_type": "markdown",
   "metadata": {},
   "source": [
    "Notice that dispatch methods are applied to *each individual group* and the results are then combined within `GroupBy` and returned. Any valid `DataFrame`/`Series` method can be used on the corresponding `GroupBy` object. \n",
    "\n",
    "**Aggregate, filter, transform, apply**\n",
    "`GroupBy` objects have `aggregate()`, `filter()`, `transform()`, and `apply()` methods that efficiently implement a variety of useful operations before combining the grouped data."
   ]
  },
  {
   "cell_type": "code",
   "execution_count": null,
   "metadata": {},
   "outputs": [],
   "source": [
    "rng = np.random.RandomState(0)\n",
    "df = pd.DataFrame({'key': ['A', 'B', 'C', 'A', 'B', 'C'],\n",
    "                   'data1': range(6),\n",
    "                   'data2': rng.randint(0, 10, 6)},\n",
    "                   columns = ['key', 'data1', 'data2'])\n",
    "df"
   ]
  },
  {
   "cell_type": "markdown",
   "metadata": {},
   "source": [
    "**Aggregation**\n",
    "We're now familiar with `GroupBy` aggregations with `sum()`, `median()`, but the `aggregate()` method allows for even more flexibility. It can take a string, a function, or a list thereof and compute all the aggregates at once. "
   ]
  },
  {
   "cell_type": "code",
   "execution_count": null,
   "metadata": {},
   "outputs": [],
   "source": [
    "df.groupby('key').aggregate(['min', np.median, max])"
   ]
  },
  {
   "cell_type": "markdown",
   "metadata": {},
   "source": [
    "Another useful pattern is to pass a dictionary mapping column names to operations to be applied on that column:"
   ]
  },
  {
   "cell_type": "code",
   "execution_count": null,
   "metadata": {},
   "outputs": [],
   "source": [
    "df.groupby('key').aggregate({'data1': 'min',\n",
    "                             'data2': 'max'})"
   ]
  },
  {
   "cell_type": "markdown",
   "metadata": {},
   "source": [
    "**Filtering**\n",
    "A filtering operation allows you to drop data based on the group properties. For example, we might want to keep all groups in which the standard deviation is larger than some critical value."
   ]
  },
  {
   "cell_type": "code",
   "execution_count": null,
   "metadata": {},
   "outputs": [],
   "source": [
    "def filter_func(x):\n",
    "    return x['data2'].std() > 4\n",
    "\n",
    "display('df', \"df.groupby('key').std()\", \"df.groupby('key').filter(filter_func)\")\n"
   ]
  },
  {
   "cell_type": "markdown",
   "metadata": {},
   "source": [
    "**Transformation**\n",
    "While aggregation must return a reduced version of the data, transformation can return some transformed version of the full data. For such a transformation, the output is the same shape as the input. A common example is to center the data by subtracting the group-wise mean: "
   ]
  },
  {
   "cell_type": "code",
   "execution_count": null,
   "metadata": {},
   "outputs": [],
   "source": [
    "df.groupby('key').transform(lambda x: x - x.mean())"
   ]
  },
  {
   "cell_type": "markdown",
   "metadata": {},
   "source": [
    "**The `apply()` method**\n",
    "The `apply()` method lets you apply an arbitrary function to the group results. The function should take a `DataFrame` and return either a Pandas object (e.g., `DataFrame`, `Series`) or a scalar.\n",
    "\n",
    "For example, here is an `apply()` that normalizes the first column by the sum of the second:"
   ]
  },
  {
   "cell_type": "code",
   "execution_count": null,
   "metadata": {},
   "outputs": [],
   "source": [
    "def norm_by_data2(x):\n",
    "    # x is a DataFrame of group values\n",
    "    x['data1'] /= x['data2'].sum()\n",
    "    return x\n",
    "\n",
    "display('df', \"df.groupby('key').apply(norm_by_data2)\")"
   ]
  },
  {
   "cell_type": "markdown",
   "metadata": {},
   "source": [
    "**Specify the split key**\n",
    "In the simple examples presented before, we split the `DataFrame` on a single column name. There are more options for group specification. \n",
    "\n",
    "**A list, array, series, or index providing the grouping keys**\n",
    "The key can be any series or list with a length matching that of the `DataFrame`."
   ]
  },
  {
   "cell_type": "code",
   "execution_count": null,
   "metadata": {},
   "outputs": [],
   "source": [
    "L = [0, 1, 0, 1, 2, 0]\n",
    "display('df', 'df.groupby(L).sum()')"
   ]
  },
  {
   "cell_type": "code",
   "execution_count": null,
   "metadata": {},
   "outputs": [],
   "source": [
    "display('df', \"df.groupby(df['key']).sum()\")"
   ]
  },
  {
   "cell_type": "markdown",
   "metadata": {},
   "source": [
    "**A dictionary or series mapping index to group**\n",
    "Another method is to provide a dictionary that maps index values to the group keys:"
   ]
  },
  {
   "cell_type": "code",
   "execution_count": null,
   "metadata": {},
   "outputs": [],
   "source": [
    "df2 = df.set_index('key')\n",
    "mapping = {'A': 'vowel', 'B': 'consonant', 'C': 'consonant'}\n",
    "display('df2', 'df2.groupby(mapping).sum()')"
   ]
  },
  {
   "cell_type": "markdown",
   "metadata": {},
   "source": [
    "**Any Python function**\n",
    "You can pass any Python function that will input the index value and output the group."
   ]
  },
  {
   "cell_type": "code",
   "execution_count": null,
   "metadata": {},
   "outputs": [],
   "source": [
    "display('df2', 'df2.groupby(str.lower).mean()')"
   ]
  },
  {
   "cell_type": "markdown",
   "metadata": {},
   "source": [
    "**A list of valid keys**\n",
    "Any of the preceding key choices can be combined to group on a multi-index:"
   ]
  },
  {
   "cell_type": "code",
   "execution_count": null,
   "metadata": {},
   "outputs": [],
   "source": [
    "df2.groupby([str.lower,mapping]).mean()"
   ]
  },
  {
   "cell_type": "markdown",
   "metadata": {},
   "source": [
    "**Grouping example**"
   ]
  },
  {
   "cell_type": "code",
   "execution_count": null,
   "metadata": {},
   "outputs": [],
   "source": [
    "decade = 10 * (planets['year'] // 10)\n",
    "decade = decade.astype(str) + 's'\n",
    "decade.name = 'decade'\n",
    "planets.groupby(['method', decade])['number'].sum().unstack().fillna(0)"
   ]
  },
  {
   "cell_type": "markdown",
   "metadata": {},
   "source": [
    "**Pivot Tables**\n",
    "A *pivot table* is commonly seen in spreadsheets and other programs that operate on tabular data. The pivot table takes simple column-wise data as input, and groups the entries into a two-dimensional table that provides a multidimensional summary of the data.\n",
    "\n",
    "The difference between pivot tables and `GroupBy` can sometimes cause confusion; it helps me to think of pivot tables as a *multidimensional* version of `GroupBy` aggregation. That is, you split-apply-combine, but both the split and combine happen across not a one-dimensional index, but across a two-dimensional grid."
   ]
  },
  {
   "cell_type": "code",
   "execution_count": null,
   "metadata": {},
   "outputs": [],
   "source": [
    "import numpy as np\n",
    "import pandas as pd\n",
    "import seaborn as sns\n",
    "titanic = sns.load_dataset('titanic')"
   ]
  },
  {
   "cell_type": "code",
   "execution_count": null,
   "metadata": {},
   "outputs": [],
   "source": [
    "titanic.head()"
   ]
  },
  {
   "cell_type": "code",
   "execution_count": null,
   "metadata": {},
   "outputs": [],
   "source": [
    "titanic.groupby('sex')[['survived']].mean()"
   ]
  },
  {
   "cell_type": "code",
   "execution_count": null,
   "metadata": {},
   "outputs": [],
   "source": [
    "titanic.groupby(['sex','class'])['survived'].mean().unstack()"
   ]
  },
  {
   "cell_type": "markdown",
   "metadata": {},
   "source": [
    "This two-dimensional `GroupBy` is common enough that Pandas includes a convenience routine, `pivot_table`, which succintly handles this type of multi-dimensional aggregation. The code is much more readable and produces the same result."
   ]
  },
  {
   "cell_type": "code",
   "execution_count": null,
   "metadata": {},
   "outputs": [],
   "source": [
    "titanic.pivot_table('survived',index='sex',columns='class')"
   ]
  },
  {
   "cell_type": "markdown",
   "metadata": {},
   "source": [
    "**Multi-level pivot tables**\n",
    "`pd.cut` allows us to apply binning. \n",
    "`pd.qcut` computes quantiles."
   ]
  },
  {
   "cell_type": "code",
   "execution_count": null,
   "metadata": {},
   "outputs": [],
   "source": [
    "age = pd.cut(titanic['age'], [0, 18, 80])\n",
    "titanic.pivot_table('survived', index = ['sex', age], columns = 'class')"
   ]
  },
  {
   "cell_type": "code",
   "execution_count": null,
   "metadata": {},
   "outputs": [],
   "source": [
    "fare = pd.qcut(titanic['fare'], 2)\n",
    "titanic.pivot_table('survived',index=['sex',age],columns=[fare,'class'])"
   ]
  },
  {
   "cell_type": "markdown",
   "metadata": {},
   "source": [
    "**Additional pivot table options**\n",
    "```python\n",
    "# call signature as of Pandas 0.18\n",
    "DataFrame.pivot_table(data, values=None,index=None,columns=None,\n",
    "                     aggfunc='mean',fill_value=None,margins=False,\n",
    "                     dropna=True, margins_name='All')```\n",
    "               \n",
    "The `aggfunc` keyword controls what type of aggregation is applied, which is mean by default.The aggregation specification can be a string representing common choices like`'sum'`,`'mean'`,`'count'`,`'min'`,`'max'`, etc. or a function that implements an aggregation (e.g., `np.sum()`,`min()`,`sum()`,etc.). Additionally, it can be specified as a dictionary mapping a column to any of the above desired options."
   ]
  },
  {
   "cell_type": "code",
   "execution_count": null,
   "metadata": {},
   "outputs": [],
   "source": [
    "titanic.pivot_table(index='sex', columns='class',\n",
    "                    aggfunc={'survived':sum, 'fare':'mean'})"
   ]
  },
  {
   "cell_type": "markdown",
   "metadata": {},
   "source": [
    "At times it's useful to compute totals along each grouping. This can be done via the `margins` keyword. The margin label can be specified with the `margins_name` keyword, which defaults to `'All'`. "
   ]
  },
  {
   "cell_type": "code",
   "execution_count": null,
   "metadata": {},
   "outputs": [],
   "source": [
    "titanic.pivot_table('survived', index='sex', columns='class', margins=True)"
   ]
  },
  {
   "cell_type": "markdown",
   "metadata": {},
   "source": [
    "**Example: Birthrate Data**"
   ]
  },
  {
   "cell_type": "code",
   "execution_count": null,
   "metadata": {},
   "outputs": [],
   "source": [
    "# shell command to download the data:\n",
    "!curl -O https://raw.githubusercontent.com/jakevdp/data-CDCbirths/master/births.csv"
   ]
  },
  {
   "cell_type": "code",
   "execution_count": null,
   "metadata": {},
   "outputs": [],
   "source": [
    "births = pd.read_csv('data/births.csv')\n",
    "births.head()"
   ]
  },
  {
   "cell_type": "markdown",
   "metadata": {},
   "source": [
    "We can start to understand this data a bit more by using a pivot table."
   ]
  },
  {
   "cell_type": "code",
   "execution_count": null,
   "metadata": {},
   "outputs": [],
   "source": [
    "births['decade'] = 10 * (births['year'] // 10)\n",
    "births.pivot_table('births', index='decade', columns='gender', aggfunc='sum')"
   ]
  },
  {
   "cell_type": "code",
   "execution_count": null,
   "metadata": {},
   "outputs": [],
   "source": [
    "%matplotlib inline\n",
    "import matplotlib.pyplot as plt\n",
    "sns.set()  # use Seaborn styles\n",
    "births.pivot_table('births', index='year', columns='gender', aggfunc='sum').plot()\n",
    "plt.ylabel('total births per year');"
   ]
  },
  {
   "cell_type": "markdown",
   "metadata": {},
   "source": [
    "We are going to want to clean the data a bit, removing outliers caused by mistyped dates (e.g., June 31st) or missing values (e.g., June 99th). One easy way to remove these all at once is to cut outliers; we'll do this via a robust sigma-clipping operation:"
   ]
  },
  {
   "cell_type": "code",
   "execution_count": null,
   "metadata": {},
   "outputs": [],
   "source": [
    "quartiles = np.percentile(births['births'], [25, 50, 75])\n",
    "mu = quartiles[1]\n",
    "sig = 0.74 * (quartiles[2] - quartiles[0])"
   ]
  },
  {
   "cell_type": "markdown",
   "metadata": {},
   "source": [
    "The final line is a robust estimate of the sample mean, where 0.74 comes from the interquartile range of a Gaussian distribution. With this we can use the `query()` method to filter-out rows with births outside these values."
   ]
  },
  {
   "cell_type": "code",
   "execution_count": null,
   "metadata": {},
   "outputs": [],
   "source": [
    "births = births.query('(births > @mu - 5 * @sig) & (births < @mu + 5 * @sig)')"
   ]
  },
  {
   "cell_type": "code",
   "execution_count": null,
   "metadata": {},
   "outputs": [],
   "source": [
    "# set 'day' column to integer; it originally was a string due to nulls\n",
    "births['day'] = births['day'].astype(int)"
   ]
  },
  {
   "cell_type": "markdown",
   "metadata": {},
   "source": [
    "Finally, we can combine the day, month, and year to create a Date index. This allows us to quickly compute the weekday corresponding to each row."
   ]
  },
  {
   "cell_type": "code",
   "execution_count": null,
   "metadata": {},
   "outputs": [],
   "source": [
    "births.index = pd.to_datetime(10000 * births.year +\n",
    "                              100 * births.month +\n",
    "                              births.day, format='%Y%m%d')\n",
    "\n",
    "births['dayofweek'] = births.index.dayofweek\n",
    "births"
   ]
  },
  {
   "cell_type": "code",
   "execution_count": null,
   "metadata": {},
   "outputs": [],
   "source": [
    "births.pivot_table('births', index='dayofweek',\n",
    "                    columns='decade', aggfunc='mean').plot()\n",
    "plt.gca().set_xticklabels(['Mon', 'Tues', 'Wed', 'Thurs', 'Fri', 'Sat', 'Sun'])\n",
    "plt.ylabel('mean births by day');"
   ]
  },
  {
   "cell_type": "code",
   "execution_count": null,
   "metadata": {},
   "outputs": [],
   "source": [
    "births_by_date = births.pivot_table('births', \n",
    "                                    [births.index.month, births.index.day])\n",
    "births_by_date"
   ]
  },
  {
   "cell_type": "code",
   "execution_count": null,
   "metadata": {},
   "outputs": [],
   "source": [
    "births_by_date.index = [pd.datetime(2012, month, day)\n",
    "                        for (month, day) in births_by_date.index]\n",
    "births_by_date.head()"
   ]
  },
  {
   "cell_type": "code",
   "execution_count": null,
   "metadata": {},
   "outputs": [],
   "source": [
    "# Plot the results\n",
    "fig, ax = plt.subplots(figsize=(12, 4))\n",
    "births_by_date.plot(ax=ax);"
   ]
  },
  {
   "cell_type": "markdown",
   "metadata": {},
   "source": [
    "**Vectorized String Operations**\n",
    "We saw in previous sections how tools like NumPy and Pandas generalize arithmetic operations so that we can easily and quickly perform the same operations on many array elements. "
   ]
  },
  {
   "cell_type": "code",
   "execution_count": null,
   "metadata": {},
   "outputs": [],
   "source": [
    "import numpy as np\n",
    "x=np.array([2,3,5,7,11,13])\n",
    "x*2"
   ]
  },
  {
   "cell_type": "markdown",
   "metadata": {},
   "source": [
    "This *vectorization* of operations simplifies the syntax off operating on arrays of data: we no longer have to worry about the size of shape of the array, but just about what operation we want done. For arrays of strings, NumPy does not provide such simple access, and thus you're stuck using a more verbose loop."
   ]
  },
  {
   "cell_type": "code",
   "execution_count": null,
   "metadata": {},
   "outputs": [],
   "source": [
    "data = ['peter', 'Paul', 'MARY', 'gUIDO']\n",
    "[s.capitalize() for s in data]"
   ]
  },
  {
   "cell_type": "markdown",
   "metadata": {},
   "source": [
    "This is sufficient to work with some data, but it will break if there are any missing values. Pandas includes features to address both this need for vectorized string operations and for correctly handling missing data via the `str` attribute of Pandas Series and Index objects containing strings."
   ]
  },
  {
   "cell_type": "code",
   "execution_count": null,
   "metadata": {},
   "outputs": [],
   "source": [
    "import pandas as pd\n",
    "data = ['peter', 'Paul', None, 'MARY', 'gUIDO']\n",
    "\n",
    "names = pd.Series(data)\n",
    "names"
   ]
  },
  {
   "cell_type": "markdown",
   "metadata": {},
   "source": [
    "We can now call a single method that will capitalize all the entries, while skipping over any missing values."
   ]
  },
  {
   "cell_type": "code",
   "execution_count": null,
   "metadata": {},
   "outputs": [],
   "source": [
    "names.str.capitalize()"
   ]
  },
  {
   "cell_type": "markdown",
   "metadata": {},
   "source": [
    "Nearly all Python's built-in string methods are mirrored by a Pandas vectorized string method. \n",
    "- `len()`\t\n",
    "- `lower()`\t\n",
    "- `translate()`\t\n",
    "- `islower()`\n",
    "- `ljust()`\t\n",
    "- `upper()`\t\n",
    "- `startswith()`\t\n",
    "- `isupper()`\n",
    "- `rjust()`\t\n",
    "- `find()`\t\n",
    "- `endswith()`\t\n",
    "- `isnumeric()`\n",
    "- `center()`\t\n",
    "- `rfind()`\t\n",
    "- `isalnum()`\t\n",
    "- `isdecimal()`\n",
    "- `zfill()`\t\n",
    "- `index()`\t\n",
    "- `isalpha()`\t\n",
    "- `split()`\n",
    "- `strip()`\t\n",
    "- `rindex()`\t\n",
    "- `isdigit()`\t\n",
    "- `rsplit()`\n",
    "- `rstrip()`\t\n",
    "- `capitalize()`\t\n",
    "- `isspace()`\t\n",
    "- `partition()`\n",
    "- `lstrip()`\t\n",
    "- `swapcase()`\t\n",
    "- `istitle()`\t\n",
    "- `rpartition()`\n",
    "\n",
    "**Methods using regular expressions**\n",
    "There are several methods that accept regular expressions to examine the content of each string element. \n",
    "\n",
    "|**Method**|**Description**|\n",
    "|----------|---------------|\n",
    "|`match()`|Call `re.match()` on each element, returning a boolean.|\n",
    "|`extract()`|\tCall `re.match()` on each element, returning matched groups as strings.|\n",
    "|`findall()`\t| Call `re.findall()` on each element|\n",
    "|`replace()`\t|Replace occurrences of pattern with some other string|\n",
    "|`contains()`\t|Call `re.search()` on each element, returning a boolean|\n",
    "|`count()`\t|Count occurrences of pattern|\n",
    "|`split()`\t|Equivalent to `str.split()`, but accepts regexps|\n",
    "|`rsplit()`\t|Equivalent to `str.rsplit()`, but accepts regexps|\n",
    "\n",
    "**Miscellaneous methods**\n",
    "\n",
    "|**Method**|**Description**|\n",
    "|----------|---------------|\n",
    "|`get()`\t|Index each element|\n",
    "|`slice()`|\tSlice each element|\n",
    "|`slice_replace()`|\tReplace slice in each element with passed value|\n",
    "|`cat()`|\tConcatenate strings|\n",
    "|`repeat()`|\tRepeat values|\n",
    "|`normalize()`|\tReturn Unicode form of string|\n",
    "|`pad()`|\tAdd whitespace to left, right, or both sides of strings|\n",
    "|`wrap()`|\tSplit long strings into lines with length less than a given width|\n",
    "|`join()`|Join strings in each element of the Series with passed separator|\n",
    "|`get_dummies()`|\textract dummy variables as a dataframe|\n",
    "\n",
    "**Vectorized item access and slicing**\n",
    "The `get()` and `slice()` operations, enable vectorized element access from each array. \n",
    "\n",
    "**Indicator variables**\n",
    "The `get_dummies()` method is useful when your data has a column containing some sort of coded indicator. For example, we might have a dataset that contains information in the form of codes, such as A=\"born in America,\" B=\"born in the United Kingdom,\" C=\"likes cheese,\" D=\"likes spam\":"
   ]
  },
  {
   "cell_type": "code",
   "execution_count": null,
   "metadata": {},
   "outputs": [],
   "source": [
    "monte = pd.Series(['Graham Chapman', 'John Cleese', 'Terry Gilliam',\n",
    "                   'Eric Idle', 'Terry Jones', 'Michael Palin'])\n",
    "full_monte = pd.DataFrame({'name': monte,\n",
    "                           'info': ['B|C|D', 'B|D', 'A|C',\n",
    "                                    'B|D', 'B|C', 'B|C|D']})\n",
    "full_monte"
   ]
  },
  {
   "cell_type": "markdown",
   "metadata": {},
   "source": [
    "The `get_dummies()` routine lets you quickly split-out these indicator variables into a `DataFrame`:"
   ]
  },
  {
   "cell_type": "code",
   "execution_count": null,
   "metadata": {},
   "outputs": [],
   "source": [
    "full_monte['info'].str.get_dummies('|')"
   ]
  },
  {
   "cell_type": "markdown",
   "metadata": {},
   "source": [
    "**Example: Recepie Database**"
   ]
  },
  {
   "cell_type": "code",
   "execution_count": null,
   "metadata": {},
   "outputs": [],
   "source": [
    "!curl -O http://openrecipes.s3.amazonaws.com/recipeitems-latest.json.gz\n",
    "!gunzip recipeitems-latest.json.gz"
   ]
  },
  {
   "cell_type": "code",
   "execution_count": null,
   "metadata": {},
   "outputs": [],
   "source": [
    "try:\n",
    "    recipes = pd.read_json('recipeitems-latest.json')\n",
    "except ValueError as e:\n",
    "    print(\"ValueError:\", e)"
   ]
  },
  {
   "cell_type": "code",
   "execution_count": null,
   "metadata": {},
   "outputs": [],
   "source": [
    "with open('recipeitems-latest.json') as f:\n",
    "    line = f.readline()\n",
    "pd.read_json(line).shape"
   ]
  },
  {
   "cell_type": "code",
   "execution_count": null,
   "metadata": {},
   "outputs": [],
   "source": [
    "try:\n",
    "    recipes = pd.read_json('recipeitems-latest.json')\n",
    "except ValueError as e:\n",
    "    print(\"ValueError:\", e)"
   ]
  },
  {
   "cell_type": "markdown",
   "metadata": {},
   "source": [
    "**Working with time series**\n",
    "Date and time data come in a few flavors:\n",
    "- *time stamps* reference particular momments in time \n",
    "- *time intervals* and *periods* reference a length of time between a particular begining and end point. Periods usually reference a special case of time intervals in which each interval is of uniform length and does not overlap. \n",
    "- *time deltas* or *durations* reference an exact length of time \n",
    "\n",
    "While the time series tools provided by Pandas tend to be the most useful for data science applications, it is helpful to see their relationship to other packages used in Python. \n",
    "\n",
    "**Native Python dates and times: `datetime` and `dateutil`**\n",
    "The power of `datetime` and `dateutil` lie in their flexibility and easy syntax. Where they break down is when you wish to work with large arrays of dates and times."
   ]
  },
  {
   "cell_type": "code",
   "execution_count": null,
   "metadata": {},
   "outputs": [],
   "source": [
    "from datetime import datetime\n",
    "datetime(year=2015, month=7, day=4)"
   ]
  },
  {
   "cell_type": "code",
   "execution_count": null,
   "metadata": {},
   "outputs": [],
   "source": [
    "from dateutil import parser\n",
    "date = parser.parse(\"4th of July, 2015\")\n",
    "date"
   ]
  },
  {
   "cell_type": "markdown",
   "metadata": {},
   "source": [
    "Once you have a `datetime` object, you can do things like printing the day of the week:"
   ]
  },
  {
   "cell_type": "code",
   "execution_count": null,
   "metadata": {},
   "outputs": [],
   "source": [
    "date.strftime('%A')"
   ]
  },
  {
   "cell_type": "markdown",
   "metadata": {},
   "source": [
    "**Typed arrays of times: NumPy's `datetime64`**\n",
    "The weaknesses of Python's datetime format inspired the NumPy team to add a set of native time series data type to NumPy. The `datetime64` dtype encodes dates as 64-bit integers. This allows arrays of dates to be represented very compactly."
   ]
  },
  {
   "cell_type": "code",
   "execution_count": null,
   "metadata": {},
   "outputs": [],
   "source": [
    "import numpy as np\n",
    "date = np.array('2015-07-04', dtype=np.datetime64)\n",
    "date"
   ]
  },
  {
   "cell_type": "markdown",
   "metadata": {},
   "source": [
    "Once we have this date formatted, we can quickly do vectorized operations on it:"
   ]
  },
  {
   "cell_type": "code",
   "execution_count": null,
   "metadata": {},
   "outputs": [],
   "source": [
    "date + np.arange(12)"
   ]
  },
  {
   "cell_type": "markdown",
   "metadata": {},
   "source": [
    "While the `datetime64` data type addresses some of the deficiencies of the built-in Python `datetime` type, it lacks many of the convenient methods and functions provided by `datetime` and especially `dateutil`.\n",
    "\n",
    "**Dates and times in pandas: best of both worlds**\n",
    "Pandas builds upon all the tools just discussed to provide a `Timestamp` object, which combines the ease-of-use of `datetime` and `dateutil` with the efficient storage and vectorized interface of `numpy.datetime64`. From a group of these `Timestamp` objects, Pandas can construct a `DatetimeIndex` that can be used to index data in a `Series` or `DataFrame`."
   ]
  },
  {
   "cell_type": "code",
   "execution_count": null,
   "metadata": {},
   "outputs": [],
   "source": [
    "import pandas as pd\n",
    "date = pd.to_datetime(\"4th of July, 2015\")\n",
    "date"
   ]
  },
  {
   "cell_type": "code",
   "execution_count": null,
   "metadata": {},
   "outputs": [],
   "source": [
    "date.strftime('%A')"
   ]
  },
  {
   "cell_type": "markdown",
   "metadata": {},
   "source": [
    "Additionally, we can do NumPy-style vectorized operations directly on this same object:"
   ]
  },
  {
   "cell_type": "code",
   "execution_count": null,
   "metadata": {},
   "outputs": [],
   "source": [
    "date + pd.to_timedelta(np.arange(12), 'D')"
   ]
  },
  {
   "cell_type": "markdown",
   "metadata": {},
   "source": [
    "**Pandas Time Series: Indexing by Time**"
   ]
  },
  {
   "cell_type": "code",
   "execution_count": null,
   "metadata": {},
   "outputs": [],
   "source": [
    "index = pd.DatetimeIndex(['2014-07-04', '2014-08-04',\n",
    "                          '2015-07-04', '2015-08-04'])\n",
    "data = pd.Series([0, 1, 2, 3], index=index)\n",
    "data"
   ]
  },
  {
   "cell_type": "markdown",
   "metadata": {},
   "source": [
    "There are special date-only indexing operations, such as passing a year to obtain a slice of all data from that year:"
   ]
  },
  {
   "cell_type": "code",
   "execution_count": null,
   "metadata": {},
   "outputs": [],
   "source": [
    "data['2015']"
   ]
  },
  {
   "cell_type": "markdown",
   "metadata": {},
   "source": [
    "**Pandas Time Series Data Structures**\n",
    "- for *time stamps*, Pandas provides the `Timestamp` type. The associated index structure is `DatetimeIndex`.\n",
    "- for *time periods*, Pandas provides the `Period` type. The associated index structure is `PeriodIndex`.\n",
    "- for *time deltas* or *durations*, pandas provides the `Timedelta` type. The associated index structure is `TimedeltaIndex`.\n",
    "\n",
    "**Regular sequences: `pd.date_range()`**\n",
    "To make the creation of regular date sequences more convenient, pandas offers a few functions: `pd.date_range()` for timestamps, `pd.period_range()` for periods, and `pd.timedelta_range()` for time deltas."
   ]
  },
  {
   "cell_type": "code",
   "execution_count": null,
   "metadata": {},
   "outputs": [],
   "source": [
    "pd.date_range('2015-07-03', '2015-07-10')"
   ]
  },
  {
   "cell_type": "code",
   "execution_count": null,
   "metadata": {},
   "outputs": [],
   "source": [
    "pd.date_range('2015-07-03', periods=8)"
   ]
  },
  {
   "cell_type": "code",
   "execution_count": null,
   "metadata": {},
   "outputs": [],
   "source": [
    "pd.period_range('2015-07', periods=8, freq='M')"
   ]
  },
  {
   "cell_type": "code",
   "execution_count": null,
   "metadata": {},
   "outputs": [],
   "source": [
    "pd.timedelta_range(0, periods=10, freq='H')"
   ]
  },
  {
   "cell_type": "markdown",
   "metadata": {},
   "source": [
    "**Frequencies and Offsets**\n",
    "The following table summarizes the main codes available:\n",
    "\n",
    "|**Code** | **Description**|\n",
    "|---------|----------------|\n",
    "|`D`\t| Calendar day |\n",
    "|`W`\t|Weekly\t|\n",
    "|`M`\t|Month end |\n",
    "|`MS`\t|Month start|\n",
    "|`Q`\t|Quarter end|\n",
    "|`QS`\t|Quarter start|\n",
    "|`A`\t|Year end|\t\n",
    "|`AS`\t|Year start|\n",
    "|`H`\t|Hours\t|\n",
    "|`T`\t|Minutes|\t\n",
    "|`S`\t|Seconds|\t\t\n",
    "|`L`\t|Milliseonds|\t\t\n",
    "|`U`\t|Microseconds|\t\t\n",
    "|`N`\t|nanoseconds|\t\n",
    "|`B`\t|Business day|\n",
    "|`BM`\t|Business month end|\n",
    "|`BMS`\t|Business month start|\n",
    "|`BQ`\t|Business quarter end|\n",
    "|`BQS`\t|Business quarter start|\n",
    "|`BA`\t|Business year end|\n",
    "|`BAS`\t|Business year start|\n",
    "|`BH`\t|Business hours|\n",
    "\n",
    "**Resampling, Shifting, and Windowing**"
   ]
  },
  {
   "cell_type": "code",
   "execution_count": null,
   "metadata": {},
   "outputs": [],
   "source": [
    "!pip install pandas-datareader"
   ]
  },
  {
   "cell_type": "code",
   "execution_count": null,
   "metadata": {},
   "outputs": [],
   "source": [
    "from pandas_datareader import data\n",
    "\n",
    "goog = data.DataReader('GOOG', start='2004', end='2016',\n",
    "                       data_source='yahoo')\n",
    "goog.head()"
   ]
  },
  {
   "cell_type": "code",
   "execution_count": null,
   "metadata": {},
   "outputs": [],
   "source": [
    "goog = goog['Close']"
   ]
  },
  {
   "cell_type": "code",
   "execution_count": null,
   "metadata": {},
   "outputs": [],
   "source": [
    "%matplotlib inline\n",
    "import matplotlib.pyplot as plt\n",
    "import seaborn; seaborn.set()"
   ]
  },
  {
   "cell_type": "code",
   "execution_count": null,
   "metadata": {},
   "outputs": [],
   "source": [
    "goog.plot();"
   ]
  },
  {
   "cell_type": "markdown",
   "metadata": {},
   "source": [
    "**Resampling and converting frequencies**\n",
    "One common need for time series data is resampling at a higher or lower frequency. This can be done using the `resample()` method, or the much simpler `asfreq()` method. The primary difference between the two is that `resample()` is fundamentally a *data aggregation* while `asfreq()` is fundamentally a *data selection*"
   ]
  },
  {
   "cell_type": "code",
   "execution_count": null,
   "metadata": {},
   "outputs": [],
   "source": [
    "goog.plot(alpha=0.5, style='-')\n",
    "goog.resample('BA').mean().plot(style=':')\n",
    "goog.asfreq('BA').plot(style='--');\n",
    "plt.legend(['input', 'resample', 'asfreq'],\n",
    "           loc='upper left');"
   ]
  },
  {
   "cell_type": "markdown",
   "metadata": {},
   "source": [
    "A related package to be aware of is `pytz` which includes tools for working with time zones."
   ]
  },
  {
   "cell_type": "markdown",
   "metadata": {},
   "source": [
    "**High-Performance Pandas: `eval()` and `query()`**\n",
    "\n",
    "**Motivating `query()` and `eval()`: Compound Expressions**\n",
    "We've seen previously that NumPy and Pandas support fast vectorized operations."
   ]
  },
  {
   "cell_type": "code",
   "execution_count": null,
   "metadata": {},
   "outputs": [],
   "source": [
    "import numpy as np\n",
    "rng = np.random.RandomState(42)\n",
    "x = rng.rand(1000000)\n",
    "y = rng.rand(1000000)\n",
    "%timeit x + y"
   ]
  },
  {
   "cell_type": "markdown",
   "metadata": {},
   "source": [
    "But this abstraction becomes less efficient when computing compound expressions. "
   ]
  },
  {
   "cell_type": "code",
   "execution_count": null,
   "metadata": {},
   "outputs": [],
   "source": [
    "mask = (x > 0.5) & (y < 0.5)"
   ]
  },
  {
   "cell_type": "markdown",
   "metadata": {},
   "source": [
    "Because NumPy evaluates each subexpression, this is roughly equivalent to:"
   ]
  },
  {
   "cell_type": "code",
   "execution_count": null,
   "metadata": {},
   "outputs": [],
   "source": [
    "tmp1 = (x > 0.5)\n",
    "tmp2 = (y < 0.5)\n",
    "mask = tmp1 & tmp2"
   ]
  },
  {
   "cell_type": "markdown",
   "metadata": {},
   "source": [
    "This means that every intermediate step is explicitly allocated in memory. If the `x` and `y` arrays are very large, this can lead to significant memory and computational overhead. The Numexpr library gives you the ability to compute this type of compound expression element by element, without the need to allocate full intermediate arrays."
   ]
  },
  {
   "cell_type": "code",
   "execution_count": null,
   "metadata": {},
   "outputs": [],
   "source": [
    "import numexpr\n",
    "mask_numexpr = numexpr.evaluate('(x > 0.5) & (y < 0.5)')\n",
    "np.allclose(mask,mask_numexpr)"
   ]
  },
  {
   "cell_type": "markdown",
   "metadata": {},
   "source": [
    "The Pandas `eval()` and `query()` tools are conceptually similar, and depend on thr Numexpr package.\n",
    "\n",
    "**`pd.eval()` for efficient operations**\n",
    "`pd.eval()` supports all arithmetic operators, comparison operators (including chained expressions), the `&` and `|` bitwise operators, `and` and `or`. It even supports access to object attributes via the `obj.attr` syntax and indexes via the `obj[index]` syntax. Other operations such as function calls, conditional statements, loops, and other more involved constructs are currently *not* implemented in `pd.eval()`"
   ]
  },
  {
   "cell_type": "code",
   "execution_count": null,
   "metadata": {},
   "outputs": [],
   "source": [
    "import pandas as pd\n",
    "nrows, ncols = 100000, 100\n",
    "rng = np.random.RandomState(42)\n",
    "df1, df2, df3, df4 = (pd.DataFrame(rng.rand(nrows, ncols))\n",
    "                      for i in range(4))"
   ]
  },
  {
   "cell_type": "code",
   "execution_count": null,
   "metadata": {},
   "outputs": [],
   "source": [
    "%timeit df1 + df2 + df3 + df4"
   ]
  },
  {
   "cell_type": "code",
   "execution_count": null,
   "metadata": {},
   "outputs": [],
   "source": [
    "%timeit pd.eval('df1 + df2 + df3 + df4')"
   ]
  },
  {
   "cell_type": "code",
   "execution_count": null,
   "metadata": {},
   "outputs": [],
   "source": [
    "df1, df2, df3, df4, df5 = (pd.DataFrame(rng.randint(0, 1000, (100, 3)))\n",
    "                           for i in range(5))"
   ]
  },
  {
   "cell_type": "markdown",
   "metadata": {},
   "source": [
    "**`DataFrame.eval()` for Column-Wise Operations**\n",
    "Just as Pandas has a top-level `pd.eval()` function, `DataFrame`s have an `eval()` method that works in a similar way. The benefit of `eval()` is that columns can be referred to by name. "
   ]
  },
  {
   "cell_type": "code",
   "execution_count": null,
   "metadata": {},
   "outputs": [],
   "source": [
    "df = pd.DataFrame(rng.rand(1000, 3), columns=['A', 'B', 'C'])\n",
    "df.head()"
   ]
  },
  {
   "cell_type": "code",
   "execution_count": null,
   "metadata": {},
   "outputs": [],
   "source": [
    "result1 = (df['A'] + df['B']) / (df['C'] - 1)\n",
    "result2 = pd.eval(\"(df.A + df.B) / (df.C - 1)\")"
   ]
  },
  {
   "cell_type": "markdown",
   "metadata": {},
   "source": [
    "The `DataFrame.eval()` method allows much more succint evaluation of expressions with the columns. Notice here that we treat column names as variables within the evaluated expression."
   ]
  },
  {
   "cell_type": "markdown",
   "metadata": {},
   "source": [
    "**Assignment in `DataFrame.eval()`**\n",
    "We can use `df.eval()` to create a new column `'D'` and assign to it a value computed from the other columns. "
   ]
  },
  {
   "cell_type": "code",
   "execution_count": null,
   "metadata": {},
   "outputs": [],
   "source": [
    "df.head()"
   ]
  },
  {
   "cell_type": "code",
   "execution_count": null,
   "metadata": {},
   "outputs": [],
   "source": [
    "df.eval('D = (A+B)/C',inplace=True)\n",
    "df.head()"
   ]
  },
  {
   "cell_type": "markdown",
   "metadata": {},
   "source": [
    "In the same way, any existing column can be modified."
   ]
  },
  {
   "cell_type": "code",
   "execution_count": null,
   "metadata": {},
   "outputs": [],
   "source": [
    "df.eval('D = (A - B) / C', inplace=True)\n",
    "df.head()"
   ]
  },
  {
   "cell_type": "markdown",
   "metadata": {},
   "source": [
    "**Local variables in `DataFrame.eval()`**\n",
    "The `DataFrame.eval()` method supports additional syntax that lets it work with local Python variables.\n",
    "\n",
    "The `@` character here marks a *variable name* rather than a *column name* and lets you efficiently evaluate expressions involving two \"namespaces\": the namespace of columns and the namespace of Python objects."
   ]
  },
  {
   "cell_type": "code",
   "execution_count": null,
   "metadata": {},
   "outputs": [],
   "source": [
    "column_mean = df.mean(1)\n",
    "result2 = df.eval('A + @column_mean')"
   ]
  },
  {
   "cell_type": "markdown",
   "metadata": {},
   "source": [
    "**`DataFrame.query()` Method**\n",
    "Is a more efficient computation and is also much easier to understand."
   ]
  },
  {
   "cell_type": "code",
   "execution_count": null,
   "metadata": {},
   "outputs": [],
   "source": [
    "result2 = pd.eval('df[(df.A < 0.5) & (df.B < 0.5)]')\n",
    "result3 = df.query('A < 0.5 and B < 0.5')"
   ]
  },
  {
   "cell_type": "code",
   "execution_count": null,
   "metadata": {},
   "outputs": [],
   "source": [
    "result2.shape"
   ]
  },
  {
   "cell_type": "code",
   "execution_count": null,
   "metadata": {},
   "outputs": [],
   "source": [
    "result3.shape"
   ]
  },
  {
   "cell_type": "markdown",
   "metadata": {},
   "source": [
    "# Chapter 4: Visualization with Matplotlib"
   ]
  },
  {
   "cell_type": "markdown",
   "metadata": {},
   "source": [
    "Matplotlib is built on NumPy arrays and plays well with many operating systems and graphics backends. You can count on it to work regardless of which operating system you are using or which output format you wish. "
   ]
  },
  {
   "cell_type": "code",
   "execution_count": null,
   "metadata": {},
   "outputs": [],
   "source": [
    "import matplotlib as mpl\n",
    "import matplotlib.pyplot as plt\n",
    "\n",
    "plt.style.use('classic')"
   ]
  },
  {
   "cell_type": "markdown",
   "metadata": {},
   "source": [
    "**`show()` or no `show()`?** How you view your Matplotlib plots depends on the context (in a script, Ipython termnial, or Ipython notebook). If you are using Matplotlib from within a script, the function `plt.show()` is useful. `plt.show` starts an event loop, looks for all currently active figure objects and opens one or more interactive windows that display your figure or figures. "
   ]
  },
  {
   "cell_type": "code",
   "execution_count": null,
   "metadata": {},
   "outputs": [],
   "source": [
    "# ----- file: myplot.py-----\n",
    "import matplotlib.pyplot as plt\n",
    "import numpy as np\n",
    "\n",
    "x = np.linspace(0,10,100)\n",
    "plt.plot(x, np.sin(x))\n",
    "plt.plot(x, np.cos(x))\n",
    "\n",
    "plt.show()"
   ]
  },
  {
   "cell_type": "markdown",
   "metadata": {},
   "source": [
    "You can then run this script from the command-line prompt, which will result in a window opening with your figure displayed. \n",
    "\n",
    "One thing to be aware of is that the `plt.show()` command should be used only once per python session, and it is most often seen at the very end of the script. Multiple `show()` commands can lead to unpredictable backend-dependent behavior, and should mostly be avoided. \n",
    "\n",
    "Ipython is built to work well with Matplotlib if you specify Matplotlib mode. To enable this mode you can use the `%matplotlib` magic command. Using plt.show() in Matplotlib mode is not required. \n",
    "- `plt.draw()` will force an update if some changes you made to a figure are not showing up. \n",
    "\n",
    "Plotting interactively within an IPython notebook can be done with the `%matplotlib` magic command. In the IPython notebook, you also have the option of embedding graphics directly in the notebook, with two possible options. \n",
    "- `%matplotlib notebook` will lead to interactive plots embedded within the notebook\n",
    "- `%matplotlib inline` will lead to static images of your plot embedded in the notebook. \n",
    "\n",
    "**Saving Figures to File**\n",
    "- `fig.savefig('my_fig.png')` - will save an image to current working directory\n",
    "    - other supported formats: jpeg, jpg, pdf, ... etc\n",
    "\n",
    "**Two Interfaces for the Price of One**\n",
    "- a potentially confusing feature of Matplotlib is its dual interfaces: a convenient MATLAB-style based inteerface and a more powerful object-oriented interface. For more simple plots the choice of which style to use is largely a matter of preference, but the object-oriented approach can become a necessity as plots become more compllicated. In most cases, the difference is as small as switching `plt.plot()` to `ax.plot`\n",
    "\n",
    "Matplotlib was originally written as a Pytthon alternative for MATLAB users, and much of its syntax reflects that. "
   ]
  },
  {
   "cell_type": "code",
   "execution_count": null,
   "metadata": {},
   "outputs": [],
   "source": [
    "# First create a grid of plots \n",
    "# ax will be an array of two Axes objects\n",
    "\n",
    "fig, ax = plt.subplots(2)\n",
    "\n",
    "# call plot() method on the appropriate object \n",
    "ax[0].plot(x,np.sin(x))\n",
    "ax[1].plot(x,np.cos(x))"
   ]
  },
  {
   "cell_type": "markdown",
   "metadata": {},
   "source": [
    "### Simple Line Plots"
   ]
  },
  {
   "cell_type": "code",
   "execution_count": null,
   "metadata": {},
   "outputs": [],
   "source": [
    "%matplotlib inline\n",
    "import matplotlib.pyplot as plt \n",
    "plt.style.use('seaborn-whitegrid')\n",
    "\n",
    "import numpy as np"
   ]
  },
  {
   "cell_type": "code",
   "execution_count": null,
   "metadata": {},
   "outputs": [],
   "source": [
    "fig = plt.figure()\n",
    "ax = plt.axes()"
   ]
  },
  {
   "cell_type": "markdown",
   "metadata": {},
   "source": [
    "The figure (an instance of the class `plt.figure`) can be thought of as a single container that contains all the objects representing axes, graphics, text, and labels. \n",
    "\n",
    "The axes (an instance of the class `plt.axes` contains the plot elements that make up our visualization. \n",
    "\n",
    "If we want to create a single figure with multiple lines, we can simply call the `plot` function multiple times. "
   ]
  },
  {
   "cell_type": "code",
   "execution_count": null,
   "metadata": {},
   "outputs": [],
   "source": [
    "plt.plot(x,np.sin(x))\n",
    "plt.plot(x,np.cos(x))"
   ]
  },
  {
   "cell_type": "markdown",
   "metadata": {},
   "source": [
    "`plt.plot()`\n",
    "\n",
    "**Adjusting the Plot: Line Colors and Styles**\n",
    "- `color`: accepts a string argument representing virtually any color. Color can be specified in a variety of ways\n",
    "    - specify by color name e.g., `blue`\n",
    "    - specify by short color code e.g., `g`\n",
    "    - specify by Grayscale between 0 and 1\n",
    "    - specify by Hex code (RRGGB)\n",
    "    - specify by RGB tuple, values 0 and 1\n",
    "    - all HTML color names supported\n",
    "- `linestyle` \n",
    "     - `\"solid\"` or `\"-\"`\n",
    "     - `\"dashed\"` or `\"--\"`\n",
    "     - `\"dashdot\"` or `\"-.\"`\n",
    "     - `\"dotted\"` or `:`\n",
    "     \n",
    "**Adjusting Axes Limits**\n",
    "- `plt.xlim()`\n",
    "- `plt.ylim()`\n",
    "- `plt.axis(xmin,xmax,ymin,ymax)` allows you to set the x and y limots with a single call\n",
    "    - `plt.axis(\"tight\")` allows you to automatically tighten the bounds around the current plot\n",
    "    - `plt.axis(\"equal\")` ensures an equal aspect ratio so that on your screen, one unit in x is equal to one unit in y. \n",
    "    \n",
    "**Labeling Plots**\n",
    "- `plt.title()`\n",
    "- `plt.xlabel()`\n",
    "- `plt.ylabel()`\n",
    "- `plt.legend()`\n",
    "\n",
    "**Note**\n",
    "- while most `plt` functions translate directly to `ax` method (such as `plt.plot()` --> `ax.plot()`, `plt.legend` --> `ax.legend`, etc) this is not the case for all commands. \n",
    "    - `plt.xlabel()` --> `ax.set_xlabel()`\n",
    "    - `plt.ylabel()` --> `ax.set_ylabel()`\n",
    "    - `plt.xlim()` --> `ax.set_xlim()`\n",
    "    - `plt.ylim()` --> `ax.set_ylim()`\n",
    "    - `plt.title()` --> `ax.set_title()`\n",
    "- Rather than calling these functions individually, it is often more convenient to use the `ax.set()` method to set all the properties at once. "
   ]
  },
  {
   "cell_type": "markdown",
   "metadata": {},
   "source": [
    "**Scatter plots**\n",
    "- `plt.plot()`\n",
    "- `plt.scatter()`\n",
    "    - `alpha` keyword adjusts the transparency level\n",
    "\n",
    "The primary difference of `plt.scatter()` is that it can be used to create scatter plots where the properties of each individual point (size, face color, edge color, etc.) can be individually controlled or mapped to data. Also as datasets get larger than a few thousand points, `plt.plot` can be noticeably more efficient than `plt.scatter`."
   ]
  },
  {
   "cell_type": "code",
   "execution_count": null,
   "metadata": {},
   "outputs": [],
   "source": [
    "x = np.linspace(0,10,30)\n",
    "y = np.sin(x)\n",
    "\n",
    "plt.plot(x,y,'o',color = 'black')"
   ]
  },
  {
   "cell_type": "code",
   "execution_count": null,
   "metadata": {},
   "outputs": [],
   "source": [
    "rng = np.random.RandomState(0)\n",
    "\n",
    "for marker in ['o','.',',','x','+','v','^','<','>','s','d']:\n",
    "    plt.plot(rng.rand(5),rng.rand(5), marker, \n",
    "            label = \"marker = '{0}'\".format(marker))\n",
    "plt.legend(numpoints=1)\n",
    "plt.xlim(0,1.8)"
   ]
  },
  {
   "cell_type": "code",
   "execution_count": null,
   "metadata": {},
   "outputs": [],
   "source": [
    "x = rng.randn(100)\n",
    "y = rng.randn(100)\n",
    "colors = rng.rand(100)\n",
    "sizes = 1000 * rng.rand(100)\n",
    "\n",
    "plt.scatter(x,y,c=colors, s= sizes, \n",
    "            alpha=0.3, cmap='viridis')\n",
    "\n",
    "plt.colorbar()"
   ]
  },
  {
   "cell_type": "markdown",
   "metadata": {},
   "source": [
    "The color and size of points can be used to convey information in the visualization in order to illustrate multidimensional data. "
   ]
  },
  {
   "cell_type": "code",
   "execution_count": null,
   "metadata": {},
   "outputs": [],
   "source": [
    "from sklearn.datasets import load_iris\n",
    "\n",
    "iris = load_iris()\n",
    "features = iris.data.T\n",
    "\n",
    "plt.scatter(features[0],features[1],alpha=0.2, \n",
    "           s=100*features[3],c=iris.target,cmap='viridis')\n",
    "\n",
    "plt.xlabel(iris.feature_names[0])\n",
    "plt.ylabel(iris.feature_names[1])"
   ]
  },
  {
   "cell_type": "markdown",
   "metadata": {},
   "source": [
    "**Basic Errorbars**"
   ]
  },
  {
   "cell_type": "code",
   "execution_count": null,
   "metadata": {},
   "outputs": [],
   "source": [
    "x = np.linspace(0,10,50)\n",
    "dy=0.8\n",
    "\n",
    "y = np.sin(x)+dy * np.random.randn(50)\n",
    "\n",
    "plt.errorbar(x,y,yerr=dy,fmt='o',color='black',\n",
    "            ecolor='lightgray',elinewidth=3,\n",
    "            capsize=0)"
   ]
  },
  {
   "cell_type": "markdown",
   "metadata": {},
   "source": [
    "**Density and Contour Plots** \n",
    "Sometimes it is useful to display three-dimensional data in two dimensions using contours of color-coded regions. \n",
    "- `plt.contour` for contour plots\n",
    "- `plt.contourf` for filled contour plots\n",
    "- `plt.imshow` for showing images"
   ]
  },
  {
   "cell_type": "code",
   "execution_count": null,
   "metadata": {},
   "outputs": [],
   "source": [
    "def f(x,y):\n",
    "    return np.sin(x)**10+np.cos(10+y*x)*np.cos(x)"
   ]
  },
  {
   "cell_type": "code",
   "execution_count": null,
   "metadata": {},
   "outputs": [],
   "source": [
    "x = np.linspace(0,5,50)\n",
    "y = np.linspace(0,5,40)\n",
    "\n",
    "X,Y = np.meshgrid(x,y)\n",
    "Z = f(X,Y)"
   ]
  },
  {
   "cell_type": "code",
   "execution_count": null,
   "metadata": {},
   "outputs": [],
   "source": [
    "plt.contour(X,Y,Z, colors = 'black')"
   ]
  },
  {
   "cell_type": "code",
   "execution_count": null,
   "metadata": {},
   "outputs": [],
   "source": [
    "plt.contour(X,Y,Z,20,cmap='RdGy')"
   ]
  },
  {
   "cell_type": "markdown",
   "metadata": {},
   "source": [
    "With plt.contour the color steps are discrete rather than continous, which is not always desired. A better way to handle this is to use the `plt.imshow()` function, which interprets a two-dimensional grid of data as an image. \n",
    "- `plt.imshow()` doesn't accept an x and y grid, so you must mannually specify the extent `[xmin, xmax, ymin, ymax]'\n",
    "- `plt.imshow()` by default follows the standard image array definition where the origin is in the upper left, not the lower left. This must be changed when showing gridded data. "
   ]
  },
  {
   "cell_type": "code",
   "execution_count": null,
   "metadata": {},
   "outputs": [],
   "source": [
    "plt.imshow(Z, extent=[0,5,0,5],\n",
    "           origin='lower', cmap='RdGy')\n",
    "\n",
    "plt.colorbar()\n",
    "plt.axis(aspect='images')"
   ]
  },
  {
   "cell_type": "markdown",
   "metadata": {},
   "source": [
    "### Histograms, Binnings, and Density"
   ]
  },
  {
   "cell_type": "code",
   "execution_count": null,
   "metadata": {},
   "outputs": [],
   "source": [
    "data = np.random.randn(1000)\n",
    "plt.hist(data, bins = 30, normed = True, alpha = 0.5, \n",
    "        histtype = 'stepfilled',color = 'steelblue',\n",
    "        edgecolor='none');"
   ]
  },
  {
   "cell_type": "markdown",
   "metadata": {},
   "source": [
    "If you would simply like to compute the histogram (that is, count the number of points in a given bin) and not display it, the `np.histogram()` function is available."
   ]
  },
  {
   "cell_type": "code",
   "execution_count": null,
   "metadata": {},
   "outputs": [],
   "source": [
    "counts,bin_edges = np.histogram(data,bins=5)\n",
    "print(counts)"
   ]
  },
  {
   "cell_type": "code",
   "execution_count": null,
   "metadata": {},
   "outputs": [],
   "source": [
    "x1 = np.random.normal(0,0.8,1000)\n",
    "x2 = np.random.normal(-2,1,1000)\n",
    "x3 = np.random.normal(3,2,1000)\n",
    "\n",
    "kwargs=dict(histtype='stepfilled',alpha=0.3, normed = True, bins=40)\n",
    "\n",
    "plt.hist(x1,**kwargs);\n",
    "plt.hist(x2,**kwargs);\n",
    "plt.hist(x3,**kwargs);"
   ]
  },
  {
   "cell_type": "markdown",
   "metadata": {},
   "source": [
    "**Two-Dimensional Histograms and Binning**\n",
    "Just as we create histograms in one dimension by dividing the number-line into bins, we can create histograms in two-dimensions by dividing points among two-dimensional bins. \n",
    "\n",
    "We'll start by definnig some data - an `x` and `y` array drawn from a multivariate Gaussian distribution. "
   ]
  },
  {
   "cell_type": "code",
   "execution_count": null,
   "metadata": {},
   "outputs": [],
   "source": [
    "mean = [0, 0]\n",
    "cov = [[1, 1], [1, 2]]\n",
    "x, y = np.random.multivariate_normal(mean, cov, 10000).T"
   ]
  },
  {
   "cell_type": "code",
   "execution_count": null,
   "metadata": {},
   "outputs": [],
   "source": [
    "x"
   ]
  },
  {
   "cell_type": "code",
   "execution_count": null,
   "metadata": {},
   "outputs": [],
   "source": [
    "y"
   ]
  },
  {
   "cell_type": "markdown",
   "metadata": {},
   "source": [
    "**`plt.hist2d`: Two-dimensional histogram**"
   ]
  },
  {
   "cell_type": "code",
   "execution_count": null,
   "metadata": {},
   "outputs": [],
   "source": [
    "plt.hist2d(x,y,bins=30,cmap='Blues');\n",
    "cb = plt.colorbar()\n",
    "cb.set_label('Counts in bin')"
   ]
  },
  {
   "cell_type": "markdown",
   "metadata": {},
   "source": [
    "If you would simply like to compute the histogram (that is, count the number of points in a given bin) and not display it, the `np.histogram2d()` function is available."
   ]
  },
  {
   "cell_type": "code",
   "execution_count": null,
   "metadata": {},
   "outputs": [],
   "source": [
    "counts,xedges,yedges = np.histogram2d(x,y,bins=30)\n",
    "counts"
   ]
  },
  {
   "cell_type": "code",
   "execution_count": null,
   "metadata": {},
   "outputs": [],
   "source": [
    "# Hexagonal binnings \n",
    "plt.hexbin(x,y,gridsize=30,cmap='Blues');\n",
    "cb = plt.colorbar(label='count in bin')"
   ]
  },
  {
   "cell_type": "markdown",
   "metadata": {},
   "source": [
    "**Kernal density estimation** can be thought of as a way to \"smear out\" the points in space and add up the result to obtain a smooth function. The scipy.stats package has an extemely simple KDE implementation. "
   ]
  },
  {
   "cell_type": "code",
   "execution_count": null,
   "metadata": {},
   "outputs": [],
   "source": [
    "from scipy.stats import gaussian_kde\n",
    "\n",
    "# fit an array of size [Ndim,Nsamples]\n",
    "data = np.vstack([x,y])\n",
    "kde = gaussian_kde(data)\n",
    "\n",
    "# evaluate on a regular grid\n",
    "xgrid = np.linspace(-3.5, 3.5, 40)\n",
    "ygrid = np.linspace(-6, 6, 40)\n",
    "Xgrid, Ygrid = np.meshgrid(xgrid, ygrid)\n",
    "Z = kde.evaluate(np.vstack([Xgrid.ravel(), Ygrid.ravel()]))\n",
    "\n",
    "# Plot the result as an image\n",
    "plt.imshow(Z.reshape(Xgrid.shape), origin='lower', aspect='auto', extent=[-3.5, 3.5, -6, 6], cmap='Blues')\n",
    "cb = plt.colorbar()\n",
    "cb.set_label(\"density\")"
   ]
  },
  {
   "cell_type": "markdown",
   "metadata": {},
   "source": [
    "KDE has a smoothing length that finds the balance between detail and smoothness. `gaussian_kde` uses a rule-of-thumb to attempt to find a nearly optimal smoothing length for the input data. \n",
    "\n",
    "**Customizing Plot Legends**\n",
    "The simplest legend can be created with the `plt.legend()` command, which automatically creates a legend for any labaled plot elements."
   ]
  },
  {
   "cell_type": "code",
   "execution_count": null,
   "metadata": {},
   "outputs": [],
   "source": [
    "import numpy as np\n",
    "import matplotlib.pyplot as plt\n",
    "%matplotlib inline\n",
    "plt.style.use('seaborn-white')"
   ]
  },
  {
   "cell_type": "code",
   "execution_count": null,
   "metadata": {},
   "outputs": [],
   "source": [
    "x = np.linspace(0,10,1000)\n",
    "fig,ax = plt.subplots()\n",
    "ax.plot(x, np.sin(x), '-b', label='Sine')\n",
    "ax.plot(x, np.cos(x), '--r', label='Cosine')\n",
    "plt.axis('equal')\n",
    "leg = ax.legend();"
   ]
  },
  {
   "cell_type": "markdown",
   "metadata": {},
   "source": [
    "**Choosing Elements for the Legend**\n",
    "The legend includes all labeled elements by default. If this is not what is desired, we can fine-tune which elements and labels appear in the legend by using the objects returned by plot commands."
   ]
  },
  {
   "cell_type": "code",
   "execution_count": null,
   "metadata": {},
   "outputs": [],
   "source": [
    "y = np.sin(x[:, np.newaxis] + np.pi * np.arange(0, 2, 0.5))\n",
    "lines = plt.plot(x, y)\n",
    "plt.axis('equal')\n",
    "# # lines is a list of plt.Line2D instances\n",
    "plt.legend(lines[:2], ['first', 'second']);"
   ]
  },
  {
   "cell_type": "markdown",
   "metadata": {},
   "source": [
    "In practice it is clearer to use the first method, applying labels to the plot elements you'd like to show on the legend."
   ]
  },
  {
   "cell_type": "code",
   "execution_count": null,
   "metadata": {},
   "outputs": [],
   "source": [
    "plt.plot(x, y[:, 0], label='first')\n",
    "plt.plot(x, y[:, 1], label='second')\n",
    "plt.plot(x, y[:, 2:])\n",
    "plt.axis('equal')\n",
    "plt.legend(framealpha=1, frameon=True);"
   ]
  },
  {
   "cell_type": "markdown",
   "metadata": {},
   "source": [
    "**Legend for Size of Points**"
   ]
  },
  {
   "cell_type": "code",
   "execution_count": null,
   "metadata": {},
   "outputs": [],
   "source": [
    "import pandas as pd\n",
    "cities = pd.read_csv('data/california_cities.csv')\n",
    "\n",
    "# Extract the data we're interested in\n",
    "lat, lon = cities['latd'],cities['longd']\n",
    "population, area = cities['population_total'], cities['area_total_km2']\n",
    "\n",
    "# Scatter the points\n",
    "plt.scatter(lon, lat, label=None,\n",
    "            c=np.log10(population), cmap='viridis',\n",
    "            s=area, linewidth=0, alpha=0.5);\n",
    "\n",
    "plt.axis(aspect='equal')\n",
    "plt.xlabel('longitude')\n",
    "plt.ylabel('latitude')\n",
    "plt.colorbar(label='log$_{10}$(population)')\n",
    "plt.clim(3, 7)\n",
    "\n",
    "# Create a legend\n",
    "# We'll plot empty lists with the desired size and label\n",
    "for area in [100, 300, 500]:\n",
    "    plt.scatter([], [], c='k', alpha=0.3, s=area,\n",
    "                label=str(area) + ' km$^2$')\n",
    "\n",
    "plt.legend(scatterpoints=1, frameon=False, labelspacing=1, title='City Area');\n",
    "\n",
    "plt.title('California Cities: Area and Population');"
   ]
  },
  {
   "cell_type": "markdown",
   "metadata": {},
   "source": [
    "The legend will always reference some object that is on the plot, so if we'd like to display a particular shape we need to plot it. In this case, the objects we want (gray circles) are not on the plot, so we fake them by plotting empty lists.\n",
    "\n",
    "**Customizing Colorbars**\n",
    "In Matplotlib, a colorbar is a seperate axes that can provide a key for the meaning of colors in a plot. The simplest colorbar can be created with the `plt.colorbar` function. "
   ]
  },
  {
   "cell_type": "code",
   "execution_count": null,
   "metadata": {},
   "outputs": [],
   "source": [
    "import matplotlib.pyplot as plt\n",
    "plt.style.use('classic')\n",
    "\n",
    "%matplotlib inline\n",
    "import numpy as np"
   ]
  },
  {
   "cell_type": "code",
   "execution_count": null,
   "metadata": {},
   "outputs": [],
   "source": [
    "x = np.linspace(0, 10, 1000)\n",
    "I = np.sin(x) * np.cos(x[:, np.newaxis])\n",
    "\n",
    "plt.imshow(I,cmap='rainbow')\n",
    "plt.colorbar();"
   ]
  },
  {
   "cell_type": "markdown",
   "metadata": {},
   "source": [
    "**Customizing Colorbars**\n",
    "The colormap can be specialized using the `cmap` argument. All the available colormaps are in the `plt.cm` namespace; using IPython's tab completion will give you a full list of built-in possibilities.\n",
    "```python\n",
    "plt.cm.<TAB>```\n",
    "\n",
    "**Choosing the Colormap**\n",
    "Broadly, you should be aware of three different categories of colormaps:\n",
    "- *sequential colormaps*: these are made up of continous sequences of colors (e.g., `binary` or `viridis`).\n",
    "- *divergent colormaps*: these usually contain two distinct colors, which show positive and negative deviations from a mean (e.g., `RdBu` or `PuOr`)\n",
    "- *qualitative colormaps*: these mix colors with no particular sequence (e.g.,`rainbow` or `jet`).\n",
    "\n",
    "**Color limits and extensions**\n",
    "The colorbar has some interesting flexibility: for example, we can narrow the color limits and indicate the out-of-bounds values with a triangular arrow at the top and bottom by setting the `extend` property. This might come in handy, if displaying an image that is subject to noise."
   ]
  },
  {
   "cell_type": "code",
   "execution_count": null,
   "metadata": {},
   "outputs": [],
   "source": [
    "# make noise in 1% of the image pixels\n",
    "speckles = (np.random.random(I.shape) < 0.01)\n",
    "I[speckles] = np.random.normal(0, 3, np.count_nonzero(speckles))\n",
    "\n",
    "plt.figure(figsize=(10, 3.5))\n",
    "\n",
    "plt.subplot(1, 2, 1)\n",
    "plt.imshow(I, cmap='RdBu')\n",
    "plt.colorbar()\n",
    "\n",
    "plt.subplot(1, 2, 2)\n",
    "plt.imshow(I, cmap='RdBu')\n",
    "plt.colorbar(extend='both')\n",
    "plt.clim(-1, 1);"
   ]
  },
  {
   "cell_type": "markdown",
   "metadata": {},
   "source": [
    "Notice that in the left pannel, the range of the noise completely washes-out the pattern we are interested in. In the right pannel, we manually set the color limits, and add extensions to indicate values which are above or below those limits.\n",
    "\n",
    "**Discrete Color Bars**\n",
    "Colormaps are by default continous, but sometimes you'd like to represent discrete values. The easiest way to do this is to use the `plt.cm.get_cmap()` function, and pass the name of a suitable colormap along with the number of desired bins. "
   ]
  },
  {
   "cell_type": "code",
   "execution_count": null,
   "metadata": {},
   "outputs": [],
   "source": [
    "plt.imshow(I, cmap=plt.cm.get_cmap('Blues', 6))\n",
    "plt.colorbar()\n",
    "plt.clim(-1, 1);"
   ]
  },
  {
   "cell_type": "markdown",
   "metadata": {},
   "source": [
    "**Example: Handwritten Digits**"
   ]
  },
  {
   "cell_type": "code",
   "execution_count": null,
   "metadata": {},
   "outputs": [],
   "source": [
    "# load images of the digits 0 through 5 and visualize several of them\n",
    "from sklearn.datasets import load_digits\n",
    "digits = load_digits(n_class=6)\n",
    "\n",
    "fig, ax = plt.subplots(8, 8, figsize=(6, 6))\n",
    "\n",
    "for i, axi in enumerate(ax.flat):\n",
    "    axi.imshow(digits.images[i],cmap='binary')\n",
    "    axi.set(xticks=[], yticks=[])"
   ]
  },
  {
   "cell_type": "markdown",
   "metadata": {},
   "source": [
    "Because each digit is defined by the hue of its 64 pixels, we can consider each digit to be a point lying in 64-dimensional space: each dimension represents the brightness of one pixel.\n",
    "\n",
    "**Multiple Subplots**\n",
    "Sometimes it is helpful to compare different views of data side by side. To this end, Matplotlib has the concept of *subplots*: groups of smaller axes that can exist together within a single feature."
   ]
  },
  {
   "cell_type": "code",
   "execution_count": null,
   "metadata": {},
   "outputs": [],
   "source": [
    "%matplotlib inline\n",
    "import matplotlib.pyplot as plt\n",
    "plt.style.use('seaborn-white')\n",
    "import numpy as np"
   ]
  },
  {
   "cell_type": "markdown",
   "metadata": {},
   "source": [
    "**`plt.axes`: Subplots by Hand**\n",
    "The most basic method of creating an axes is to use the `plt.axes` function. By default, this creates a standard axes object that fills the entire figure. `plt.axes` also takes an optional argument that is a list of four numbers in the figure coordinate system. The numbers represent `[left, bottom, width, height]` in the figure coordinate system, which ranges from 0 at the bottom left of the figure to 1 at the top right of the figure. "
   ]
  },
  {
   "cell_type": "code",
   "execution_count": null,
   "metadata": {},
   "outputs": [],
   "source": [
    "ax1 = plt.axes()  # standard axes\n",
    "ax2 = plt.axes([0.65, 0.65, 0.2, 0.2])"
   ]
  },
  {
   "cell_type": "markdown",
   "metadata": {},
   "source": [
    "The equivalent of this command within the object-oriented interface is `fig.add_axes()`."
   ]
  },
  {
   "cell_type": "code",
   "execution_count": null,
   "metadata": {},
   "outputs": [],
   "source": [
    "fig = plt.figure()\n",
    "ax1 = fig.add_axes([0.1, 0.5, 0.8, 0.4],\n",
    "                   xticklabels=[], ylim=(-1.2, 1.2))\n",
    "ax2 = fig.add_axes([0.1, 0.1, 0.8, 0.4],\n",
    "                   ylim=(-1.2, 1.2))\n",
    "\n",
    "x = np.linspace(0, 10)\n",
    "ax1.plot(np.sin(x))\n",
    "ax2.plot(np.cos(x));"
   ]
  },
  {
   "cell_type": "markdown",
   "metadata": {},
   "source": [
    "**`plt.subplot`: Simple Grids of Subplots**\n",
    "`plt.subplot()` creates a single subplot within a grid. This command takes three integer arguments - the number of rows, the number of columns, and the index of the plot to be created in this scheme.\n",
    "\n",
    "The `plt.subplots_adjust` can be used to adjust the spacing between these plots."
   ]
  },
  {
   "cell_type": "code",
   "execution_count": null,
   "metadata": {},
   "outputs": [],
   "source": [
    "for i in range(1, 7):\n",
    "    plt.subplot(2, 3, i)\n",
    "    plt.text(0.5, 0.5, 'index ' + str((i)),\n",
    "             fontsize=18, ha='center')"
   ]
  },
  {
   "cell_type": "code",
   "execution_count": null,
   "metadata": {},
   "outputs": [],
   "source": [
    "# the equivalent object-oriented command\n",
    "fig = plt.figure()\n",
    "fig.subplots_adjust(hspace=0.4, wspace=0.4) # the space is 40% of the subplot width and height\n",
    "for i in range(1, 7):\n",
    "    ax = fig.add_subplot(2, 3, i)\n",
    "    ax.text(0.5, 0.5, str((2, 3, i)),\n",
    "           fontsize=18, ha='center')"
   ]
  },
  {
   "cell_type": "markdown",
   "metadata": {},
   "source": [
    "**`plt.subplots`: The Whole Grid in One Go**\n",
    "The approach just described can become tedious when creating a large grid of subplots. For this purpose, `plt.subplots()` is the easier tool to use (not the `s` at the end of `subplots`). Rather than creating a single subplot, this function creates a grid of subplots in a single line. The arguments are the number of rows and number of columns, along with optional keywords `sharex` and `sharey` which allow you to specify the relationships between axes."
   ]
  },
  {
   "cell_type": "code",
   "execution_count": null,
   "metadata": {},
   "outputs": [],
   "source": [
    "fig, ax = plt.subplots(2, 3, sharex='col', sharey='row')"
   ]
  },
  {
   "cell_type": "code",
   "execution_count": null,
   "metadata": {},
   "outputs": [],
   "source": [
    "# axes are in a two-dimensional array, indexed by [row, col]\n",
    "for i in range(2):\n",
    "    for j in range(3):\n",
    "        ax[i, j].text(0.5, 0.5, str((i, j)),\n",
    "                      fontsize=18, ha='center')\n",
    "fig"
   ]
  },
  {
   "cell_type": "markdown",
   "metadata": {},
   "source": [
    "**Text and Annotation**\n"
   ]
  },
  {
   "cell_type": "code",
   "execution_count": null,
   "metadata": {},
   "outputs": [],
   "source": [
    "%matplotlib inline\n",
    "import matplotlib.pyplot as plt\n",
    "import matplotlib as mpl\n",
    "plt.style.use('seaborn-whitegrid')\n",
    "import numpy as np\n",
    "import pandas as pd"
   ]
  },
  {
   "cell_type": "code",
   "execution_count": null,
   "metadata": {},
   "outputs": [],
   "source": [
    "births = pd.read_csv('data/births.csv')\n",
    "\n",
    "quartiles = np.percentile(births['births'], [25, 50, 75])\n",
    "mu, sig = quartiles[1], 0.74 * (quartiles[2] - quartiles[0])\n",
    "births = births.query('(births > @mu - 5 * @sig) & (births < @mu + 5 * @sig)')\n",
    "\n",
    "births['day'] = births['day'].astype(int)\n",
    "\n",
    "births.index = pd.to_datetime(10000 * births.year +\n",
    "                              100 * births.month +\n",
    "                              births.day, format='%Y%m%d')\n",
    "\n",
    "births_by_date = births.pivot_table('births',\n",
    "                                    [births.index.month, births.index.day])\n",
    "\n",
    "births_by_date.index = [pd.datetime(2012, month, day)\n",
    "                        for (month, day) in births_by_date.index]"
   ]
  },
  {
   "cell_type": "code",
   "execution_count": null,
   "metadata": {},
   "outputs": [],
   "source": [
    "fig, ax = plt.subplots(figsize=(12, 4))\n",
    "births_by_date.plot(ax=ax);"
   ]
  },
  {
   "cell_type": "markdown",
   "metadata": {},
   "source": [
    "When communicating data like this, it is often useful to annotate certain features of the plot to draw the reader's attention. This can be done manually with the `plt.text`/`ax.text` command, wihch will place text at a particular x/y value."
   ]
  },
  {
   "cell_type": "code",
   "execution_count": null,
   "metadata": {},
   "outputs": [],
   "source": [
    "fig, ax = plt.subplots(figsize=(12, 4))\n",
    "births_by_date.plot(ax=ax)\n",
    "\n",
    "# Add labels to the plot\n",
    "style = dict(size=10, color='gray')\n",
    "\n",
    "ax.text('2012-1-1', 3950, \"New Year's Day\", **style)\n",
    "ax.text('2012-7-4', 4250, \"Independence Day\", ha='center', **style)\n",
    "ax.text('2012-9-4', 4850, \"Labor Day\", ha='center', **style)\n",
    "ax.text('2012-10-31', 4600, \"Halloween\", ha='right', **style)\n",
    "ax.text('2012-11-25', 4450, \"Thanksgiving\", ha='center', **style)\n",
    "ax.text('2012-12-25', 3850, \"Christmas \", ha='right', **style)\n",
    "\n",
    "# Label the axes\n",
    "ax.set(title='USA births by day of year (1969-1988)',\n",
    "       ylabel='average daily births')\n",
    "\n",
    "# Format the x axis with centered month labels\n",
    "ax.xaxis.set_major_locator(mpl.dates.MonthLocator())\n",
    "ax.xaxis.set_minor_locator(mpl.dates.MonthLocator(bymonthday=15))\n",
    "ax.xaxis.set_major_formatter(plt.NullFormatter())\n",
    "ax.xaxis.set_minor_formatter(mpl.dates.DateFormatter('%h'));"
   ]
  },
  {
   "cell_type": "markdown",
   "metadata": {},
   "source": [
    "**Arrows and Annotation**\n",
    "`plt.annotate()` creates some text and an arrow, and the arrows can be very flexibly specified."
   ]
  },
  {
   "cell_type": "code",
   "execution_count": null,
   "metadata": {},
   "outputs": [],
   "source": [
    "fig, ax = plt.subplots()\n",
    "\n",
    "x = np.linspace(0, 20, 1000)\n",
    "ax.plot(x, np.cos(x))\n",
    "ax.axis('equal')\n",
    "\n",
    "ax.annotate('local maximum', xy=(6.28, 1), xytext=(10, 4),\n",
    "            arrowprops=dict(facecolor='black', shrink=0.05))\n",
    "\n",
    "ax.annotate('local minimum', xy=(5 * np.pi, -1), xytext=(2, -6),\n",
    "            arrowprops=dict(arrowstyle=\"->\",\n",
    "                            connectionstyle=\"angle3,angleA=0,angleB=-90\"));"
   ]
  },
  {
   "cell_type": "markdown",
   "metadata": {},
   "source": [
    "**Customizing Ticks**\n",
    "It will be best for us to understand the object hierarchy of Matplotlib plots. Matplotlib aims to have a Python object representing everything that appears on the plot. \n",
    "\n",
    "Recall that `figure` is the bounding box within which plot elements appear. Each Matplotlib object can act as a container of sub-objects: for example, each `figure` can contain one or more `axes` objects.\n",
    "\n",
    "Each `axes` has attributes `xaxis` and `yaxis` which in turn have attributes that contain all the properties of the lines, ticks, and labels that make up the axes.\n",
    "\n",
    "**Major and Minor Ticks**\n",
    "Within each axis, there is the concept of a *major* tick mark, and a *minor* tick mark. By default, matplotlib rarely makes use of minor ticks, but one place you can see them is within logarithmic plots.\n",
    "\n",
    "**Hiding Ticks or Labels**\n",
    "This can be done using the `plt.NullLocator()` and `plt.NullFormatter()`. This can be especially useful if you want to show a grid of images. "
   ]
  },
  {
   "cell_type": "code",
   "execution_count": null,
   "metadata": {},
   "outputs": [],
   "source": [
    "import matplotlib.pyplot as plt\n",
    "plt.style.use('classic')\n",
    "%matplotlib inline\n",
    "import numpy as np"
   ]
  },
  {
   "cell_type": "code",
   "execution_count": null,
   "metadata": {},
   "outputs": [],
   "source": [
    "fig, ax = plt.subplots(5, 5, figsize=(5, 5))\n",
    "fig.subplots_adjust(hspace=0, wspace=0)\n",
    "\n",
    "# Get some face data from scikit-learn\n",
    "from sklearn.datasets import fetch_olivetti_faces\n",
    "faces = fetch_olivetti_faces().images\n",
    "\n",
    "for i in range(5):\n",
    "    for j in range(5):\n",
    "        ax[i, j].xaxis.set_major_locator(plt.NullLocator())\n",
    "        ax[i, j].yaxis.set_major_locator(plt.NullLocator())\n",
    "        ax[i, j].imshow(faces[10 * i + j], cmap=\"bone\")"
   ]
  },
  {
   "cell_type": "markdown",
   "metadata": {},
   "source": [
    "**Reducing or Increasing the Number of Ticks**\n",
    "One common problem with the default settings is that the smaller subplots can end up with crowded labels. We can fix this with the `plt.MaxNLocator()` which allows us to specify the maximum number of ticks that will be displayed. Given this maximum number, Matplotlib uses internal logic to choose the particular tick locations."
   ]
  },
  {
   "cell_type": "code",
   "execution_count": null,
   "metadata": {},
   "outputs": [],
   "source": [
    "fig, ax = plt.subplots(4, 4, sharex=True, sharey=True)"
   ]
  },
  {
   "cell_type": "code",
   "execution_count": null,
   "metadata": {},
   "outputs": [],
   "source": [
    "# For every axis, set the x and y major locator\n",
    "for axi in ax.flat:\n",
    "    axi.xaxis.set_major_locator(plt.MaxNLocator(3))\n",
    "    axi.yaxis.set_major_locator(plt.MaxNLocator(3))\n",
    "fig"
   ]
  },
  {
   "cell_type": "markdown",
   "metadata": {},
   "source": [
    "**Three-Dimensional Plotting in Matplotlib**\n",
    "Once the submodule `mplot3d` is imported, a three-dimensional axes can be created by passing the keyword `projection='3d'` to any of the normal axes creation routines. \n",
    "\n",
    "Use `%matplotlib notebook` to plot an interactive graph."
   ]
  },
  {
   "cell_type": "code",
   "execution_count": 6,
   "metadata": {},
   "outputs": [],
   "source": [
    "from mpl_toolkits import mplot3d\n",
    "%matplotlib inline\n",
    "import numpy as np\n",
    "import matplotlib.pyplot as plt"
   ]
  },
  {
   "cell_type": "code",
   "execution_count": 7,
   "metadata": {},
   "outputs": [
    {
     "data": {
      "image/png": "[encoded data removed]",
      "text/plain": [
       "<Figure size 432x288 with 1 Axes>"
      ]
     },
     "metadata": {
      "needs_background": "light"
     },
     "output_type": "display_data"
    }
   ],
   "source": [
    "fig = plt.figure()\n",
    "ax = plt.axes(projection='3d')"
   ]
  },
  {
   "cell_type": "markdown",
   "metadata": {},
   "source": [
    "**Three-dimensional Points and Lines**\n",
    "- `ax.plot3D`\n",
    "- `ax.scatter3D`"
   ]
  },
  {
   "cell_type": "code",
   "execution_count": 9,
   "metadata": {},
   "outputs": [
    {
     "data": {
      "image/png": "[encoded data removed]",
      "text/plain": [
       "<Figure size 432x288 with 1 Axes>"
      ]
     },
     "metadata": {
      "needs_background": "light"
     },
     "output_type": "display_data"
    }
   ],
   "source": [
    "ax = plt.axes(projection='3d')\n",
    "\n",
    "# Data for a three-dimensional line\n",
    "zline = np.linspace(0, 15, 1000)\n",
    "xline = np.sin(zline)\n",
    "yline = np.cos(zline)\n",
    "ax.plot3D(xline, yline, zline, 'gray')\n",
    "\n",
    "# Data for three-dimensional scattered points\n",
    "zdata = 15 * np.random.random(100)\n",
    "xdata = np.sin(zdata) + 0.1 * np.random.randn(100)\n",
    "ydata = np.cos(zdata) + 0.1 * np.random.randn(100)\n",
    "ax.scatter3D(xdata, ydata, zdata, c=zdata, cmap='Greens');"
   ]
  },
  {
   "cell_type": "markdown",
   "metadata": {},
   "source": [
    "**Three-dimensional Contour Plots**\n",
    "- `ax.contour3D`"
   ]
  },
  {
   "cell_type": "code",
   "execution_count": 10,
   "metadata": {},
   "outputs": [],
   "source": [
    "def f(x, y):\n",
    "    return np.sin(np.sqrt(x ** 2 + y ** 2))\n",
    "\n",
    "x = np.linspace(-6, 6, 30)\n",
    "y = np.linspace(-6, 6, 30)\n",
    "\n",
    "X, Y = np.meshgrid(x, y)\n",
    "Z = f(X, Y)"
   ]
  },
  {
   "cell_type": "code",
   "execution_count": 11,
   "metadata": {},
   "outputs": [
    {
     "data": {
      "image/png": "[encoded data removed]",
      "text/plain": [
       "<Figure size 432x288 with 1 Axes>"
      ]
     },
     "metadata": {
      "needs_background": "light"
     },
     "output_type": "display_data"
    }
   ],
   "source": [
    "fig = plt.figure()\n",
    "ax = plt.axes(projection='3d')\n",
    "ax.contour3D(X, Y, Z, 50, cmap='binary')\n",
    "ax.set_xlabel('x')\n",
    "ax.set_ylabel('y')\n",
    "ax.set_zlabel('z');"
   ]
  },
  {
   "cell_type": "markdown",
   "metadata": {},
   "source": [
    "Sometimes the default viewing angle is not optimal, in which case we can use the `view_init` method to set the elevation and azimuthal angles. "
   ]
  },
  {
   "cell_type": "code",
   "execution_count": 12,
   "metadata": {},
   "outputs": [
    {
     "data": {
      "image/png": "[encoded data removed]",
      "text/plain": [
       "<Figure size 432x288 with 1 Axes>"
      ]
     },
     "execution_count": 12,
     "metadata": {},
     "output_type": "execute_result"
    }
   ],
   "source": [
    "ax.view_init(60, 35)\n",
    "fig"
   ]
  },
  {
   "cell_type": "code",
   "execution_count": 13,
   "metadata": {},
   "outputs": [
    {
     "data": {
      "image/png": "[encoded data removed]",
      "text/plain": [
       "<Figure size 432x288 with 1 Axes>"
      ]
     },
     "metadata": {
      "needs_background": "light"
     },
     "output_type": "display_data"
    }
   ],
   "source": [
    "ax = plt.axes(projection='3d')\n",
    "ax.plot_surface(X, Y, Z, rstride=1, cstride=1,\n",
    "                cmap='viridis', edgecolor='none')\n",
    "ax.set_title('surface');"
   ]
  },
  {
   "cell_type": "markdown",
   "metadata": {},
   "source": [
    "Note that though the grid of values for a surface plot needs to be two-dimensional, it need not be rectilinear."
   ]
  },
  {
   "cell_type": "code",
   "execution_count": 14,
   "metadata": {},
   "outputs": [
    {
     "data": {
      "image/png": "[encoded data removed]",
      "text/plain": [
       "<Figure size 432x288 with 1 Axes>"
      ]
     },
     "metadata": {
      "needs_background": "light"
     },
     "output_type": "display_data"
    }
   ],
   "source": [
    "\n",
    "r = np.linspace(0, 6, 20)\n",
    "theta = np.linspace(-0.9 * np.pi, 0.8 * np.pi, 40)\n",
    "r, theta = np.meshgrid(r, theta)\n",
    "\n",
    "X = r * np.sin(theta)\n",
    "Y = r * np.cos(theta)\n",
    "Z = f(X, Y)\n",
    "\n",
    "ax = plt.axes(projection='3d')\n",
    "ax.plot_surface(X, Y, Z, rstride=1, cstride=1,\n",
    "                cmap='viridis', edgecolor='none');"
   ]
  },
  {
   "cell_type": "markdown",
   "metadata": {},
   "source": [
    "**Geographic Data with Basemap**\n",
    "Note: More modern solutions such as leaflet or the Goofle Maps API may be a better choice for more intensive map visualizations. "
   ]
  },
  {
   "cell_type": "code",
   "execution_count": null,
   "metadata": {},
   "outputs": [],
   "source": []
  }
 ],
 "metadata": {
  "kernelspec": {
   "display_name": "Python 3",
   "language": "python",
   "name": "python3"
  },
  "language_info": {
   "codemirror_mode": {
    "name": "ipython",
    "version": 3
   },
   "file_extension": ".py",
   "mimetype": "text/x-python",
   "name": "python",
   "nbconvert_exporter": "python",
   "pygments_lexer": "ipython3",
   "version": "3.7.1"
  }
 },
 "nbformat": 4,
 "nbformat_minor": 2
}
