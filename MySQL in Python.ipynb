{
 "cells": [
  {
   "cell_type": "markdown",
   "metadata": {},
   "source": [
    "Procedure to follow in Python to work with MySQL: \n",
    "1. Connect to the database.\n",
    "2. Create an object for your database. \n",
    "3. Execute the SQL query.\n",
    "4. Fetch records from the result. \n",
    "5. Inform the database if you make any changed in the table. \n",
    "\n",
    "\n",
    "We need `mysql.connector` to connect Python script to the MySQL database. "
   ]
  },
  {
   "cell_type": "code",
   "execution_count": 5,
   "metadata": {},
   "outputs": [
    {
     "name": "stdout",
     "output_type": "stream",
     "text": [
      "Collecting mysql-connector-python\n",
      "  Downloading mysql_connector_python-8.0.22-cp37-cp37m-macosx_10_14_x86_64.whl (4.8 MB)\n",
      "\u001b[K     |████████████████████████████████| 4.8 MB 3.4 MB/s eta 0:00:01\n",
      "\u001b[?25hRequirement already satisfied: protobuf>=3.0.0 in /Applications/anaconda3/lib/python3.7/site-packages (from mysql-connector-python) (3.13.0)\n",
      "Requirement already satisfied: six>=1.9 in /Applications/anaconda3/lib/python3.7/site-packages (from protobuf>=3.0.0->mysql-connector-python) (1.15.0)\n",
      "Requirement already satisfied: setuptools in /Applications/anaconda3/lib/python3.7/site-packages (from protobuf>=3.0.0->mysql-connector-python) (50.3.0.post20201006)\n",
      "Installing collected packages: mysql-connector-python\n",
      "Successfully installed mysql-connector-python-8.0.22\n"
     ]
    }
   ],
   "source": [
    "# !pip install mysql-connector-python"
   ]
  },
  {
   "cell_type": "code",
   "execution_count": 8,
   "metadata": {},
   "outputs": [],
   "source": [
    "import mysql.connector as mysql"
   ]
  },
  {
   "cell_type": "markdown",
   "metadata": {},
   "source": [
    "1. Connecting and Creating"
   ]
  },
  {
   "cell_type": "code",
   "execution_count": 11,
   "metadata": {},
   "outputs": [
    {
     "data": {
      "text/plain": [
       "<mysql.connector.connection_cext.CMySQLConnection at 0x7fa046331b00>"
      ]
     },
     "execution_count": 11,
     "metadata": {},
     "output_type": "execute_result"
    }
   ],
   "source": [
    "db = mysql.connect(host='localhost',user='root',passwd='SGbby123!987')"
   ]
  },
  {
   "cell_type": "markdown",
   "metadata": {},
   "source": [
    "2. Creating Databases"
   ]
  },
  {
   "cell_type": "code",
   "execution_count": 20,
   "metadata": {},
   "outputs": [
    {
     "name": "stdout",
     "output_type": "stream",
     "text": [
      "[('applications',), ('datacamp',), ('information_schema',), ('mysql',), ('performance_schema',), ('scraping',), ('sys',)]\n"
     ]
    }
   ],
   "source": [
    "# create an instance of 'cursor' class which is used to execute SQL statements in Python\n",
    "cursor = db.cursor()\n",
    "\n",
    "# execute() compiles a SQL statement\n",
    "cursor.execute('CREATE DATABASE datacamp')\n",
    "\n",
    "# show all databases\n",
    "cursor.execute('SHOW DATABASES')\n",
    "databases = cursor.fetchall() # fetches all the rows from the last executed statement\n",
    "print(databases)"
   ]
  },
  {
   "cell_type": "markdown",
   "metadata": {},
   "source": [
    "3. Creating tables"
   ]
  },
  {
   "cell_type": "code",
   "execution_count": 22,
   "metadata": {},
   "outputs": [],
   "source": [
    "cursor.execute('USE datacamp')\n",
    "# create a table called 'users' in the 'datacamp' database\n",
    "cursor.execute(\"CREATE TABLE users (name VARCHAR(255), user_name VARCHAR(255))\")"
   ]
  },
  {
   "cell_type": "code",
   "execution_count": 26,
   "metadata": {},
   "outputs": [
    {
     "name": "stdout",
     "output_type": "stream",
     "text": [
      "[('users',)]\n"
     ]
    }
   ],
   "source": [
    "# getting all the tables which are present in the 'datacamp' database\n",
    "cursor.execute(\"SHOW TABLES\")\n",
    "tables = cursor.fetchall()\n",
    "print(tables)"
   ]
  },
  {
   "cell_type": "code",
   "execution_count": 35,
   "metadata": {},
   "outputs": [],
   "source": [
    "# drop the users table\n",
    "cursor.execute(\"DROP TABLE users\")\n",
    "\n",
    "# create a new users table with a primary key\n",
    "cursor.execute(\"CREATE TABLE users(\\\n",
    "               id INT(11) NOT NULL AUTO_INCREMENT PRIMARY KEY,\\\n",
    "               name VARCHAR(255),\\\n",
    "               user_name VARCHAR(255))\")"
   ]
  },
  {
   "cell_type": "code",
   "execution_count": 39,
   "metadata": {},
   "outputs": [
    {
     "name": "stdout",
     "output_type": "stream",
     "text": [
      "[('id', b'int', 'NO', 'PRI', None, 'auto_increment'), ('name', b'varchar(255)', 'YES', '', None, ''), ('user_name', b'varchar(255)', 'YES', '', None, '')]\n"
     ]
    }
   ],
   "source": [
    "# Describe the users table\n",
    "# cursor.execute(\"DESC users\")\n",
    "print(cursor.fetchall())"
   ]
  },
  {
   "cell_type": "markdown",
   "metadata": {},
   "source": [
    "4. Inserting Data\n",
    "\n",
    "Inserting a single row"
   ]
  },
  {
   "cell_type": "code",
   "execution_count": 41,
   "metadata": {},
   "outputs": [],
   "source": [
    "cursor.execute(\"INSERT INTO users (name, user_name) VALUES (%s,%s)\",(\"Hafeez\",\"hafeez\"))"
   ]
  },
  {
   "cell_type": "code",
   "execution_count": 42,
   "metadata": {},
   "outputs": [],
   "source": [
    "# to finalize the data we have to run the commit() method of the db object\n",
    "db.commit()"
   ]
  },
  {
   "cell_type": "code",
   "execution_count": 46,
   "metadata": {},
   "outputs": [
    {
     "name": "stdout",
     "output_type": "stream",
     "text": [
      "records inserted: 4\n"
     ]
    }
   ],
   "source": [
    "print(\"records inserted:\",cursor.rowcount)"
   ]
  },
  {
   "cell_type": "markdown",
   "metadata": {},
   "source": [
    "Inserting multiple rows"
   ]
  },
  {
   "cell_type": "code",
   "execution_count": 44,
   "metadata": {},
   "outputs": [],
   "source": [
    "# define the Query\n",
    "query = \"INSERT INTO users (name,user_name) VALUES (%s,%s)\"\n",
    "\n",
    "# storing the values\n",
    "values = [\n",
    "    (\"Peter\", \"peter\"),\n",
    "    (\"Amy\", \"amy\"),\n",
    "    (\"Michael\", \"michael\"),\n",
    "    (\"Hennah\", \"hennah\")\n",
    "]\n",
    "\n",
    "# execute the query\n",
    "cursor.executemany(query,values)\n",
    "\n",
    "db.commit()"
   ]
  },
  {
   "cell_type": "code",
   "execution_count": 47,
   "metadata": {},
   "outputs": [
    {
     "name": "stdout",
     "output_type": "stream",
     "text": [
      "records inserted: 4\n"
     ]
    }
   ],
   "source": [
    "print(\"records inserted:\",cursor.rowcount)"
   ]
  },
  {
   "cell_type": "markdown",
   "metadata": {},
   "source": [
    "5. Select data\n",
    "- to get all of the records from a table, we use `*` in place of the column names. "
   ]
  },
  {
   "cell_type": "code",
   "execution_count": 48,
   "metadata": {},
   "outputs": [
    {
     "name": "stdout",
     "output_type": "stream",
     "text": [
      "(1, 'Hafeez', 'hafeez')\n",
      "(2, 'Peter', 'peter')\n",
      "(3, 'Amy', 'amy')\n",
      "(4, 'Michael', 'michael')\n",
      "(5, 'Hennah', 'hennah')\n"
     ]
    }
   ],
   "source": [
    "# selecting ALL columns \n",
    "cursor.execute(\"SELECT * FROM users\")\n",
    "records = cursor.fetchall()\n",
    "\n",
    "# showing the data\n",
    "for record in records:\n",
    "    print(record)"
   ]
  },
  {
   "cell_type": "code",
   "execution_count": 49,
   "metadata": {},
   "outputs": [
    {
     "name": "stdout",
     "output_type": "stream",
     "text": [
      "('hafeez',)\n",
      "('peter',)\n",
      "('amy',)\n",
      "('michael',)\n",
      "('hennah',)\n"
     ]
    }
   ],
   "source": [
    "# selecting some columns \n",
    "cursor.execute(\"SELECT user_name FROM users\")\n",
    "records = cursor.fetchall()\n",
    "\n",
    "# show data \n",
    "for record in records: \n",
    "    print(record)"
   ]
  },
  {
   "cell_type": "markdown",
   "metadata": {},
   "source": [
    "6. WHERE\n",
    "WHERE is used to select data on some condition. "
   ]
  },
  {
   "cell_type": "code",
   "execution_count": 50,
   "metadata": {},
   "outputs": [
    {
     "name": "stdout",
     "output_type": "stream",
     "text": [
      "(5, 'Hennah', 'hennah')\n"
     ]
    }
   ],
   "source": [
    "query = \"SELECT * FROM users WHERE id = 5\"\n",
    "cursor.execute(query)\n",
    "\n",
    "records = cursor.fetchall()\n",
    "\n",
    "for record in records: \n",
    "    print(record)"
   ]
  },
  {
   "cell_type": "markdown",
   "metadata": {},
   "source": [
    "7. Order By\n",
    "Use ORDER BY to sort the result in ascending or descending order. "
   ]
  },
  {
   "cell_type": "code",
   "execution_count": 56,
   "metadata": {},
   "outputs": [
    {
     "name": "stdout",
     "output_type": "stream",
     "text": [
      "(3, 'Amy', 'amy')\n",
      "(1, 'Hafeez', 'hafeez')\n",
      "(5, 'Hennah', 'hennah')\n",
      "(4, 'Michael', 'michael')\n",
      "(2, 'Peter', 'peter')\n"
     ]
    }
   ],
   "source": [
    "query = \"SELECT * FROM users ORDER BY name\"\n",
    "cursor.execute(query)\n",
    "\n",
    "records = cursor.fetchall()\n",
    "\n",
    "for record in records:\n",
    "    print(record)"
   ]
  },
  {
   "cell_type": "code",
   "execution_count": null,
   "metadata": {},
   "outputs": [],
   "source": [
    "# Descending order\n",
    "query = \"SELECT * FROM users ORDER BY name DESC\"\n",
    "cursor.execute(query)\n",
    "\n",
    "records = cursor.fetchall()\n",
    "\n",
    "for record in records:\n",
    "    print(record)"
   ]
  },
  {
   "cell_type": "markdown",
   "metadata": {},
   "source": [
    "8. Delete\n",
    "The DELETE keyword is used to delete the records from the table. "
   ]
  },
  {
   "cell_type": "code",
   "execution_count": 58,
   "metadata": {},
   "outputs": [],
   "source": [
    "query = \"DELETE FROM users WHERE id = 5\"\n",
    "cursor.execute(query)\n",
    "db.commit()"
   ]
  },
  {
   "cell_type": "markdown",
   "metadata": {},
   "source": [
    "9. Update \n",
    "The UPDATE keyword is used to update the data of a record or records. "
   ]
  },
  {
   "cell_type": "code",
   "execution_count": null,
   "metadata": {},
   "outputs": [],
   "source": [
    "query = \"UPDATE users SET name = 'Kareem' WHERE id = 1\"\n",
    "cursor.execute(query)\n",
    "\n",
    "db.commit()"
   ]
  }
 ],
 "metadata": {
  "kernelspec": {
   "display_name": "Python 3",
   "language": "python",
   "name": "python3"
  },
  "language_info": {
   "codemirror_mode": {
    "name": "ipython",
    "version": 3
   },
   "file_extension": ".py",
   "mimetype": "text/x-python",
   "name": "python",
   "nbconvert_exporter": "python",
   "pygments_lexer": "ipython3",
   "version": "3.7.1"
  }
 },
 "nbformat": 4,
 "nbformat_minor": 4
}
